{
 "cells": [
  {
   "cell_type": "markdown",
   "id": "e9dc33dc",
   "metadata": {},
   "source": [
    "# Q1. What is Bayes' theorem?\n"
   ]
  },
  {
   "cell_type": "markdown",
   "id": "9943a896",
   "metadata": {},
   "source": [
    "It shows the relation between one conditional probability and its inverse\n"
   ]
  },
  {
   "cell_type": "code",
   "execution_count": null,
   "id": "9352df33",
   "metadata": {},
   "outputs": [],
   "source": []
  },
  {
   "cell_type": "markdown",
   "id": "d1664d2f",
   "metadata": {},
   "source": [
    "# Q2. What is the formula for Bayes' theorem?\n"
   ]
  },
  {
   "cell_type": "markdown",
   "id": "8b5e653a",
   "metadata": {},
   "source": [
    "P(a|b) = ( p(b|a) * p(a) ) / p(b)"
   ]
  },
  {
   "cell_type": "code",
   "execution_count": null,
   "id": "375113e0",
   "metadata": {},
   "outputs": [],
   "source": []
  },
  {
   "cell_type": "markdown",
   "id": "cd0ebb77",
   "metadata": {},
   "source": [
    "# Q3. How is Bayes' theorem used in practice?\n"
   ]
  },
  {
   "cell_type": "markdown",
   "id": "770a1690",
   "metadata": {},
   "source": [
    "Bayes Theorem is used to estimate the precision of values and provides a method for calculating the conditional probability. \n",
    "\n",
    "- Credit card fraud detection.\n",
    "- Spam filtering.\n",
    "- Medical diagnosis.\n",
    "- Patterns in customer dataset/marketing campaign performance.\n",
    "- Help robots make decisions."
   ]
  },
  {
   "cell_type": "code",
   "execution_count": null,
   "id": "7beac3e0",
   "metadata": {},
   "outputs": [],
   "source": []
  },
  {
   "cell_type": "markdown",
   "id": "066223e8",
   "metadata": {},
   "source": [
    "# Q4. What is the relationship between Bayes' theorem and conditional probability?\n"
   ]
  },
  {
   "cell_type": "markdown",
   "id": "e5039b41",
   "metadata": {},
   "source": [
    "Bayes' theorem and conditional probability are related in that Bayes' theorem provides a way to calculate conditional probabilities"
   ]
  },
  {
   "cell_type": "code",
   "execution_count": null,
   "id": "5857cb34",
   "metadata": {},
   "outputs": [],
   "source": []
  },
  {
   "cell_type": "markdown",
   "id": "a9774dbd",
   "metadata": {},
   "source": [
    "# Q5. How do you choose which type of Naive Bayes classifier to use for any given problem?\n"
   ]
  },
  {
   "cell_type": "markdown",
   "id": "fdc47ef3",
   "metadata": {},
   "source": [
    "1. Gaussian Naive Bayes: This type of classifier is appropriate for continuous data that follows a normal distribution (i.e., Gaussian distribution). For example, if you are working with numerical data such as height, weight, or temperature, Gaussian Naive Bayes may be a good choice.<br><br>\n",
    "\n",
    "2. Multinomial Naive Bayes: This type of classifier is suitable for discrete data, where the feature vectors represent the frequency of occurrences of certain events. Examples include text classification problems, where the feature vector is a count of the number of occurrences of each word in a document.<br><br>\n",
    "\n",
    "3. Bernoulli Naive Bayes: This type of classifier is similar to Multinomial Naive Bayes but is suitable for binary data where each feature can take on one of two values (e.g., presence or absence of a feature). Bernoulli Naive Bayes is often used in text classification problems where the features are binary indicators of the presence or absence of specific words."
   ]
  },
  {
   "cell_type": "code",
   "execution_count": null,
   "id": "3f250554",
   "metadata": {},
   "outputs": [],
   "source": []
  },
  {
   "cell_type": "markdown",
   "id": "068aeed2",
   "metadata": {},
   "source": [
    "# Q6. Assignment:\n",
    "    You have a dataset with two features, X1 and X2, and two possible classes, A and B. You want to use Naive\n",
    "    Bayes to classify a new instance with features X1 = 3 and X2 = 4. The following table shows the frequency of\n",
    "    each feature value for each class:\n",
    "    Class X1=1 X1=2 X1=3 X2=1 X2=2 X2=3 X2=4\n",
    "    A      3    3    4    4    3    3    3\n",
    "    B      2    2    1    2    2    2    3\n",
    "    Assuming equal prior probabilities for each class, which class would Naive Bayes predict the new instance\n",
    "    to belong to?"
   ]
  },
  {
   "cell_type": "markdown",
   "id": "87e721ad",
   "metadata": {},
   "source": [
    "######################################################################################################################### "
   ]
  },
  {
   "cell_type": "markdown",
   "id": "00ddc73d",
   "metadata": {},
   "source": [
    "![alt text](img/naiv1.jpg)"
   ]
  },
  {
   "cell_type": "markdown",
   "id": "993e76bf",
   "metadata": {},
   "source": [
    "![alt text](img/naiv2.jpg)"
   ]
  },
  {
   "cell_type": "code",
   "execution_count": null,
   "id": "553fcab3",
   "metadata": {},
   "outputs": [],
   "source": []
  }
 ],
 "metadata": {
  "kernelspec": {
   "display_name": "Python 3 (ipykernel)",
   "language": "python",
   "name": "python3"
  },
  "language_info": {
   "codemirror_mode": {
    "name": "ipython",
    "version": 3
   },
   "file_extension": ".py",
   "mimetype": "text/x-python",
   "name": "python",
   "nbconvert_exporter": "python",
   "pygments_lexer": "ipython3",
   "version": "3.9.5"
  }
 },
 "nbformat": 4,
 "nbformat_minor": 5
}
