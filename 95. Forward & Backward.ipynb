{
 "cells": [
  {
   "cell_type": "markdown",
   "id": "ea328fb1",
   "metadata": {},
   "source": [
    "## Q1. What is the purpose of forward propagation in a neural network?\n"
   ]
  },
  {
   "cell_type": "markdown",
   "id": "f54e332b",
   "metadata": {},
   "source": [
    "- The purpose of forward propagation in a neural network is to compute the output of the network given an input. It involves passing the input data through the network's layers, applying activation functions, and utilizing the learned weights and biases to produce a prediction or output."
   ]
  },
  {
   "cell_type": "markdown",
   "id": "011e8a60",
   "metadata": {},
   "source": [
    "***"
   ]
  },
  {
   "cell_type": "markdown",
   "id": "58861f93",
   "metadata": {},
   "source": [
    "## Q2. How is forward propagation implemented mathematically in a single-layer feedforward neural network?\n"
   ]
  },
  {
   "cell_type": "markdown",
   "id": "606542a1",
   "metadata": {},
   "source": [
    "- Initialize the input values: Assign the input values to the corresponding input layer nodes.\n",
    "\n",
    "- Compute the weighted sum: Multiply each input value by its corresponding weight and sum the results. This is equivalent to the dot product of the input vector and weight vector.\n",
    "\n",
    "- Apply the activation function: Pass the weighted sum through an activation function to introduce non-linearity and determine the output of the neuron or node.\n",
    "\n",
    "- Repeat steps 2 and 3 for each neuron in the output layer."
   ]
  },
  {
   "cell_type": "markdown",
   "id": "efcbf7da",
   "metadata": {},
   "source": [
    "***"
   ]
  },
  {
   "cell_type": "markdown",
   "id": "540d658b",
   "metadata": {},
   "source": [
    "## Q3. How are activation functions used during forward propagation?\n"
   ]
  },
  {
   "cell_type": "markdown",
   "id": "5f5ad705",
   "metadata": {},
   "source": [
    "Activation functions are used during forward propagation to introduce non-linearity and enable neural networks to model complex relationships. They apply a transformation to the output of a neuron or layer, allowing the network to learn and capture non-linear patterns in the data. "
   ]
  },
  {
   "cell_type": "markdown",
   "id": "2ba6bb9d",
   "metadata": {},
   "source": [
    "***"
   ]
  },
  {
   "cell_type": "markdown",
   "id": "7768679b",
   "metadata": {},
   "source": [
    "## Q4. What is the role of weights and biases in forward propagation?\n"
   ]
  },
  {
   "cell_type": "markdown",
   "id": "2e1cdf69",
   "metadata": {},
   "source": [
    "The weights represent the strength of the connections between neurons and determine the influence of one neuron's output on another. Biases provide an additional parameter that can shift the activation function, allowing the network to learn different decision boundaries."
   ]
  },
  {
   "cell_type": "markdown",
   "id": "d384ee83",
   "metadata": {},
   "source": [
    "***"
   ]
  },
  {
   "cell_type": "markdown",
   "id": "b3a2e171",
   "metadata": {},
   "source": [
    "## Q5. What is the purpose of applying a softmax function in the output layer during forward propagation?\n"
   ]
  },
  {
   "cell_type": "markdown",
   "id": "c8ae035e",
   "metadata": {},
   "source": [
    "- The purpose of applying a softmax function in the output layer during forward propagation is to convert the raw outputs of the network into probabilities. The softmax function exponentiates and normalizes the output values, ensuring they sum to 1."
   ]
  },
  {
   "cell_type": "markdown",
   "id": "079db39f",
   "metadata": {},
   "source": [
    "***"
   ]
  },
  {
   "cell_type": "markdown",
   "id": "7c1b706f",
   "metadata": {},
   "source": [
    "## Q6. What is the purpose of backward propagation in a neural network?\n"
   ]
  },
  {
   "cell_type": "markdown",
   "id": "a0289ed2",
   "metadata": {},
   "source": [
    "- The purpose  is to update the weights and biases based on the calculated error between the predicted output and the expected output. "
   ]
  },
  {
   "cell_type": "markdown",
   "id": "09c4530d",
   "metadata": {},
   "source": [
    "***"
   ]
  },
  {
   "cell_type": "markdown",
   "id": "eb24a1eb",
   "metadata": {},
   "source": [
    "## Q7. How is backward propagation mathematically calculated in a single-layer feedforward neural network?\n"
   ]
  },
  {
   "cell_type": "markdown",
   "id": "b2d9627d",
   "metadata": {},
   "source": [
    "- Compute the error: Calculate the difference between the predicted output and the expected output.\n",
    "\n",
    "- Compute the gradient of the error with respect to the weights and biases: This is done by taking the partial derivatives of the error with respect to the weights and biases.\n",
    "\n",
    "- Update the weights and biases: Adjust the weights and biases by moving in the opposite direction of the gradient, scaled by a learning rate. This update step is based on the gradient descent optimization algorithm."
   ]
  },
  {
   "cell_type": "markdown",
   "id": "26515a67",
   "metadata": {},
   "source": [
    "***"
   ]
  },
  {
   "cell_type": "markdown",
   "id": "8b29beaa",
   "metadata": {},
   "source": [
    "## Q8. Can you explain the concept of the chain rule and its application in backward propagation?\n"
   ]
  },
  {
   "cell_type": "markdown",
   "id": "a49caad5",
   "metadata": {},
   "source": [
    "- The chain rule is a fundamental concept in calculus and is extensively used in backward propagation to calculate the gradients and update the parameters of a neural network.\n",
    "- It involves multiplying the local gradients at each layer with the gradients from the subsequent layers, allowing the error to flow backward and providing the necessary information to update the weights and biases."
   ]
  },
  {
   "cell_type": "markdown",
   "id": "8c7b386d",
   "metadata": {},
   "source": [
    "***"
   ]
  },
  {
   "cell_type": "markdown",
   "id": "57b55a6d",
   "metadata": {},
   "source": [
    "## Q9. What are some common challenges or issues that can occur during backward propagation, and how can they be addressed?"
   ]
  },
  {
   "cell_type": "markdown",
   "id": "ce810074",
   "metadata": {},
   "source": [
    "- Some common challenges or issues that can occur during backward propagation include the vanishing gradient problem and the exploding gradient problem.\n",
    " - The vanishing gradient problem refers to the situation where the gradients diminish as they propagate backward through deep networks, leading to slow or ineffective learning.\n",
    " - The exploding gradient problem occurs when the gradients grow exponentially, causing instability and convergence issues.   "
   ]
  },
  {
   "cell_type": "code",
   "execution_count": null,
   "id": "9b533a41",
   "metadata": {},
   "outputs": [],
   "source": []
  }
 ],
 "metadata": {
  "kernelspec": {
   "display_name": "Python 3 (ipykernel)",
   "language": "python",
   "name": "python3"
  },
  "language_info": {
   "codemirror_mode": {
    "name": "ipython",
    "version": 3
   },
   "file_extension": ".py",
   "mimetype": "text/x-python",
   "name": "python",
   "nbconvert_exporter": "python",
   "pygments_lexer": "ipython3",
   "version": "3.9.5"
  }
 },
 "nbformat": 4,
 "nbformat_minor": 5
}
