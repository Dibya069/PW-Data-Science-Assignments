{
 "cells": [
  {
   "cell_type": "markdown",
   "metadata": {},
   "source": [
    "## Q1- Explaine the following with an example:"
   ]
  },
  {
   "cell_type": "markdown",
   "metadata": {},
   "source": [
    "### a) Artificial Intelligence\n"
   ]
  },
  {
   "cell_type": "markdown",
   "metadata": {},
   "source": [
    "- Definition: Artificial Intelligence refers to the simulation of human intelligence in machines to perform tasks that typically require human intelligence, such as speech recognition, problem-solving, learning, and decision-making.\n",
    "- Example: Virtual Personal Assistants like Siri or Google Assistant use AI to understand natural language commands, answer questions, and perform tasks."
   ]
  },
  {
   "cell_type": "markdown",
   "metadata": {},
   "source": [
    "### b) Machine Learning"
   ]
  },
  {
   "cell_type": "markdown",
   "metadata": {},
   "source": [
    "- Definition: Machine Learning is a subset of Artificial Intelligence that focuses on the development of algorithms and statistical models that enable computers to perform tasks without explicit programming. In ML, systems learn from data and improve their performance over time.\n",
    "\n",
    "- Example:Spam Email Filter: An ML model can be trained to recognize spam emails by learning from a dataset of labeled emails (spam or not spam). It can then classify new, unseen emails as spam or not based on its learned patterns."
   ]
  },
  {
   "cell_type": "markdown",
   "metadata": {},
   "source": [
    "\n",
    "### c) Deep Learning"
   ]
  },
  {
   "cell_type": "markdown",
   "metadata": {},
   "source": [
    "- Definition: Deep Learning is a subset of Machine Learning that involves neural networks with multiple layers (deep neural networks). These networks, inspired by the structure of the human brain, can automatically learn hierarchical representations of data.\n",
    "\n",
    "- Example:Image Recognition: Deep Learning is widely used in image recognition tasks. For instance, a deep neural network can be trained to recognize objects in images, such as identifying cats or dogs in photographs."
   ]
  },
  {
   "cell_type": "markdown",
   "metadata": {},
   "source": [
    "****"
   ]
  },
  {
   "cell_type": "markdown",
   "metadata": {},
   "source": [
    "## Q2- What is supKrvised learning? List some examples of supervised learning."
   ]
  },
  {
   "cell_type": "markdown",
   "metadata": {},
   "source": [
    "Supervised learning is a type of machine learning where the algorithm is trained on a labeled dataset, which means the input data is paired with the corresponding correct output.\n",
    "- Classification: Predicting whether an email is spam or not.\n",
    "- Regression: Predicting house prices based on features like square footage, number of bedrooms, etc."
   ]
  },
  {
   "cell_type": "markdown",
   "metadata": {},
   "source": [
    "***"
   ]
  },
  {
   "cell_type": "markdown",
   "metadata": {},
   "source": [
    "\n",
    "## Q3- What is unsupervised learning? List some examples of unsupervised learning."
   ]
  },
  {
   "cell_type": "markdown",
   "metadata": {},
   "source": [
    "Unsupervised learning is a type of machine learning where the algorithm is given unlabeled data and must find patterns or relationships in the data without explicit guidance.\n",
    "- Clustering: Grouping similar customers based on their purchase behavior.\n",
    "- Dimensionality Reduction: Reducing the number of features in a dataset."
   ]
  },
  {
   "cell_type": "markdown",
   "metadata": {},
   "source": [
    "***"
   ]
  },
  {
   "cell_type": "markdown",
   "metadata": {},
   "source": [
    "\n",
    "## Q4- What is the difference between AI, ML, DL, and DS?"
   ]
  },
  {
   "cell_type": "markdown",
   "metadata": {},
   "source": [
    "- AI (Artificial Intelligence) is a broader concept referring to machines or systems that can perform tasks that typically require human intelligence.\n",
    "- ML (Machine Learning) is a subset of AI that focuses on developing algorithms and statistical models that enable computers to perform tasks without explicit programming.\n",
    "- DL (Deep Learning) is a subset of ML that involves neural networks with multiple layers (deep neural networks).\n",
    "- DS (Data Science) is a field that involves extracting insights and knowledge from structured and unstructured data."
   ]
  },
  {
   "cell_type": "markdown",
   "metadata": {},
   "source": [
    "***"
   ]
  },
  {
   "cell_type": "markdown",
   "metadata": {},
   "source": [
    "\n",
    "## Q5- What are the main differences between supervised, unsupervised, and semi-supervised learning?"
   ]
  },
  {
   "cell_type": "markdown",
   "metadata": {},
   "source": [
    "- Supervised Learning: The algorithm is trained on a labeled dataset with input-output pairs.\n",
    "- Unsupervised Learning: The algorithm is given unlabeled data and must find patterns without explicit guidance.\n",
    "- Semi-Supervised Learning: A combination of both, where the algorithm is trained on a dataset with both labeled and unlabeled data."
   ]
  },
  {
   "cell_type": "markdown",
   "metadata": {},
   "source": [
    "***"
   ]
  },
  {
   "cell_type": "markdown",
   "metadata": {},
   "source": [
    "\n",
    "## Q6- What is train, test and validation split? Explain the importance of each term."
   ]
  },
  {
   "cell_type": "markdown",
   "metadata": {},
   "source": [
    "- Train Set: The portion of the dataset used to train the machine learning model.\n",
    "- Test Set: The portion of the dataset used to evaluate the model's performance.\n",
    "- Validation Set: An additional dataset used during training to tune hyperparameters and avoid overfitting. It helps assess the model's generalization to new data."
   ]
  },
  {
   "cell_type": "markdown",
   "metadata": {},
   "source": [
    "***"
   ]
  },
  {
   "cell_type": "markdown",
   "metadata": {},
   "source": [
    "\n",
    "## Q7- How can unsupervised learning be used in anomaly detection?"
   ]
  },
  {
   "cell_type": "markdown",
   "metadata": {},
   "source": [
    "Unsupervised learning can be used in anomaly detection by allowing the algorithm to learn the normal patterns or behavior within the data. Any deviation from these learned patterns can be considered an anomaly or outlier."
   ]
  },
  {
   "cell_type": "markdown",
   "metadata": {},
   "source": [
    "***"
   ]
  },
  {
   "cell_type": "markdown",
   "metadata": {},
   "source": [
    "\n",
    "## Q8- List down some commonly used supervised learning algorithms and unsupervised learning algorithms."
   ]
  },
  {
   "cell_type": "markdown",
   "metadata": {},
   "source": [
    "Supervised Learning Algorithms:\n",
    "- Linear Regression\n",
    "- Decision Trees\n",
    "- Support Vector Machines (SVM)\n",
    "- Random Forest\n",
    "- Neural Networks\n",
    "\n",
    "Unsupervised Learning Algorithms:\n",
    "- K-Means Clustering\n",
    "- Hierarchical Clustering\n",
    "- Principal Component Analysis (PCA)\n",
    "- t-Distributed Stochastic Neighbor Embedding (t-SNE)\n",
    "- Association Rules Algorithms (e.g., Apriori)"
   ]
  },
  {
   "cell_type": "markdown",
   "metadata": {},
   "source": []
  }
 ],
 "metadata": {
  "language_info": {
   "name": "python"
  }
 },
 "nbformat": 4,
 "nbformat_minor": 2
}
