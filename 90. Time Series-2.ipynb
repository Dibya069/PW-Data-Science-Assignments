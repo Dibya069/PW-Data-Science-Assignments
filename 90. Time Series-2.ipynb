{
 "cells": [
  {
   "cell_type": "markdown",
   "id": "eaca3d78",
   "metadata": {},
   "source": [
    "## Q1. What is meant by time-dependent seasonal components?\n"
   ]
  },
  {
   "cell_type": "markdown",
   "id": "a848233e",
   "metadata": {},
   "source": [
    "- Time-dependent seasonal components refer to patterns or variations in a time series that occur periodically and are influenced by the specific time or season"
   ]
  },
  {
   "cell_type": "markdown",
   "id": "ab9de04b",
   "metadata": {},
   "source": [
    "***"
   ]
  },
  {
   "cell_type": "markdown",
   "id": "9419634e",
   "metadata": {},
   "source": [
    "## Q2. How can time-dependent seasonal components be identified in time series data?\n"
   ]
  },
  {
   "cell_type": "markdown",
   "id": "a6959413",
   "metadata": {},
   "source": [
    "- Visual inspection: Plotting the data and observing recurring patterns that vary across different time periods.\n",
    "- Decomposition: Decomposing the time series into its components, including trend, seasonality, and residual, and analyzing the variations in the seasonal component over time.\n",
    "- Autocorrelation analysis: Examining the autocorrelation structure of the time series to identify recurring patterns at specific lags, which can indicate the presence of seasonal components."
   ]
  },
  {
   "cell_type": "markdown",
   "id": "01650fc3",
   "metadata": {},
   "source": [
    "***"
   ]
  },
  {
   "cell_type": "markdown",
   "id": "9675f8d5",
   "metadata": {},
   "source": [
    "## Q3. What are the factors that can influence time-dependent seasonal components?\n"
   ]
  },
  {
   "cell_type": "markdown",
   "id": "3bfe5568",
   "metadata": {},
   "source": [
    "- Natural factors: Seasonal variations can be influenced by natural factors such as weather conditions, daylight hours, or biological cycles.\n",
    "- Calendar effects: Time-dependent seasonal patterns can be influenced by calendar events, such as holidays, weekends, or specific days of the week.\n",
    "- Socioeconomic factors: Seasonal variations can be driven by socioeconomic factors, such as consumer behavior, cultural events, or economic cycles.\n",
    "- External events: Unexpected events or shocks, such as pandemics, natural disasters, or economic crises, can disrupt seasonal patterns and introduce time-dependent changes."
   ]
  },
  {
   "cell_type": "markdown",
   "id": "bc7e3e2e",
   "metadata": {},
   "source": [
    "***"
   ]
  },
  {
   "cell_type": "markdown",
   "id": "4212cc57",
   "metadata": {},
   "source": [
    "## Q4. How are autoregression models used in time series analysis and forecasting?\n"
   ]
  },
  {
   "cell_type": "markdown",
   "id": "bb1a59a0",
   "metadata": {},
   "source": [
    " Autoregression models, such as Autoregressive (AR) models, are used in time series analysis and forecasting to capture the relationship between an observation and a lagged set of observations."
   ]
  },
  {
   "cell_type": "markdown",
   "id": "19297e5c",
   "metadata": {},
   "source": [
    "***"
   ]
  },
  {
   "cell_type": "markdown",
   "id": "4cc30b0d",
   "metadata": {},
   "source": [
    "## Q5. How do you use autoregression models to make predictions for future time points?\n"
   ]
  },
  {
   "cell_type": "markdown",
   "id": "0b0631f8",
   "metadata": {},
   "source": [
    "Autoregression models are used to make predictions for future time points by utilizing the relationship between the current observation and its past values. The model uses the coefficients estimated from the historical data to generate forecasts. "
   ]
  },
  {
   "cell_type": "markdown",
   "id": "cefd4b81",
   "metadata": {},
   "source": [
    "***"
   ]
  },
  {
   "cell_type": "markdown",
   "id": "da381ec9",
   "metadata": {},
   "source": [
    "## Q6. What is a moving average (MA) model and how does it differ from other time series models?\n"
   ]
  },
  {
   "cell_type": "markdown",
   "id": "6bffe913",
   "metadata": {},
   "source": [
    "-  A moving average (MA) model is a time series model that focuses on the relationship between an observation and a linear combination of past forecast errors, Unlike autoregressive models that depend on past observations, MA models depend on past forecast errors or residuals. \n",
    "- MA model emphasizes the short-term random variations in the data, while autoregressive models consider the long-term dependencies or trends."
   ]
  },
  {
   "cell_type": "markdown",
   "id": "62dfce5b",
   "metadata": {},
   "source": [
    "***"
   ]
  },
  {
   "cell_type": "markdown",
   "id": "d34e7e97",
   "metadata": {},
   "source": [
    "## Q7. What is a mixed ARMA model and how does it differ from an AR or MA model?"
   ]
  },
  {
   "cell_type": "markdown",
   "id": "9fa31151",
   "metadata": {},
   "source": [
    "- A mixed Autoregressive Moving Average (ARMA) model combines both autoregressive (AR) and moving average (MA) components to capture the serial correlation and random fluctuations in a time series. \n",
    "- The main difference between an ARMA model and an AR or MA model is that an ARMA model captures both short-term and long-term dependencies in a time series."
   ]
  }
 ],
 "metadata": {
  "kernelspec": {
   "display_name": "Python 3 (ipykernel)",
   "language": "python",
   "name": "python3"
  },
  "language_info": {
   "codemirror_mode": {
    "name": "ipython",
    "version": 3
   },
   "file_extension": ".py",
   "mimetype": "text/x-python",
   "name": "python",
   "nbconvert_exporter": "python",
   "pygments_lexer": "ipython3",
   "version": "3.9.5"
  }
 },
 "nbformat": 4,
 "nbformat_minor": 5
}
