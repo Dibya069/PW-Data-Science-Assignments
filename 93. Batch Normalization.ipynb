{
 "cells": [
  {
   "cell_type": "markdown",
   "id": "8fa78faa",
   "metadata": {},
   "source": [
    "# Theroy and Concepts"
   ]
  },
  {
   "cell_type": "markdown",
   "id": "2e2f28be",
   "metadata": {},
   "source": [
    "## 1. Explain the concept of Batch Normalization in the context of ANN."
   ]
  },
  {
   "cell_type": "markdown",
   "id": "626a15c2",
   "metadata": {},
   "source": [
    "- Batch Normalization helps stabilize and optimize the training process of ANNs by normalizing the inputs and reducing the internal covariate shift, leading to faster convergence, improved performance, and better generalization."
   ]
  },
  {
   "cell_type": "markdown",
   "id": "f82b8c6e",
   "metadata": {},
   "source": [
    "---"
   ]
  },
  {
   "cell_type": "markdown",
   "id": "ee1ecb42",
   "metadata": {},
   "source": [
    "## 2. Describe the benifits of using Batch Normalization during Training. "
   ]
  },
  {
   "cell_type": "markdown",
   "id": "4f05405d",
   "metadata": {},
   "source": [
    "- Batch Normalization provides significant benefits during training by stabilizing the network, reducing sensitivity to weight initialization, allowing for higher learning rates, mitigating gradient problems, improving model generalization, and simplifying the hyperparameter tuning process. It has become a standard technique in deep learning to improve the training and performance of neural networks."
   ]
  },
  {
   "cell_type": "markdown",
   "id": "d6ab9507",
   "metadata": {},
   "source": [
    "---"
   ]
  },
  {
   "cell_type": "markdown",
   "id": "500b18da",
   "metadata": {},
   "source": [
    "## 3. Discuss the working principle of Batch Normalization, Including the normalization step and the learnable parameters"
   ]
  },
  {
   "cell_type": "markdown",
   "id": "f4664e20",
   "metadata": {},
   "source": [
    "- The working principle of Batch Normalization involves two key steps: the normalization step and the learnable parameters."
   ]
  },
  {
   "cell_type": "markdown",
   "id": "4e14879b",
   "metadata": {},
   "source": [
    "1. Normalization Step:\n",
    "- Given a mini-batch of inputs to a layer, Batch Normalization calculates the mean (μ) and variance (σ^2) of the batch.\n",
    "- It then normalizes the inputs by subtracting the mean and dividing by the standard deviation (σ) to ensure they have zero mean and unit variance.\n",
    "- The normalized inputs are then scaled by a learnable parameter (γ) and shifted by another learnable parameter (β)."
   ]
  },
  {
   "cell_type": "markdown",
   "id": "6e08464e",
   "metadata": {},
   "source": [
    "2. Learnable Parameters:\n",
    "- The learnable parameters γ and β are introduced to allow the network to learn the optimal scale and shift for the normalized inputs.\n",
    "- These parameters are adjusted during training using gradient descent to minimize the overall loss of the network.\n",
    "- By adjusting γ and β, the network can learn to scale and shift the normalized inputs, effectively learning the optimal representation of the data."
   ]
  },
  {
   "cell_type": "markdown",
   "id": "dbf030a9",
   "metadata": {},
   "source": [
    "---\n",
    "---"
   ]
  },
  {
   "cell_type": "markdown",
   "id": "75d67022",
   "metadata": {},
   "source": [
    "# Implementation"
   ]
  },
  {
   "cell_type": "markdown",
   "id": "233c5d8a",
   "metadata": {},
   "source": [
    "## 1. Choose a dataset of your choice. (i.e, MINIST, CIFAR-10) and preprocess it."
   ]
  },
  {
   "cell_type": "code",
   "execution_count": 1,
   "id": "f0c50184",
   "metadata": {},
   "outputs": [],
   "source": [
    "# Importing Libraries\n",
    "import tensorflow as tf\n",
    "import matplotlib.pyplot as plt\n",
    "import numpy as np\n",
    "import pandas as pd\n",
    "import seaborn as sns\n",
    "import os"
   ]
  },
  {
   "cell_type": "code",
   "execution_count": 2,
   "id": "86a7c5f9",
   "metadata": {},
   "outputs": [],
   "source": [
    "cifar = tf.keras.datasets.cifar10\n",
    "(X_train_full, y_train_full), (X_test, y_test) = cifar.load_data()"
   ]
  },
  {
   "cell_type": "code",
   "execution_count": 3,
   "id": "fa9f17c8",
   "metadata": {},
   "outputs": [
    {
     "data": {
      "text/plain": [
       "(10000, 32, 32, 3)"
      ]
     },
     "execution_count": 3,
     "metadata": {},
     "output_type": "execute_result"
    }
   ],
   "source": [
    "X_test.shape"
   ]
  },
  {
   "cell_type": "code",
   "execution_count": 4,
   "id": "9c946bf0",
   "metadata": {},
   "outputs": [],
   "source": [
    "# create a validation data set from the full training data \n",
    "# Scale the data between 0 to 1 by dividing it by 255. as its an unsigned data between 0-255 range\n",
    "X_valid, X_train = X_train_full[:5000] / 255., X_train_full[5000:] / 255.\n",
    "y_valid, y_train = y_train_full[:5000], y_train_full[5000:]\n",
    "\n",
    "# scale the test set as well\n",
    "X_test = X_test / 255."
   ]
  },
  {
   "cell_type": "code",
   "execution_count": 5,
   "id": "8194d589",
   "metadata": {},
   "outputs": [
    {
     "data": {
      "text/plain": [
       "45000"
      ]
     },
     "execution_count": 5,
     "metadata": {},
     "output_type": "execute_result"
    }
   ],
   "source": [
    "len(X_train_full[5000:] )\n"
   ]
  },
  {
   "cell_type": "code",
   "execution_count": 6,
   "id": "3c54124c",
   "metadata": {},
   "outputs": [
    {
     "data": {
      "image/png": "[encoded data removed]",
      "text/plain": [
       "<Figure size 432x288 with 1 Axes>"
      ]
     },
     "metadata": {
      "needs_background": "light"
     },
     "output_type": "display_data"
    }
   ],
   "source": [
    "# Lets view some data \n",
    "plt.imshow(X_train[0], cmap=\"binary\")\n",
    "plt.show()"
   ]
  },
  {
   "cell_type": "markdown",
   "id": "968042de",
   "metadata": {},
   "source": [
    "---"
   ]
  },
  {
   "cell_type": "markdown",
   "id": "bcabed14",
   "metadata": {},
   "source": [
    "## 2. Implementation of simple feedforward neural network using any deep learning framework/library(i.e, TenseroFlow, PyTorch)."
   ]
  },
  {
   "cell_type": "code",
   "execution_count": 7,
   "id": "6c180df0",
   "metadata": {},
   "outputs": [],
   "source": [
    "# Creating layers of ANN with out batch normalization\n",
    "\n",
    "LAYERS1 = [tf.keras.layers.Flatten(input_shape=[32, 32, 3], name=\"inputLayer\"),\n",
    "          tf.keras.layers.Dense(300, activation=\"relu\", name=\"hiddenLayer1\"),\n",
    "          tf.keras.layers.Dense(100, activation=\"relu\", name=\"hiddenLayer2\"),\n",
    "          tf.keras.layers.Dense(10, activation=\"softmax\", name=\"outputLayer\")]\n",
    "\n",
    "model_clf1 = tf.keras.models.Sequential(LAYERS1)"
   ]
  },
  {
   "cell_type": "code",
   "execution_count": 8,
   "id": "c497594c",
   "metadata": {},
   "outputs": [],
   "source": [
    "# Creating layers of ANN with batch normalization\n",
    "\n",
    "LAYERS2 = [tf.keras.layers.Flatten(input_shape=[32, 32, 3], name=\"inputLayer\"),\n",
    "          tf.keras.layers.Dense(300, activation=\"relu\", name=\"hiddenLayer1\"),\n",
    "          tf.keras.layers.Dense(100, activation=\"relu\", name=\"hiddenLayer2\"),\n",
    "          tf.keras.layers.BatchNormalization(),\n",
    "          tf.keras.layers.Dense(10, activation=\"softmax\", name=\"outputLayer\")]\n",
    "\n",
    "model_clf2 = tf.keras.models.Sequential(LAYERS2)"
   ]
  },
  {
   "cell_type": "code",
   "execution_count": 9,
   "id": "ac434931",
   "metadata": {},
   "outputs": [],
   "source": [
    "LOSS_FUNCTION = \"sparse_categorical_crossentropy\" # use => tf.losses.sparse_categorical_crossentropy\n",
    "OPTIMIZER = \"SGD\" # or use with custom learning rate=> tf.keras.optimizers.SGD(0.02)\n",
    "METRICS = [\"accuracy\"]\n",
    "\n",
    "model_clf1.compile(loss=LOSS_FUNCTION,\n",
    "              optimizer=OPTIMIZER,\n",
    "              metrics=METRICS)\n",
    "\n",
    "model_clf2.compile(loss=LOSS_FUNCTION,\n",
    "              optimizer=OPTIMIZER,\n",
    "              metrics=METRICS)"
   ]
  },
  {
   "cell_type": "markdown",
   "id": "7740144d",
   "metadata": {},
   "source": [
    "---"
   ]
  },
  {
   "cell_type": "markdown",
   "id": "7625ecae",
   "metadata": {},
   "source": [
    "## 3. Train the neural network on the choosen dataset without using batch normalization."
   ]
  },
  {
   "cell_type": "code",
   "execution_count": 12,
   "id": "0219defb",
   "metadata": {},
   "outputs": [
    {
     "name": "stdout",
     "output_type": "stream",
     "text": [
      "Epoch 1/10\n",
      "1407/1407 [==============================] - 21s 13ms/step - loss: 1.3536 - accuracy: 0.5196 - val_loss: 1.7022 - val_accuracy: 0.4184\n",
      "Epoch 2/10\n",
      "1407/1407 [==============================] - 18s 13ms/step - loss: 1.3287 - accuracy: 0.5294 - val_loss: 1.4897 - val_accuracy: 0.4736\n",
      "Epoch 3/10\n",
      "1407/1407 [==============================] - 18s 13ms/step - loss: 1.3102 - accuracy: 0.5355 - val_loss: 1.5338 - val_accuracy: 0.4596\n",
      "Epoch 4/10\n",
      "1407/1407 [==============================] - 16s 12ms/step - loss: 1.2907 - accuracy: 0.5416 - val_loss: 1.4697 - val_accuracy: 0.4868\n",
      "Epoch 5/10\n",
      "1407/1407 [==============================] - 16s 11ms/step - loss: 1.2733 - accuracy: 0.5477 - val_loss: 1.4135 - val_accuracy: 0.4926\n",
      "Epoch 6/10\n",
      "1407/1407 [==============================] - 15s 11ms/step - loss: 1.2581 - accuracy: 0.5549 - val_loss: 2.1199 - val_accuracy: 0.3380\n",
      "Epoch 7/10\n",
      "1407/1407 [==============================] - 15s 11ms/step - loss: 1.2379 - accuracy: 0.5619 - val_loss: 1.4966 - val_accuracy: 0.4654\n",
      "Epoch 8/10\n",
      "1407/1407 [==============================] - 19s 14ms/step - loss: 1.2251 - accuracy: 0.5650 - val_loss: 1.7923 - val_accuracy: 0.4152\n",
      "Epoch 9/10\n",
      "1407/1407 [==============================] - 22s 16ms/step - loss: 1.2072 - accuracy: 0.5713 - val_loss: 1.4922 - val_accuracy: 0.4798\n",
      "Epoch 10/10\n",
      "1407/1407 [==============================] - 18s 13ms/step - loss: 1.1900 - accuracy: 0.5794 - val_loss: 1.3915 - val_accuracy: 0.5170\n"
     ]
    }
   ],
   "source": [
    "# training\n",
    "\n",
    "EPOCHS = 10\n",
    "VALIDATION_SET = (X_valid, y_valid)\n",
    "\n",
    "his1 = model_clf1.fit(X_train, y_train, epochs=EPOCHS, validation_data=VALIDATION_SET, batch_size=32)"
   ]
  },
  {
   "cell_type": "markdown",
   "id": "c4a5643e",
   "metadata": {},
   "source": [
    "---"
   ]
  },
  {
   "cell_type": "markdown",
   "id": "073b69e2",
   "metadata": {},
   "source": [
    "## 4. Implement Batch normalization layer in neural network and train the model again."
   ]
  },
  {
   "cell_type": "code",
   "execution_count": 23,
   "id": "475453c0",
   "metadata": {},
   "outputs": [
    {
     "name": "stdout",
     "output_type": "stream",
     "text": [
      "Epoch 1/10\n",
      "1407/1407 [==============================] - 21s 15ms/step - loss: 1.3056 - accuracy: 0.5393 - val_loss: 1.5568 - val_accuracy: 0.4676\n",
      "Epoch 2/10\n",
      "1407/1407 [==============================] - 25s 18ms/step - loss: 1.2928 - accuracy: 0.5458 - val_loss: 1.7894 - val_accuracy: 0.4396\n",
      "Epoch 3/10\n",
      "1407/1407 [==============================] - 21s 15ms/step - loss: 1.2789 - accuracy: 0.5503 - val_loss: 1.7123 - val_accuracy: 0.4512\n",
      "Epoch 4/10\n",
      "1407/1407 [==============================] - 15s 10ms/step - loss: 1.2587 - accuracy: 0.5574 - val_loss: 1.6141 - val_accuracy: 0.4438\n",
      "Epoch 5/10\n",
      "1407/1407 [==============================] - 20s 14ms/step - loss: 1.2515 - accuracy: 0.5576 - val_loss: 1.8107 - val_accuracy: 0.4328\n",
      "Epoch 6/10\n",
      "1407/1407 [==============================] - 24s 17ms/step - loss: 1.2303 - accuracy: 0.5668 - val_loss: 1.5182 - val_accuracy: 0.4908\n",
      "Epoch 7/10\n",
      "1407/1407 [==============================] - 17s 12ms/step - loss: 1.2258 - accuracy: 0.5660 - val_loss: 1.4876 - val_accuracy: 0.4876\n",
      "Epoch 8/10\n",
      "1407/1407 [==============================] - 16s 12ms/step - loss: 1.2056 - accuracy: 0.5717 - val_loss: 1.4288 - val_accuracy: 0.4970\n",
      "Epoch 9/10\n",
      "1407/1407 [==============================] - 24s 17ms/step - loss: 1.1912 - accuracy: 0.5791 - val_loss: 1.6242 - val_accuracy: 0.4526\n",
      "Epoch 10/10\n",
      "1407/1407 [==============================] - 32s 23ms/step - loss: 1.1852 - accuracy: 0.5826 - val_loss: 1.4580 - val_accuracy: 0.5076\n"
     ]
    }
   ],
   "source": [
    "# training\n",
    "\n",
    "EPOCHS = 10\n",
    "VALIDATION_SET = (X_valid, y_valid)\n",
    "\n",
    "his2 = model_clf2.fit(X_train, y_train, epochs=EPOCHS, validation_data=VALIDATION_SET, batch_size=32)"
   ]
  },
  {
   "cell_type": "markdown",
   "id": "5b33ba4b",
   "metadata": {},
   "source": [
    "---"
   ]
  },
  {
   "cell_type": "markdown",
   "id": "a454a4ae",
   "metadata": {},
   "source": [
    "## 5. Compare the training and Validation performance"
   ]
  },
  {
   "cell_type": "markdown",
   "id": "c09b35a6",
   "metadata": {},
   "source": [
    "#### with out Batch Normalization"
   ]
  },
  {
   "cell_type": "code",
   "execution_count": 19,
   "id": "5466931e",
   "metadata": {},
   "outputs": [
    {
     "data": {
      "text/html": [
       "<div>\n",
       "<style scoped>\n",
       "    .dataframe tbody tr th:only-of-type {\n",
       "        vertical-align: middle;\n",
       "    }\n",
       "\n",
       "    .dataframe tbody tr th {\n",
       "        vertical-align: top;\n",
       "    }\n",
       "\n",
       "    .dataframe thead th {\n",
       "        text-align: right;\n",
       "    }\n",
       "</style>\n",
       "<table border=\"1\" class=\"dataframe\">\n",
       "  <thead>\n",
       "    <tr style=\"text-align: right;\">\n",
       "      <th></th>\n",
       "      <th>loss</th>\n",
       "      <th>accuracy</th>\n",
       "      <th>val_loss</th>\n",
       "      <th>val_accuracy</th>\n",
       "    </tr>\n",
       "  </thead>\n",
       "  <tbody>\n",
       "    <tr>\n",
       "      <th>9</th>\n",
       "      <td>1.19001</td>\n",
       "      <td>0.5794</td>\n",
       "      <td>1.391457</td>\n",
       "      <td>0.517</td>\n",
       "    </tr>\n",
       "  </tbody>\n",
       "</table>\n",
       "</div>"
      ],
      "text/plain": [
       "      loss  accuracy  val_loss  val_accuracy\n",
       "9  1.19001    0.5794  1.391457         0.517"
      ]
     },
     "execution_count": 19,
     "metadata": {},
     "output_type": "execute_result"
    }
   ],
   "source": [
    "pd.DataFrame(his1.history).tail(1)"
   ]
  },
  {
   "cell_type": "code",
   "execution_count": 20,
   "id": "f5bddcfb",
   "metadata": {},
   "outputs": [
    {
     "data": {
      "text/plain": [
       "<AxesSubplot:>"
      ]
     },
     "execution_count": 20,
     "metadata": {},
     "output_type": "execute_result"
    },
    {
     "data": {
      "image/png": "[encoded data removed]",
      "text/plain": [
       "<Figure size 432x288 with 1 Axes>"
      ]
     },
     "metadata": {
      "needs_background": "light"
     },
     "output_type": "display_data"
    }
   ],
   "source": [
    "pd.DataFrame(his1.history).plot()"
   ]
  },
  {
   "cell_type": "markdown",
   "id": "b994a228",
   "metadata": {},
   "source": [
    "#### with Batch Normalization"
   ]
  },
  {
   "cell_type": "code",
   "execution_count": 24,
   "id": "435a87d0",
   "metadata": {},
   "outputs": [
    {
     "data": {
      "text/html": [
       "<div>\n",
       "<style scoped>\n",
       "    .dataframe tbody tr th:only-of-type {\n",
       "        vertical-align: middle;\n",
       "    }\n",
       "\n",
       "    .dataframe tbody tr th {\n",
       "        vertical-align: top;\n",
       "    }\n",
       "\n",
       "    .dataframe thead th {\n",
       "        text-align: right;\n",
       "    }\n",
       "</style>\n",
       "<table border=\"1\" class=\"dataframe\">\n",
       "  <thead>\n",
       "    <tr style=\"text-align: right;\">\n",
       "      <th></th>\n",
       "      <th>loss</th>\n",
       "      <th>accuracy</th>\n",
       "      <th>val_loss</th>\n",
       "      <th>val_accuracy</th>\n",
       "    </tr>\n",
       "  </thead>\n",
       "  <tbody>\n",
       "    <tr>\n",
       "      <th>9</th>\n",
       "      <td>1.185181</td>\n",
       "      <td>0.5826</td>\n",
       "      <td>1.457969</td>\n",
       "      <td>0.5076</td>\n",
       "    </tr>\n",
       "  </tbody>\n",
       "</table>\n",
       "</div>"
      ],
      "text/plain": [
       "       loss  accuracy  val_loss  val_accuracy\n",
       "9  1.185181    0.5826  1.457969        0.5076"
      ]
     },
     "execution_count": 24,
     "metadata": {},
     "output_type": "execute_result"
    }
   ],
   "source": [
    "pd.DataFrame(his2.history).tail(1)"
   ]
  },
  {
   "cell_type": "code",
   "execution_count": 25,
   "id": "8362bfc6",
   "metadata": {},
   "outputs": [
    {
     "data": {
      "text/plain": [
       "<AxesSubplot:>"
      ]
     },
     "execution_count": 25,
     "metadata": {},
     "output_type": "execute_result"
    },
    {
     "data": {
      "image/png": "[encoded data removed]",
      "text/plain": [
       "<Figure size 432x288 with 1 Axes>"
      ]
     },
     "metadata": {
      "needs_background": "light"
     },
     "output_type": "display_data"
    }
   ],
   "source": [
    "pd.DataFrame(his2.history).plot()"
   ]
  },
  {
   "cell_type": "markdown",
   "id": "34a7e3a0",
   "metadata": {},
   "source": [
    "---"
   ]
  },
  {
   "cell_type": "markdown",
   "id": "f47c4088",
   "metadata": {},
   "source": [
    "## 6. Discuss the impact of batch normalization on the training process and performance of the neural network"
   ]
  },
  {
   "cell_type": "markdown",
   "id": "965da643",
   "metadata": {},
   "source": [
    "- Batch normalization offers several advantages, including faster training, higher learning rates, regularization, improved gradient flow, and increased robustness to initialization. These benefits contribute to better-performing neural networks with improved accuracy and generalization ability. "
   ]
  },
  {
   "cell_type": "markdown",
   "id": "1ccb559f",
   "metadata": {},
   "source": [
    "---\n",
    "---"
   ]
  },
  {
   "cell_type": "markdown",
   "id": "4d81a04b",
   "metadata": {},
   "source": [
    "# Experiments and Analysis"
   ]
  },
  {
   "cell_type": "markdown",
   "id": "5f4e4c1e",
   "metadata": {},
   "source": [
    "## 1. Experiment with different batch sizes and observe the effeect on the training dynamics and model performance."
   ]
  },
  {
   "cell_type": "markdown",
   "id": "7fedcff2",
   "metadata": {},
   "source": [
    "1. Training Dynamics:\n",
    "\n",
    "- Larger Batch Size: Training with larger batch sizes often leads to faster convergence initially. The updates to model parameters are computed based on a larger amount of data, which can provide more stable gradient estimates. However, as training progresses, larger batch sizes might converge to slightly suboptimal solutions compared to smaller batch sizes due to reduced exploration of the parameter space. Additionally, larger batch sizes may require more memory and computational resources.\n",
    "- Smaller Batch Size: Training with smaller batch sizes can exhibit more erratic training dynamics initially. The updates to model parameters are computed based on a smaller subset of data, which can introduce more noise and lead to more fluctuating gradients. Smaller batch sizes may require more training iterations to converge, but they can potentially find better solutions due to increased exploration of the parameter space."
   ]
  },
  {
   "cell_type": "markdown",
   "id": "d40961de",
   "metadata": {},
   "source": [
    "2. Generalization Performance:\n",
    "\n",
    "- Larger Batch Size: In some cases, larger batch sizes can lead to models that generalize slightly worse compared to smaller batch sizes. This is because larger batch sizes tend to converge to flatter minima, which might generalize less effectively to unseen data. However, the difference in generalization performance between batch sizes is often relatively small.\n",
    "- Smaller Batch Size: Smaller batch sizes can result in models that generalize better, especially if they explore more of the parameter space due to the inherent noise introduced by the smaller batches. Smaller batch sizes can help the model escape shallow minima and find better optima. However, this may come at the cost of longer training time and potential overfitting if the batch size is too small."
   ]
  },
  {
   "cell_type": "markdown",
   "id": "36123d7a",
   "metadata": {},
   "source": [
    "3. Computational Efficiency:\n",
    "\n",
    "- Larger Batch Size: Training with larger batch sizes can be more computationally efficient, particularly when using hardware accelerators like GPUs. Larger batches allow for better utilization of parallel processing capabilities, as more data can be processed simultaneously.\n",
    "- Smaller Batch Size: Smaller batch sizes may require more training iterations to achieve convergence, resulting in longer training times. They may also be less efficient in utilizing parallel processing capabilities due to smaller batch computations."
   ]
  },
  {
   "cell_type": "markdown",
   "id": "349b6904",
   "metadata": {},
   "source": [
    "---"
   ]
  },
  {
   "cell_type": "markdown",
   "id": "9d15166f",
   "metadata": {},
   "source": [
    "## 2. Discuss the advantages and potential limitation of Batch Normalization in improving the training of the neural network."
   ]
  },
  {
   "cell_type": "markdown",
   "id": "21498424",
   "metadata": {},
   "source": [
    "- Batch normalization offers significant advantages in improving training dynamics, convergence speed, and generalization performance of neural networks.\n",
    "\n",
    "<br>\n",
    "\n",
    "- While it has a few potential limitations, they can be managed through careful parameter tuning and consideration of specific architectural requirements."
   ]
  },
  {
   "cell_type": "code",
   "execution_count": null,
   "id": "9bb052b4",
   "metadata": {},
   "outputs": [],
   "source": []
  }
 ],
 "metadata": {
  "kernelspec": {
   "display_name": "Python 3 (ipykernel)",
   "language": "python",
   "name": "python3"
  },
  "language_info": {
   "codemirror_mode": {
    "name": "ipython",
    "version": 3
   },
   "file_extension": ".py",
   "mimetype": "text/x-python",
   "name": "python",
   "nbconvert_exporter": "python",
   "pygments_lexer": "ipython3",
   "version": "3.9.5"
  }
 },
 "nbformat": 4,
 "nbformat_minor": 5
}
