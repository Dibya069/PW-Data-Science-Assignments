{
 "cells": [
  {
   "cell_type": "markdown",
   "id": "6f1b1ec3",
   "metadata": {},
   "source": [
    "# Part 1: Theoretical Queltions:"
   ]
  },
  {
   "cell_type": "markdown",
   "id": "a3b5810f",
   "metadata": {},
   "source": [
    "\n",
    "## 1. What are the different data structures used in Tensorflow?. Give some examples."
   ]
  },
  {
   "cell_type": "markdown",
   "id": "bde772d3",
   "metadata": {},
   "source": [
    "- Tensor: Represents the basic building block, similar to a multi-dimensional array. Tensors can have various ranks (number of dimensions) such as scalar (0D), vector (1D), matrix (2D), etc.\n",
    "- Graphs: TensorFlow uses a computation graph to represent the flow of data and operations. It defines a set of computations as a directed acyclic graph where nodes represent operations and edges represent the flow of tensors."
   ]
  },
  {
   "cell_type": "code",
   "execution_count": 4,
   "id": "87a2b1e0",
   "metadata": {},
   "outputs": [],
   "source": [
    "##examples\n",
    "import tensorflow as tf\n",
    "tensor = tf.constant([1, 2, 3])"
   ]
  },
  {
   "cell_type": "code",
   "execution_count": 10,
   "id": "b8270ec4",
   "metadata": {},
   "outputs": [
    {
     "name": "stdout",
     "output_type": "stream",
     "text": [
      "tf.Tensor(5, shape=(), dtype=int32)\n"
     ]
    }
   ],
   "source": [
    "a = tf.constant(2)\n",
    "b = tf.constant(3)\n",
    "c = tf.add(a, b)\n",
    "\n",
    "print(c)"
   ]
  },
  {
   "cell_type": "markdown",
   "id": "ce319f2b",
   "metadata": {},
   "source": [
    "***"
   ]
  },
  {
   "cell_type": "markdown",
   "id": "83540d59",
   "metadata": {},
   "source": [
    "\n",
    "## 2. How does the TensorFlow constant differ from a TensorFlow variable? Explain with an examples."
   ]
  },
  {
   "cell_type": "markdown",
   "id": "055062ba",
   "metadata": {},
   "source": [
    "- Constant: Represents a fixed value and its value cannot be changed once set. Used for immutable parameters."
   ]
  },
  {
   "cell_type": "code",
   "execution_count": 7,
   "id": "2ccdc66c",
   "metadata": {},
   "outputs": [
    {
     "name": "stdout",
     "output_type": "stream",
     "text": [
      "tf.Tensor([1 2 3], shape=(3,), dtype=int32)\n"
     ]
    }
   ],
   "source": [
    "const_tensor = tf.constant([1, 2, 3])\n",
    "print(const_tensor)"
   ]
  },
  {
   "cell_type": "markdown",
   "id": "3b38ae10",
   "metadata": {},
   "source": [
    "- Variable: Represents a mutable parameter that can be changed during the execution of the graph. Typically used for model parameters like weights."
   ]
  },
  {
   "cell_type": "code",
   "execution_count": 9,
   "id": "8881839a",
   "metadata": {},
   "outputs": [
    {
     "name": "stdout",
     "output_type": "stream",
     "text": [
      "<tf.Variable 'Variable:0' shape=(3,) dtype=int32, numpy=array([1, 2, 3])>\n"
     ]
    }
   ],
   "source": [
    "var_tensor = tf.Variable([1, 2, 3])\n",
    "print(var_tensor)"
   ]
  },
  {
   "cell_type": "markdown",
   "id": "a8da8e40",
   "metadata": {},
   "source": [
    "***"
   ]
  },
  {
   "cell_type": "markdown",
   "id": "1f76a044",
   "metadata": {},
   "source": [
    "\n",
    "## 3. Describe the process of matrix addition, multiplication, and element-wise operations in TensorFlow."
   ]
  },
  {
   "cell_type": "code",
   "execution_count": 12,
   "id": "58847154",
   "metadata": {},
   "outputs": [
    {
     "name": "stdout",
     "output_type": "stream",
     "text": [
      "tf.Tensor(\n",
      "[[ 6  8]\n",
      " [10 12]], shape=(2, 2), dtype=int32)\n",
      "------------------------------------\n",
      "tf.Tensor(\n",
      "[[19 22]\n",
      " [43 50]], shape=(2, 2), dtype=int32)\n",
      "------------------------------------\n",
      "tf.Tensor(\n",
      "[[ 5 12]\n",
      " [21 32]], shape=(2, 2), dtype=int32)\n"
     ]
    }
   ],
   "source": [
    "matrix_a = tf.constant([[1, 2], [3, 4]])\n",
    "matrix_b = tf.constant([[5, 6], [7, 8]])\n",
    "\n",
    "result_addition = tf.add(matrix_a, matrix_b)          # Matrix addition\n",
    "result_multiplication = tf.matmul(matrix_a, matrix_b) # Matrix Multiplication\n",
    "\n",
    "matrix_a = tf.constant([[1, 2], [3, 4]])\n",
    "matrix_b = tf.constant([[5, 6], [7, 8]])\n",
    "result_elementwise = tf.multiply(matrix_a, matrix_b)  #Element wise operation\n",
    "\n",
    "print(result_addition)\n",
    "print(\"------------------------------------\")\n",
    "\n",
    "print(result_multiplication)\n",
    "print(\"------------------------------------\")\n",
    "\n",
    "print(result_elementwise)"
   ]
  },
  {
   "cell_type": "markdown",
   "id": "fbfc668f",
   "metadata": {},
   "source": [
    "***\n",
    "***"
   ]
  },
  {
   "cell_type": "markdown",
   "id": "c6ef3018",
   "metadata": {},
   "source": [
    "# Part 2: Practical Implementation"
   ]
  },
  {
   "cell_type": "markdown",
   "id": "a8ff6321",
   "metadata": {},
   "source": [
    "\n",
    "## Talk 1: Creating and Manipulating Matriced\n"
   ]
  },
  {
   "cell_type": "markdown",
   "id": "372593c9",
   "metadata": {},
   "source": [
    "### 1. Create a normal matrix A with dimensions 2x2, using TensorFlow's random_normal function. Display the values of matrix A.\n"
   ]
  },
  {
   "cell_type": "code",
   "execution_count": 18,
   "id": "f5ca746b",
   "metadata": {},
   "outputs": [
    {
     "name": "stdout",
     "output_type": "stream",
     "text": [
      "Matrix A:\n",
      "[[0.48968273 1.0437655 ]\n",
      " [1.4585916  0.11367399]]\n"
     ]
    }
   ],
   "source": [
    "matrix_A = tf.random.normal(shape=(2, 2), mean=0.0, stddev=1.0)\n",
    "print(\"Matrix A:\")\n",
    "print(matrix_A.numpy())"
   ]
  },
  {
   "cell_type": "markdown",
   "id": "a5bed8c5",
   "metadata": {},
   "source": [
    "### 2. Create a Gaussian matrix B with dimensions x, using TensorFlow's truncated_normal function. Display the values of matrix B.\n"
   ]
  },
  {
   "cell_type": "code",
   "execution_count": 19,
   "id": "a0a144c1",
   "metadata": {},
   "outputs": [
    {
     "name": "stdout",
     "output_type": "stream",
     "text": [
      "\n",
      "Matrix B:\n",
      "[[-1.0516742   0.50382024]\n",
      " [ 0.24887694 -0.7511807 ]]\n"
     ]
    }
   ],
   "source": [
    "matrix_B = tf.random.truncated_normal(shape=(2, 2), mean=0.0, stddev=1.0)\n",
    "print(\"\\nMatrix B:\")\n",
    "print(matrix_B.numpy())"
   ]
  },
  {
   "cell_type": "markdown",
   "id": "46df1a3a",
   "metadata": {},
   "source": [
    "### 3. Create a matrix C with dimensions 2x2, where the values are drawn from a normal distribution with a mean of 2 and a standard deviation of 0.x, using TensorFlow's random.normal function. Display the values of matrix C.\n"
   ]
  },
  {
   "cell_type": "code",
   "execution_count": 20,
   "id": "b38fc298",
   "metadata": {},
   "outputs": [
    {
     "name": "stdout",
     "output_type": "stream",
     "text": [
      "\n",
      "Matrix C:\n",
      "[[2.252215  1.8632147]\n",
      " [1.8446083 1.9767742]]\n"
     ]
    }
   ],
   "source": [
    "matrix_C = tf.random.normal(shape=(2, 2), mean=2.0, stddev=0.1)\n",
    "print(\"\\nMatrix C:\")\n",
    "print(matrix_C.numpy())"
   ]
  },
  {
   "cell_type": "markdown",
   "id": "e0e5e524",
   "metadata": {},
   "source": [
    "### 4. Perform matrix addition between matrix A and matrix B, and store the result in matrix D.\n"
   ]
  },
  {
   "cell_type": "code",
   "execution_count": 21,
   "id": "7f4eb875",
   "metadata": {},
   "outputs": [
    {
     "name": "stdout",
     "output_type": "stream",
     "text": [
      "\n",
      "Matrix D (A + B):\n",
      "[[-0.5619915  1.5475857]\n",
      " [ 1.7074685 -0.6375067]]\n"
     ]
    }
   ],
   "source": [
    "matrix_D = tf.add(matrix_A, matrix_B)\n",
    "print(\"\\nMatrix D (A + B):\")\n",
    "print(matrix_D.numpy())"
   ]
  },
  {
   "cell_type": "markdown",
   "id": "1d37aaa0",
   "metadata": {},
   "source": [
    "### 5. Perform matrix multiplication between matrix C and matrix D, and store the result in matrix E.\n"
   ]
  },
  {
   "cell_type": "code",
   "execution_count": 22,
   "id": "4fe37192",
   "metadata": {},
   "outputs": [
    {
     "name": "stdout",
     "output_type": "stream",
     "text": [
      "\n",
      "Matrix E (C * D):\n",
      "[[1.9156549 2.2976837]\n",
      " [2.3386254 1.5944828]]\n"
     ]
    }
   ],
   "source": [
    "matrix_E = tf.matmul(matrix_C, matrix_D)\n",
    "print(\"\\nMatrix E (C * D):\")\n",
    "print(matrix_E.numpy())"
   ]
  },
  {
   "cell_type": "markdown",
   "id": "e208828e",
   "metadata": {},
   "source": [
    "***"
   ]
  },
  {
   "cell_type": "markdown",
   "id": "f5f097f6",
   "metadata": {},
   "source": [
    "## Talk 2: Performing Additional Matrix Operation\n"
   ]
  },
  {
   "cell_type": "markdown",
   "id": "2b2bc839",
   "metadata": {},
   "source": [
    "### 1. Create a matrix F with dimensions 2x2, initialized with random values using TensorFlow's random_uniform function.\n"
   ]
  },
  {
   "cell_type": "code",
   "execution_count": 28,
   "id": "73e18061",
   "metadata": {},
   "outputs": [
    {
     "name": "stdout",
     "output_type": "stream",
     "text": [
      "Matrix F:\n",
      "[[0.6857312  0.80565083]\n",
      " [0.41125453 0.23214042]]\n"
     ]
    }
   ],
   "source": [
    "matrix_F = tf.random.uniform(shape=(2, 2), minval=0, maxval=1)\n",
    "print(\"Matrix F:\")\n",
    "print(matrix_F.numpy())"
   ]
  },
  {
   "cell_type": "markdown",
   "id": "7be3102a",
   "metadata": {},
   "source": [
    "### 2. Calculate the transpose of matrix F and store the result in matrix G."
   ]
  },
  {
   "cell_type": "code",
   "execution_count": 29,
   "id": "42ac9ccc",
   "metadata": {},
   "outputs": [
    {
     "name": "stdout",
     "output_type": "stream",
     "text": [
      "\n",
      "Matrix G (Transpose of F):\n",
      "[[0.6857312  0.41125453]\n",
      " [0.80565083 0.23214042]]\n"
     ]
    }
   ],
   "source": [
    "matrix_G = tf.transpose(matrix_F)\n",
    "print(\"\\nMatrix G (Transpose of F):\")\n",
    "print(matrix_G.numpy())"
   ]
  },
  {
   "cell_type": "markdown",
   "id": "a69541f5",
   "metadata": {},
   "source": [
    "\n",
    "### 3. Calculate the elementDwise exponential of matrix F and store the result in matrix H.\n"
   ]
  },
  {
   "cell_type": "code",
   "execution_count": 30,
   "id": "899139b6",
   "metadata": {},
   "outputs": [
    {
     "name": "stdout",
     "output_type": "stream",
     "text": [
      "\n",
      "Matrix H (Element-wise Exponential of F):\n",
      "[[1.9852228 2.2381527]\n",
      " [1.5087093 1.2612969]]\n"
     ]
    }
   ],
   "source": [
    "matrix_H = tf.exp(matrix_F)\n",
    "print(\"\\nMatrix H (Element-wise Exponential of F):\")\n",
    "print(matrix_H.numpy())"
   ]
  },
  {
   "cell_type": "markdown",
   "id": "1b8f874a",
   "metadata": {},
   "source": [
    "### 4. Create a matrix I by concatenating matrix F and matrix G horizontally."
   ]
  },
  {
   "cell_type": "code",
   "execution_count": 31,
   "id": "f3f57ec9",
   "metadata": {},
   "outputs": [
    {
     "name": "stdout",
     "output_type": "stream",
     "text": [
      "\n",
      "Matrix I (Concatenation of F and G horizontally):\n",
      "[[0.6857312  0.80565083 0.6857312  0.41125453]\n",
      " [0.41125453 0.23214042 0.80565083 0.23214042]]\n"
     ]
    }
   ],
   "source": [
    "matrix_I = tf.concat([matrix_F, matrix_G], axis=1)\n",
    "print(\"\\nMatrix I (Concatenation of F and G horizontally):\")\n",
    "print(matrix_I.numpy())"
   ]
  },
  {
   "cell_type": "markdown",
   "id": "f5384f9a",
   "metadata": {},
   "source": [
    "\n",
    "### 5. Create a matrix J by concatenating matrix F and matrix H vertically."
   ]
  },
  {
   "cell_type": "code",
   "execution_count": 32,
   "id": "9b21d6fa",
   "metadata": {},
   "outputs": [
    {
     "name": "stdout",
     "output_type": "stream",
     "text": [
      "\n",
      "Matrix J (Concatenation of F and H vertically):\n",
      "[[0.6857312  0.80565083]\n",
      " [0.41125453 0.23214042]\n",
      " [1.9852228  2.2381527 ]\n",
      " [1.5087093  1.2612969 ]]\n"
     ]
    }
   ],
   "source": [
    "matrix_J = tf.concat([matrix_F, matrix_H], axis=0)\n",
    "print(\"\\nMatrix J (Concatenation of F and H vertically):\")\n",
    "print(matrix_J.numpy())"
   ]
  },
  {
   "cell_type": "code",
   "execution_count": null,
   "id": "bbb23223",
   "metadata": {},
   "outputs": [],
   "source": []
  }
 ],
 "metadata": {
  "kernelspec": {
   "display_name": "Python 3 (ipykernel)",
   "language": "python",
   "name": "python3"
  },
  "language_info": {
   "codemirror_mode": {
    "name": "ipython",
    "version": 3
   },
   "file_extension": ".py",
   "mimetype": "text/x-python",
   "name": "python",
   "nbconvert_exporter": "python",
   "pygments_lexer": "ipython3",
   "version": "3.9.5"
  }
 },
 "nbformat": 4,
 "nbformat_minor": 5
}
