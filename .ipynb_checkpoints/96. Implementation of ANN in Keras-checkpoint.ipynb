{
 "cells": [
  {
   "cell_type": "markdown",
   "metadata": {},
   "source": [
    "## Q1. Install and load the latest versions of TensorFlow and Keras. Print their versions.\n"
   ]
  },
  {
   "cell_type": "code",
   "execution_count": 1,
   "metadata": {},
   "outputs": [
    {
     "name": "stdout",
     "output_type": "stream",
     "text": [
      "Requirement already satisfied: tensorflow in c:\\users\\mohan\\appdata\\local\\programs\\python\\python39\\lib\\site-packages (2.11.0)\n",
      "Requirement already satisfied: tensorflow-intel==2.11.0 in c:\\users\\mohan\\appdata\\local\\programs\\python\\python39\\lib\\site-packages (from tensorflow) (2.11.0)\n",
      "Requirement already satisfied: absl-py>=1.0.0 in c:\\users\\mohan\\appdata\\local\\programs\\python\\python39\\lib\\site-packages (from tensorflow-intel==2.11.0->tensorflow) (1.4.0)\n",
      "Requirement already satisfied: astunparse>=1.6.0 in c:\\users\\mohan\\appdata\\local\\programs\\python\\python39\\lib\\site-packages (from tensorflow-intel==2.11.0->tensorflow) (1.6.3)\n",
      "Requirement already satisfied: flatbuffers>=2.0 in c:\\users\\mohan\\appdata\\local\\programs\\python\\python39\\lib\\site-packages (from tensorflow-intel==2.11.0->tensorflow) (23.1.21)\n",
      "Requirement already satisfied: gast<=0.4.0,>=0.2.1 in c:\\users\\mohan\\appdata\\local\\programs\\python\\python39\\lib\\site-packages (from tensorflow-intel==2.11.0->tensorflow) (0.4.0)\n",
      "Requirement already satisfied: google-pasta>=0.1.1 in c:\\users\\mohan\\appdata\\local\\programs\\python\\python39\\lib\\site-packages (from tensorflow-intel==2.11.0->tensorflow) (0.2.0)\n",
      "Requirement already satisfied: h5py>=2.9.0 in c:\\users\\mohan\\appdata\\local\\programs\\python\\python39\\lib\\site-packages (from tensorflow-intel==2.11.0->tensorflow) (3.8.0)\n",
      "Requirement already satisfied: libclang>=13.0.0 in c:\\users\\mohan\\appdata\\local\\programs\\python\\python39\\lib\\site-packages (from tensorflow-intel==2.11.0->tensorflow) (15.0.6.1)\n",
      "Requirement already satisfied: numpy>=1.20 in c:\\users\\mohan\\appdata\\local\\programs\\python\\python39\\lib\\site-packages (from tensorflow-intel==2.11.0->tensorflow) (1.22.3)\n",
      "Requirement already satisfied: opt-einsum>=2.3.2 in c:\\users\\mohan\\appdata\\local\\programs\\python\\python39\\lib\\site-packages (from tensorflow-intel==2.11.0->tensorflow) (3.3.0)\n",
      "Requirement already satisfied: packaging in c:\\users\\mohan\\appdata\\local\\programs\\python\\python39\\lib\\site-packages (from tensorflow-intel==2.11.0->tensorflow) (21.3)\n",
      "Requirement already satisfied: protobuf<3.20,>=3.9.2 in c:\\users\\mohan\\appdata\\local\\programs\\python\\python39\\lib\\site-packages (from tensorflow-intel==2.11.0->tensorflow) (3.19.6)\n",
      "Requirement already satisfied: setuptools in c:\\users\\mohan\\appdata\\local\\programs\\python\\python39\\lib\\site-packages (from tensorflow-intel==2.11.0->tensorflow) (67.6.1)\n",
      "Requirement already satisfied: six>=1.12.0 in c:\\users\\mohan\\appdata\\local\\programs\\python\\python39\\lib\\site-packages (from tensorflow-intel==2.11.0->tensorflow) (1.16.0)\n",
      "Requirement already satisfied: termcolor>=1.1.0 in c:\\users\\mohan\\appdata\\local\\programs\\python\\python39\\lib\\site-packages (from tensorflow-intel==2.11.0->tensorflow) (2.2.0)\n",
      "Requirement already satisfied: typing-extensions>=3.6.6 in c:\\users\\mohan\\appdata\\local\\programs\\python\\python39\\lib\\site-packages (from tensorflow-intel==2.11.0->tensorflow) (4.4.0)\n",
      "Requirement already satisfied: wrapt>=1.11.0 in c:\\users\\mohan\\appdata\\local\\programs\\python\\python39\\lib\\site-packages (from tensorflow-intel==2.11.0->tensorflow) (1.14.1)\n",
      "Requirement already satisfied: grpcio<2.0,>=1.24.3 in c:\\users\\mohan\\appdata\\local\\programs\\python\\python39\\lib\\site-packages (from tensorflow-intel==2.11.0->tensorflow) (1.51.1)\n",
      "Requirement already satisfied: tensorboard<2.12,>=2.11 in c:\\users\\mohan\\appdata\\local\\programs\\python\\python39\\lib\\site-packages (from tensorflow-intel==2.11.0->tensorflow) (2.11.2)\n",
      "Requirement already satisfied: tensorflow-estimator<2.12,>=2.11.0 in c:\\users\\mohan\\appdata\\local\\programs\\python\\python39\\lib\\site-packages (from tensorflow-intel==2.11.0->tensorflow) (2.11.0)\n",
      "Requirement already satisfied: keras<2.12,>=2.11.0 in c:\\users\\mohan\\appdata\\local\\programs\\python\\python39\\lib\\site-packages (from tensorflow-intel==2.11.0->tensorflow) (2.11.0)\n",
      "Requirement already satisfied: tensorflow-io-gcs-filesystem>=0.23.1 in c:\\users\\mohan\\appdata\\local\\programs\\python\\python39\\lib\\site-packages (from tensorflow-intel==2.11.0->tensorflow) (0.30.0)\n",
      "Requirement already satisfied: wheel<1.0,>=0.23.0 in c:\\users\\mohan\\appdata\\local\\programs\\python\\python39\\lib\\site-packages (from astunparse>=1.6.0->tensorflow-intel==2.11.0->tensorflow) (0.38.4)\n",
      "Requirement already satisfied: google-auth<3,>=1.6.3 in c:\\users\\mohan\\appdata\\local\\programs\\python\\python39\\lib\\site-packages (from tensorboard<2.12,>=2.11->tensorflow-intel==2.11.0->tensorflow) (2.16.0)\n",
      "Requirement already satisfied: google-auth-oauthlib<0.5,>=0.4.1 in c:\\users\\mohan\\appdata\\local\\programs\\python\\python39\\lib\\site-packages (from tensorboard<2.12,>=2.11->tensorflow-intel==2.11.0->tensorflow) (0.4.6)\n",
      "Requirement already satisfied: markdown>=2.6.8 in c:\\users\\mohan\\appdata\\local\\programs\\python\\python39\\lib\\site-packages (from tensorboard<2.12,>=2.11->tensorflow-intel==2.11.0->tensorflow) (3.4.1)\n",
      "Requirement already satisfied: requests<3,>=2.21.0 in c:\\users\\mohan\\appdata\\local\\programs\\python\\python39\\lib\\site-packages (from tensorboard<2.12,>=2.11->tensorflow-intel==2.11.0->tensorflow) (2.28.2)\n",
      "Requirement already satisfied: tensorboard-data-server<0.7.0,>=0.6.0 in c:\\users\\mohan\\appdata\\local\\programs\\python\\python39\\lib\\site-packages (from tensorboard<2.12,>=2.11->tensorflow-intel==2.11.0->tensorflow) (0.6.1)\n",
      "Requirement already satisfied: tensorboard-plugin-wit>=1.6.0 in c:\\users\\mohan\\appdata\\local\\programs\\python\\python39\\lib\\site-packages (from tensorboard<2.12,>=2.11->tensorflow-intel==2.11.0->tensorflow) (1.8.1)\n",
      "Requirement already satisfied: werkzeug>=1.0.1 in c:\\users\\mohan\\appdata\\local\\programs\\python\\python39\\lib\\site-packages (from tensorboard<2.12,>=2.11->tensorflow-intel==2.11.0->tensorflow) (2.2.2)\n",
      "Requirement already satisfied: pyparsing!=3.0.5,>=2.0.2 in c:\\users\\mohan\\appdata\\local\\programs\\python\\python39\\lib\\site-packages (from packaging->tensorflow-intel==2.11.0->tensorflow) (2.4.7)\n",
      "Requirement already satisfied: cachetools<6.0,>=2.0.0 in c:\\users\\mohan\\appdata\\local\\programs\\python\\python39\\lib\\site-packages (from google-auth<3,>=1.6.3->tensorboard<2.12,>=2.11->tensorflow-intel==2.11.0->tensorflow) (5.3.0)\n",
      "Requirement already satisfied: pyasn1-modules>=0.2.1 in c:\\users\\mohan\\appdata\\local\\programs\\python\\python39\\lib\\site-packages (from google-auth<3,>=1.6.3->tensorboard<2.12,>=2.11->tensorflow-intel==2.11.0->tensorflow) (0.2.8)\n",
      "Requirement already satisfied: rsa<5,>=3.1.4 in c:\\users\\mohan\\appdata\\local\\programs\\python\\python39\\lib\\site-packages (from google-auth<3,>=1.6.3->tensorboard<2.12,>=2.11->tensorflow-intel==2.11.0->tensorflow) (4.9)\n",
      "Requirement already satisfied: requests-oauthlib>=0.7.0 in c:\\users\\mohan\\appdata\\local\\programs\\python\\python39\\lib\\site-packages (from google-auth-oauthlib<0.5,>=0.4.1->tensorboard<2.12,>=2.11->tensorflow-intel==2.11.0->tensorflow) (1.3.1)\n",
      "Requirement already satisfied: importlib-metadata>=4.4 in c:\\users\\mohan\\appdata\\local\\programs\\python\\python39\\lib\\site-packages (from markdown>=2.6.8->tensorboard<2.12,>=2.11->tensorflow-intel==2.11.0->tensorflow) (4.11.3)\n",
      "Requirement already satisfied: charset-normalizer<4,>=2 in c:\\users\\mohan\\appdata\\local\\programs\\python\\python39\\lib\\site-packages (from requests<3,>=2.21.0->tensorboard<2.12,>=2.11->tensorflow-intel==2.11.0->tensorflow) (2.0.12)\n",
      "Requirement already satisfied: idna<4,>=2.5 in c:\\users\\mohan\\appdata\\roaming\\python\\python39\\site-packages (from requests<3,>=2.21.0->tensorboard<2.12,>=2.11->tensorflow-intel==2.11.0->tensorflow) (2.10)\n",
      "Requirement already satisfied: urllib3<1.27,>=1.21.1 in c:\\users\\mohan\\appdata\\local\\programs\\python\\python39\\lib\\site-packages (from requests<3,>=2.21.0->tensorboard<2.12,>=2.11->tensorflow-intel==2.11.0->tensorflow) (1.26.15)\n",
      "Requirement already satisfied: certifi>=2017.4.17 in c:\\users\\mohan\\appdata\\roaming\\python\\python39\\site-packages (from requests<3,>=2.21.0->tensorboard<2.12,>=2.11->tensorflow-intel==2.11.0->tensorflow) (2022.12.7)\n",
      "Requirement already satisfied: MarkupSafe>=2.1.1 in c:\\users\\mohan\\appdata\\local\\programs\\python\\python39\\lib\\site-packages (from werkzeug>=1.0.1->tensorboard<2.12,>=2.11->tensorflow-intel==2.11.0->tensorflow) (2.1.1)\n",
      "Requirement already satisfied: zipp>=0.5 in c:\\users\\mohan\\appdata\\local\\programs\\python\\python39\\lib\\site-packages (from importlib-metadata>=4.4->markdown>=2.6.8->tensorboard<2.12,>=2.11->tensorflow-intel==2.11.0->tensorflow) (3.8.0)\n",
      "Requirement already satisfied: pyasn1<0.5.0,>=0.4.6 in c:\\users\\mohan\\appdata\\local\\programs\\python\\python39\\lib\\site-packages (from pyasn1-modules>=0.2.1->google-auth<3,>=1.6.3->tensorboard<2.12,>=2.11->tensorflow-intel==2.11.0->tensorflow) (0.4.8)\n",
      "Requirement already satisfied: oauthlib>=3.0.0 in c:\\users\\mohan\\appdata\\local\\programs\\python\\python39\\lib\\site-packages (from requests-oauthlib>=0.7.0->google-auth-oauthlib<0.5,>=0.4.1->tensorboard<2.12,>=2.11->tensorflow-intel==2.11.0->tensorflow) (3.2.2)\n"
     ]
    },
    {
     "name": "stderr",
     "output_type": "stream",
     "text": [
      "WARNING: Ignoring invalid distribution -illow (c:\\users\\mohan\\appdata\\local\\programs\\python\\python39\\lib\\site-packages)\n",
      "WARNING: Ignoring invalid distribution -pencv-python (c:\\users\\mohan\\appdata\\local\\programs\\python\\python39\\lib\\site-packages)\n",
      "WARNING: Ignoring invalid distribution -illow (c:\\users\\mohan\\appdata\\local\\programs\\python\\python39\\lib\\site-packages)\n",
      "WARNING: Ignoring invalid distribution -pencv-python (c:\\users\\mohan\\appdata\\local\\programs\\python\\python39\\lib\\site-packages)\n",
      "\n",
      "[notice] A new release of pip is available: 23.2.1 -> 23.3.1\n",
      "[notice] To update, run: python.exe -m pip install --upgrade pip\n"
     ]
    }
   ],
   "source": [
    "!pip install tensorflow"
   ]
  },
  {
   "cell_type": "code",
   "execution_count": 3,
   "metadata": {},
   "outputs": [
    {
     "name": "stdout",
     "output_type": "stream",
     "text": [
      "2.11.0\n",
      "2.11.0\n"
     ]
    }
   ],
   "source": [
    "import tensorflow, keras\n",
    "\n",
    "print(tensorflow.__version__)\n",
    "print(keras.__version__)"
   ]
  },
  {
   "cell_type": "markdown",
   "metadata": {},
   "source": [
    "***"
   ]
  },
  {
   "cell_type": "markdown",
   "metadata": {},
   "source": [
    "## Q2. Load the Wine Quality dataset and explore its dimensions.\n",
    "    - Dataset link: https://www.kaggle.com/datasets/nareshbhat/wine-quality-binary-classification\n"
   ]
  },
  {
   "cell_type": "code",
   "execution_count": 15,
   "metadata": {},
   "outputs": [],
   "source": [
    "import tensorflow as tf\n",
    "from tensorflow import keras\n",
    "from sklearn.model_selection import train_test_split\n",
    "from sklearn.preprocessing import StandardScaler\n",
    "from sklearn.preprocessing import LabelEncoder, StandardScaler\n",
    "import pandas as pd\n",
    "import matplotlib.pyplot as plt"
   ]
  },
  {
   "cell_type": "code",
   "execution_count": 6,
   "metadata": {},
   "outputs": [
    {
     "data": {
      "text/plain": [
       "(1599, 12)"
      ]
     },
     "execution_count": 6,
     "metadata": {},
     "output_type": "execute_result"
    }
   ],
   "source": [
    "df = pd.read_csv(\"img/winequality-red.csv\")\n",
    "df.shape"
   ]
  },
  {
   "cell_type": "markdown",
   "metadata": {},
   "source": [
    "***"
   ]
  },
  {
   "cell_type": "markdown",
   "metadata": {},
   "source": [
    "\n",
    "## Q3. Check for null values, identify categorical variables, and encode them.\n"
   ]
  },
  {
   "cell_type": "code",
   "execution_count": 14,
   "metadata": {},
   "outputs": [
    {
     "name": "stdout",
     "output_type": "stream",
     "text": [
      "Null values:  0\n",
      "Identical categories variable:  Index([], dtype='object')\n"
     ]
    }
   ],
   "source": [
    "print(\"Null values: \", df.isnull().sum().sum())\n",
    "print(\"Identical categories variable: \", df.select_dtypes(include=['object']).columns)"
   ]
  },
  {
   "cell_type": "markdown",
   "metadata": {},
   "source": [
    "-- The categorical variables are None"
   ]
  },
  {
   "cell_type": "markdown",
   "metadata": {},
   "source": [
    "***"
   ]
  },
  {
   "cell_type": "markdown",
   "metadata": {},
   "source": [
    "## Q4. Separate the features and target variables from the dataset.\n"
   ]
  },
  {
   "cell_type": "code",
   "execution_count": 16,
   "metadata": {},
   "outputs": [
    {
     "data": {
      "text/html": [
       "<div>\n",
       "<style scoped>\n",
       "    .dataframe tbody tr th:only-of-type {\n",
       "        vertical-align: middle;\n",
       "    }\n",
       "\n",
       "    .dataframe tbody tr th {\n",
       "        vertical-align: top;\n",
       "    }\n",
       "\n",
       "    .dataframe thead th {\n",
       "        text-align: right;\n",
       "    }\n",
       "</style>\n",
       "<table border=\"1\" class=\"dataframe\">\n",
       "  <thead>\n",
       "    <tr style=\"text-align: right;\">\n",
       "      <th></th>\n",
       "      <th>fixed acidity</th>\n",
       "      <th>volatile acidity</th>\n",
       "      <th>citric acid</th>\n",
       "      <th>residual sugar</th>\n",
       "      <th>chlorides</th>\n",
       "      <th>free sulfur dioxide</th>\n",
       "      <th>total sulfur dioxide</th>\n",
       "      <th>density</th>\n",
       "      <th>pH</th>\n",
       "      <th>sulphates</th>\n",
       "      <th>alcohol</th>\n",
       "      <th>quality</th>\n",
       "    </tr>\n",
       "  </thead>\n",
       "  <tbody>\n",
       "    <tr>\n",
       "      <th>0</th>\n",
       "      <td>7.4</td>\n",
       "      <td>0.70</td>\n",
       "      <td>0.00</td>\n",
       "      <td>1.9</td>\n",
       "      <td>0.076</td>\n",
       "      <td>11.0</td>\n",
       "      <td>34.0</td>\n",
       "      <td>0.9978</td>\n",
       "      <td>3.51</td>\n",
       "      <td>0.56</td>\n",
       "      <td>9.4</td>\n",
       "      <td>5</td>\n",
       "    </tr>\n",
       "    <tr>\n",
       "      <th>1</th>\n",
       "      <td>7.8</td>\n",
       "      <td>0.88</td>\n",
       "      <td>0.00</td>\n",
       "      <td>2.6</td>\n",
       "      <td>0.098</td>\n",
       "      <td>25.0</td>\n",
       "      <td>67.0</td>\n",
       "      <td>0.9968</td>\n",
       "      <td>3.20</td>\n",
       "      <td>0.68</td>\n",
       "      <td>9.8</td>\n",
       "      <td>5</td>\n",
       "    </tr>\n",
       "    <tr>\n",
       "      <th>2</th>\n",
       "      <td>7.8</td>\n",
       "      <td>0.76</td>\n",
       "      <td>0.04</td>\n",
       "      <td>2.3</td>\n",
       "      <td>0.092</td>\n",
       "      <td>15.0</td>\n",
       "      <td>54.0</td>\n",
       "      <td>0.9970</td>\n",
       "      <td>3.26</td>\n",
       "      <td>0.65</td>\n",
       "      <td>9.8</td>\n",
       "      <td>5</td>\n",
       "    </tr>\n",
       "    <tr>\n",
       "      <th>3</th>\n",
       "      <td>11.2</td>\n",
       "      <td>0.28</td>\n",
       "      <td>0.56</td>\n",
       "      <td>1.9</td>\n",
       "      <td>0.075</td>\n",
       "      <td>17.0</td>\n",
       "      <td>60.0</td>\n",
       "      <td>0.9980</td>\n",
       "      <td>3.16</td>\n",
       "      <td>0.58</td>\n",
       "      <td>9.8</td>\n",
       "      <td>6</td>\n",
       "    </tr>\n",
       "    <tr>\n",
       "      <th>4</th>\n",
       "      <td>7.4</td>\n",
       "      <td>0.70</td>\n",
       "      <td>0.00</td>\n",
       "      <td>1.9</td>\n",
       "      <td>0.076</td>\n",
       "      <td>11.0</td>\n",
       "      <td>34.0</td>\n",
       "      <td>0.9978</td>\n",
       "      <td>3.51</td>\n",
       "      <td>0.56</td>\n",
       "      <td>9.4</td>\n",
       "      <td>5</td>\n",
       "    </tr>\n",
       "  </tbody>\n",
       "</table>\n",
       "</div>"
      ],
      "text/plain": [
       "   fixed acidity  volatile acidity  citric acid  residual sugar  chlorides  \\\n",
       "0            7.4              0.70         0.00             1.9      0.076   \n",
       "1            7.8              0.88         0.00             2.6      0.098   \n",
       "2            7.8              0.76         0.04             2.3      0.092   \n",
       "3           11.2              0.28         0.56             1.9      0.075   \n",
       "4            7.4              0.70         0.00             1.9      0.076   \n",
       "\n",
       "   free sulfur dioxide  total sulfur dioxide  density    pH  sulphates  \\\n",
       "0                 11.0                  34.0   0.9978  3.51       0.56   \n",
       "1                 25.0                  67.0   0.9968  3.20       0.68   \n",
       "2                 15.0                  54.0   0.9970  3.26       0.65   \n",
       "3                 17.0                  60.0   0.9980  3.16       0.58   \n",
       "4                 11.0                  34.0   0.9978  3.51       0.56   \n",
       "\n",
       "   alcohol  quality  \n",
       "0      9.4        5  \n",
       "1      9.8        5  \n",
       "2      9.8        5  \n",
       "3      9.8        6  \n",
       "4      9.4        5  "
      ]
     },
     "execution_count": 16,
     "metadata": {},
     "output_type": "execute_result"
    }
   ],
   "source": [
    "df.head()"
   ]
  },
  {
   "cell_type": "code",
   "execution_count": 17,
   "metadata": {},
   "outputs": [],
   "source": [
    "X = df.drop('quality', axis=1)  # Replace 'target_column' with the actual target column name\n",
    "y = df['quality']"
   ]
  },
  {
   "cell_type": "markdown",
   "metadata": {},
   "source": [
    "***"
   ]
  },
  {
   "cell_type": "markdown",
   "metadata": {},
   "source": [
    "## Q5. Perform a train-test split, dividing the data into training, validation, and test datasets.\n"
   ]
  },
  {
   "cell_type": "code",
   "execution_count": 18,
   "metadata": {},
   "outputs": [],
   "source": [
    "X_train, X_temp, y_train, y_temp = train_test_split(X, y, test_size=0.3, random_state=42)\n",
    "X_val, X_test, y_val, y_test = train_test_split(X_temp, y_temp, test_size=0.5, random_state=42)\n"
   ]
  },
  {
   "cell_type": "markdown",
   "metadata": {},
   "source": [
    "***"
   ]
  },
  {
   "cell_type": "markdown",
   "metadata": {},
   "source": [
    "## Q6. Scale the dataset using an appropriate scaling technique.\n"
   ]
  },
  {
   "cell_type": "code",
   "execution_count": 19,
   "metadata": {},
   "outputs": [],
   "source": [
    "scaler = StandardScaler()\n",
    "X_train_scaled = scaler.fit_transform(X_train)\n",
    "\n",
    "X_val_scaled = scaler.transform(X_val)\n",
    "X_test_scaled = scaler.transform(X_test)"
   ]
  },
  {
   "cell_type": "markdown",
   "metadata": {},
   "source": [
    "***"
   ]
  },
  {
   "cell_type": "markdown",
   "metadata": {},
   "source": [
    "## Q7. Design and implement at least two hidden layers and an output layer for the binary categorical variables.\n"
   ]
  },
  {
   "cell_type": "code",
   "execution_count": 41,
   "metadata": {},
   "outputs": [],
   "source": [
    "import tensorflow as tf\n",
    "from tensorflow.keras.models import Sequential\n",
    "from tensorflow.keras.layers import Dense\n",
    "\n",
    "Layers = [\n",
    "    Dense(units=128, activation='relu', input_dim=X_train_scaled.shape[1]),\n",
    "    Dense(units=64, activation='relu'),\n",
    "    Dense(units=32, activation='relu'),\n",
    "    Dense(units=1, activation='sigmoid')\n",
    "]"
   ]
  },
  {
   "cell_type": "markdown",
   "metadata": {},
   "source": [
    "***"
   ]
  },
  {
   "cell_type": "markdown",
   "metadata": {},
   "source": [
    "\n",
    "## Q8. Create a Sequential model in Keras and add the previously designed layers to it."
   ]
  },
  {
   "cell_type": "code",
   "execution_count": 42,
   "metadata": {},
   "outputs": [],
   "source": [
    "model = Sequential()\n",
    "\n",
    "for layer in Layers:\n",
    "    model.add(layer)\n"
   ]
  },
  {
   "cell_type": "markdown",
   "metadata": {},
   "source": [
    "***"
   ]
  },
  {
   "cell_type": "markdown",
   "metadata": {},
   "source": [
    "## Q9. Print the summary of the model architecture.\n"
   ]
  },
  {
   "cell_type": "code",
   "execution_count": 43,
   "metadata": {},
   "outputs": [
    {
     "name": "stdout",
     "output_type": "stream",
     "text": [
      "Model: \"sequential_4\"\n",
      "_________________________________________________________________\n",
      " Layer (type)                Output Shape              Param #   \n",
      "=================================================================\n",
      " dense_12 (Dense)            (None, 128)               1536      \n",
      "                                                                 \n",
      " dense_13 (Dense)            (None, 64)                8256      \n",
      "                                                                 \n",
      " dense_14 (Dense)            (None, 32)                2080      \n",
      "                                                                 \n",
      " dense_15 (Dense)            (None, 1)                 33        \n",
      "                                                                 \n",
      "=================================================================\n",
      "Total params: 11,905\n",
      "Trainable params: 11,905\n",
      "Non-trainable params: 0\n",
      "_________________________________________________________________\n"
     ]
    }
   ],
   "source": [
    "model.summary()"
   ]
  },
  {
   "cell_type": "markdown",
   "metadata": {},
   "source": [
    "***"
   ]
  },
  {
   "cell_type": "markdown",
   "metadata": {},
   "source": [
    "## Q10. Set the loss function(‘binary_crossentropy’), optimizer, and include the accuracy metric in the model.\n"
   ]
  },
  {
   "cell_type": "code",
   "execution_count": 44,
   "metadata": {},
   "outputs": [],
   "source": [
    "loss = \"binary_crossentropy\"\n",
    "optimizer = \"adam\"\n",
    "metrics=['accuracy']"
   ]
  },
  {
   "cell_type": "markdown",
   "metadata": {},
   "source": [
    "***"
   ]
  },
  {
   "cell_type": "markdown",
   "metadata": {},
   "source": [
    "## Q11. Compile the model with the specified loss function, optimizer, and metrics."
   ]
  },
  {
   "cell_type": "code",
   "execution_count": 45,
   "metadata": {},
   "outputs": [],
   "source": [
    "model.compile(loss = loss, optimizer = optimizer, metrics = metrics)"
   ]
  },
  {
   "cell_type": "markdown",
   "metadata": {},
   "source": [
    "***"
   ]
  },
  {
   "cell_type": "markdown",
   "metadata": {},
   "source": [
    "\n",
    "## Q12. Fit the model to the training data using appropriate batch size and number of epochs.\n"
   ]
  },
  {
   "cell_type": "code",
   "execution_count": 46,
   "metadata": {},
   "outputs": [
    {
     "name": "stdout",
     "output_type": "stream",
     "text": [
      "Epoch 1/100\n",
      "35/35 [==============================] - 2s 12ms/step - loss: -15.9190 - accuracy: 0.0000e+00 - val_loss: -45.5583 - val_accuracy: 0.0000e+00\n",
      "Epoch 2/100\n",
      "35/35 [==============================] - 0s 6ms/step - loss: -143.1959 - accuracy: 0.0000e+00 - val_loss: -342.5185 - val_accuracy: 0.0000e+00\n",
      "Epoch 3/100\n",
      "35/35 [==============================] - 0s 5ms/step - loss: -833.4674 - accuracy: 0.0000e+00 - val_loss: -1682.5198 - val_accuracy: 0.0000e+00\n",
      "Epoch 4/100\n",
      "35/35 [==============================] - 0s 5ms/step - loss: -3284.1702 - accuracy: 0.0000e+00 - val_loss: -5848.8984 - val_accuracy: 0.0000e+00\n",
      "Epoch 5/100\n",
      "35/35 [==============================] - 0s 5ms/step - loss: -9815.8496 - accuracy: 0.0000e+00 - val_loss: -15855.1357 - val_accuracy: 0.0000e+00\n",
      "Epoch 6/100\n",
      "35/35 [==============================] - 0s 6ms/step - loss: -23918.8574 - accuracy: 0.0000e+00 - val_loss: -35985.1719 - val_accuracy: 0.0000e+00\n",
      "Epoch 7/100\n",
      "35/35 [==============================] - 0s 5ms/step - loss: -50263.3867 - accuracy: 0.0000e+00 - val_loss: -72009.8984 - val_accuracy: 0.0000e+00\n",
      "Epoch 8/100\n",
      "35/35 [==============================] - 0s 5ms/step - loss: -95270.5391 - accuracy: 0.0000e+00 - val_loss: -131103.4375 - val_accuracy: 0.0000e+00\n",
      "Epoch 9/100\n",
      "35/35 [==============================] - 0s 6ms/step - loss: -166675.8125 - accuracy: 0.0000e+00 - val_loss: -221919.8438 - val_accuracy: 0.0000e+00\n",
      "Epoch 10/100\n",
      "35/35 [==============================] - 0s 5ms/step - loss: -273191.5938 - accuracy: 0.0000e+00 - val_loss: -353601.1875 - val_accuracy: 0.0000e+00\n",
      "Epoch 11/100\n",
      "35/35 [==============================] - 0s 5ms/step - loss: -424903.6875 - accuracy: 0.0000e+00 - val_loss: -537709.1875 - val_accuracy: 0.0000e+00\n",
      "Epoch 12/100\n",
      "35/35 [==============================] - 0s 5ms/step - loss: -631757.1250 - accuracy: 0.0000e+00 - val_loss: -785737.6875 - val_accuracy: 0.0000e+00\n",
      "Epoch 13/100\n",
      "35/35 [==============================] - 0s 5ms/step - loss: -905936.3125 - accuracy: 0.0000e+00 - val_loss: -1109622.8750 - val_accuracy: 0.0000e+00\n",
      "Epoch 14/100\n",
      "35/35 [==============================] - 0s 5ms/step - loss: -1260220.2500 - accuracy: 0.0000e+00 - val_loss: -1522208.6250 - val_accuracy: 0.0000e+00\n",
      "Epoch 15/100\n",
      "35/35 [==============================] - 0s 5ms/step - loss: -1706757.2500 - accuracy: 0.0000e+00 - val_loss: -2041896.2500 - val_accuracy: 0.0000e+00\n",
      "Epoch 16/100\n",
      "35/35 [==============================] - 0s 5ms/step - loss: -2261290.0000 - accuracy: 0.0000e+00 - val_loss: -2675890.2500 - val_accuracy: 0.0000e+00\n",
      "Epoch 17/100\n",
      "35/35 [==============================] - 0s 5ms/step - loss: -2938908.7500 - accuracy: 0.0000e+00 - val_loss: -3442461.2500 - val_accuracy: 0.0000e+00\n",
      "Epoch 18/100\n",
      "35/35 [==============================] - 0s 5ms/step - loss: -3753089.0000 - accuracy: 0.0000e+00 - val_loss: -4359949.0000 - val_accuracy: 0.0000e+00\n",
      "Epoch 19/100\n",
      "35/35 [==============================] - 0s 5ms/step - loss: -4717323.5000 - accuracy: 0.0000e+00 - val_loss: -5450157.0000 - val_accuracy: 0.0000e+00\n",
      "Epoch 20/100\n",
      "35/35 [==============================] - 0s 5ms/step - loss: -5850733.0000 - accuracy: 0.0000e+00 - val_loss: -6719629.0000 - val_accuracy: 0.0000e+00\n",
      "Epoch 21/100\n",
      "35/35 [==============================] - 0s 5ms/step - loss: -7170696.0000 - accuracy: 0.0000e+00 - val_loss: -8180795.0000 - val_accuracy: 0.0000e+00\n",
      "Epoch 22/100\n",
      "35/35 [==============================] - 0s 5ms/step - loss: -8687914.0000 - accuracy: 0.0000e+00 - val_loss: -9873395.0000 - val_accuracy: 0.0000e+00\n",
      "Epoch 23/100\n",
      "35/35 [==============================] - 0s 5ms/step - loss: -10427111.0000 - accuracy: 0.0000e+00 - val_loss: -11798161.0000 - val_accuracy: 0.0000e+00\n",
      "Epoch 24/100\n",
      "35/35 [==============================] - 0s 5ms/step - loss: -12405958.0000 - accuracy: 0.0000e+00 - val_loss: -13964522.0000 - val_accuracy: 0.0000e+00\n",
      "Epoch 25/100\n",
      "35/35 [==============================] - 0s 5ms/step - loss: -14641106.0000 - accuracy: 0.0000e+00 - val_loss: -16400591.0000 - val_accuracy: 0.0000e+00\n",
      "Epoch 26/100\n",
      "35/35 [==============================] - 0s 5ms/step - loss: -17131424.0000 - accuracy: 0.0000e+00 - val_loss: -19163686.0000 - val_accuracy: 0.0000e+00\n",
      "Epoch 27/100\n",
      "35/35 [==============================] - 0s 5ms/step - loss: -19927070.0000 - accuracy: 0.0000e+00 - val_loss: -22196646.0000 - val_accuracy: 0.0000e+00\n",
      "Epoch 28/100\n",
      "35/35 [==============================] - 0s 5ms/step - loss: -23009202.0000 - accuracy: 0.0000e+00 - val_loss: -25575758.0000 - val_accuracy: 0.0000e+00\n",
      "Epoch 29/100\n",
      "35/35 [==============================] - 0s 5ms/step - loss: -26444476.0000 - accuracy: 0.0000e+00 - val_loss: -29244288.0000 - val_accuracy: 0.0000e+00\n",
      "Epoch 30/100\n",
      "35/35 [==============================] - 0s 5ms/step - loss: -30184888.0000 - accuracy: 0.0000e+00 - val_loss: -33347006.0000 - val_accuracy: 0.0000e+00\n",
      "Epoch 31/100\n",
      "35/35 [==============================] - 0s 5ms/step - loss: -34314504.0000 - accuracy: 0.0000e+00 - val_loss: -37800816.0000 - val_accuracy: 0.0000e+00\n",
      "Epoch 32/100\n",
      "35/35 [==============================] - 0s 5ms/step - loss: -38822540.0000 - accuracy: 0.0000e+00 - val_loss: -42648704.0000 - val_accuracy: 0.0000e+00\n",
      "Epoch 33/100\n",
      "35/35 [==============================] - 0s 5ms/step - loss: -43721088.0000 - accuracy: 0.0000e+00 - val_loss: -47953536.0000 - val_accuracy: 0.0000e+00\n",
      "Epoch 34/100\n",
      "35/35 [==============================] - 0s 5ms/step - loss: -49049156.0000 - accuracy: 0.0000e+00 - val_loss: -53684932.0000 - val_accuracy: 0.0000e+00\n",
      "Epoch 35/100\n",
      "35/35 [==============================] - 0s 6ms/step - loss: -54810224.0000 - accuracy: 0.0000e+00 - val_loss: -59881492.0000 - val_accuracy: 0.0000e+00\n",
      "Epoch 36/100\n",
      "35/35 [==============================] - 0s 12ms/step - loss: -61037236.0000 - accuracy: 0.0000e+00 - val_loss: -66560836.0000 - val_accuracy: 0.0000e+00\n",
      "Epoch 37/100\n",
      "35/35 [==============================] - 0s 10ms/step - loss: -67729656.0000 - accuracy: 0.0000e+00 - val_loss: -73768120.0000 - val_accuracy: 0.0000e+00\n",
      "Epoch 38/100\n",
      "35/35 [==============================] - 0s 8ms/step - loss: -74948496.0000 - accuracy: 0.0000e+00 - val_loss: -81442408.0000 - val_accuracy: 0.0000e+00\n",
      "Epoch 39/100\n",
      "35/35 [==============================] - 0s 6ms/step - loss: -82630304.0000 - accuracy: 0.0000e+00 - val_loss: -89747176.0000 - val_accuracy: 0.0000e+00\n",
      "Epoch 40/100\n",
      "35/35 [==============================] - 0s 6ms/step - loss: -90878232.0000 - accuracy: 0.0000e+00 - val_loss: -98586536.0000 - val_accuracy: 0.0000e+00\n",
      "Epoch 41/100\n",
      "35/35 [==============================] - 0s 5ms/step - loss: -99710224.0000 - accuracy: 0.0000e+00 - val_loss: -107873640.0000 - val_accuracy: 0.0000e+00\n",
      "Epoch 42/100\n",
      "35/35 [==============================] - 0s 5ms/step - loss: -109039736.0000 - accuracy: 0.0000e+00 - val_loss: -117897032.0000 - val_accuracy: 0.0000e+00\n",
      "Epoch 43/100\n",
      "35/35 [==============================] - 0s 5ms/step - loss: -118999736.0000 - accuracy: 0.0000e+00 - val_loss: -128490336.0000 - val_accuracy: 0.0000e+00\n",
      "Epoch 44/100\n",
      "35/35 [==============================] - 0s 5ms/step - loss: -129557176.0000 - accuracy: 0.0000e+00 - val_loss: -139660656.0000 - val_accuracy: 0.0000e+00\n",
      "Epoch 45/100\n",
      "35/35 [==============================] - 0s 5ms/step - loss: -140710656.0000 - accuracy: 0.0000e+00 - val_loss: -151576688.0000 - val_accuracy: 0.0000e+00\n",
      "Epoch 46/100\n",
      "35/35 [==============================] - 0s 5ms/step - loss: -152523104.0000 - accuracy: 0.0000e+00 - val_loss: -164159264.0000 - val_accuracy: 0.0000e+00\n",
      "Epoch 47/100\n",
      "35/35 [==============================] - 0s 5ms/step - loss: -165003616.0000 - accuracy: 0.0000e+00 - val_loss: -177376000.0000 - val_accuracy: 0.0000e+00\n",
      "Epoch 48/100\n",
      "35/35 [==============================] - 0s 5ms/step - loss: -178181088.0000 - accuracy: 0.0000e+00 - val_loss: -191312496.0000 - val_accuracy: 0.0000e+00\n",
      "Epoch 49/100\n",
      "35/35 [==============================] - 0s 5ms/step - loss: -191998320.0000 - accuracy: 0.0000e+00 - val_loss: -206094000.0000 - val_accuracy: 0.0000e+00\n",
      "Epoch 50/100\n",
      "35/35 [==============================] - 0s 5ms/step - loss: -206567200.0000 - accuracy: 0.0000e+00 - val_loss: -221597104.0000 - val_accuracy: 0.0000e+00\n"
     ]
    },
    {
     "name": "stdout",
     "output_type": "stream",
     "text": [
      "Epoch 51/100\n",
      "35/35 [==============================] - 0s 5ms/step - loss: -221937792.0000 - accuracy: 0.0000e+00 - val_loss: -237612368.0000 - val_accuracy: 0.0000e+00\n",
      "Epoch 52/100\n",
      "35/35 [==============================] - 0s 5ms/step - loss: -237859024.0000 - accuracy: 0.0000e+00 - val_loss: -254802336.0000 - val_accuracy: 0.0000e+00\n",
      "Epoch 53/100\n",
      "35/35 [==============================] - 0s 4ms/step - loss: -254795472.0000 - accuracy: 0.0000e+00 - val_loss: -272431296.0000 - val_accuracy: 0.0000e+00\n",
      "Epoch 54/100\n",
      "35/35 [==============================] - 0s 5ms/step - loss: -272381984.0000 - accuracy: 0.0000e+00 - val_loss: -291055520.0000 - val_accuracy: 0.0000e+00\n",
      "Epoch 55/100\n",
      "35/35 [==============================] - 0s 6ms/step - loss: -290792960.0000 - accuracy: 0.0000e+00 - val_loss: -310562432.0000 - val_accuracy: 0.0000e+00\n",
      "Epoch 56/100\n",
      "35/35 [==============================] - 0s 5ms/step - loss: -310009504.0000 - accuracy: 0.0000e+00 - val_loss: -331011072.0000 - val_accuracy: 0.0000e+00\n",
      "Epoch 57/100\n",
      "35/35 [==============================] - 0s 5ms/step - loss: -330140416.0000 - accuracy: 0.0000e+00 - val_loss: -352172704.0000 - val_accuracy: 0.0000e+00\n",
      "Epoch 58/100\n",
      "35/35 [==============================] - 0s 4ms/step - loss: -351083872.0000 - accuracy: 0.0000e+00 - val_loss: -374208384.0000 - val_accuracy: 0.0000e+00\n",
      "Epoch 59/100\n",
      "35/35 [==============================] - 0s 5ms/step - loss: -372879456.0000 - accuracy: 0.0000e+00 - val_loss: -397263520.0000 - val_accuracy: 0.0000e+00\n",
      "Epoch 60/100\n",
      "35/35 [==============================] - 0s 5ms/step - loss: -395565376.0000 - accuracy: 0.0000e+00 - val_loss: -421253664.0000 - val_accuracy: 0.0000e+00\n",
      "Epoch 61/100\n",
      "35/35 [==============================] - 0s 5ms/step - loss: -419136576.0000 - accuracy: 0.0000e+00 - val_loss: -446142368.0000 - val_accuracy: 0.0000e+00\n",
      "Epoch 62/100\n",
      "35/35 [==============================] - 0s 5ms/step - loss: -443774208.0000 - accuracy: 0.0000e+00 - val_loss: -471753696.0000 - val_accuracy: 0.0000e+00\n",
      "Epoch 63/100\n",
      "35/35 [==============================] - 0s 5ms/step - loss: -469152640.0000 - accuracy: 0.0000e+00 - val_loss: -498688384.0000 - val_accuracy: 0.0000e+00\n",
      "Epoch 64/100\n",
      "35/35 [==============================] - 0s 4ms/step - loss: -495665760.0000 - accuracy: 0.0000e+00 - val_loss: -526389152.0000 - val_accuracy: 0.0000e+00\n",
      "Epoch 65/100\n",
      "35/35 [==============================] - 0s 5ms/step - loss: -523022784.0000 - accuracy: 0.0000e+00 - val_loss: -555338752.0000 - val_accuracy: 0.0000e+00\n",
      "Epoch 66/100\n",
      "35/35 [==============================] - 0s 5ms/step - loss: -551433216.0000 - accuracy: 0.0000e+00 - val_loss: -585353024.0000 - val_accuracy: 0.0000e+00\n",
      "Epoch 67/100\n",
      "35/35 [==============================] - 0s 4ms/step - loss: -580927360.0000 - accuracy: 0.0000e+00 - val_loss: -616189696.0000 - val_accuracy: 0.0000e+00\n",
      "Epoch 68/100\n",
      "35/35 [==============================] - 0s 4ms/step - loss: -611401664.0000 - accuracy: 0.0000e+00 - val_loss: -648156096.0000 - val_accuracy: 0.0000e+00\n",
      "Epoch 69/100\n",
      "35/35 [==============================] - 0s 5ms/step - loss: -642942592.0000 - accuracy: 0.0000e+00 - val_loss: -681283520.0000 - val_accuracy: 0.0000e+00\n",
      "Epoch 70/100\n",
      "35/35 [==============================] - 0s 4ms/step - loss: -675546752.0000 - accuracy: 0.0000e+00 - val_loss: -715582912.0000 - val_accuracy: 0.0000e+00\n",
      "Epoch 71/100\n",
      "35/35 [==============================] - 0s 4ms/step - loss: -709191744.0000 - accuracy: 0.0000e+00 - val_loss: -751168832.0000 - val_accuracy: 0.0000e+00\n",
      "Epoch 72/100\n",
      "35/35 [==============================] - 0s 4ms/step - loss: -744109184.0000 - accuracy: 0.0000e+00 - val_loss: -787498176.0000 - val_accuracy: 0.0000e+00\n",
      "Epoch 73/100\n",
      "35/35 [==============================] - 0s 5ms/step - loss: -779966336.0000 - accuracy: 0.0000e+00 - val_loss: -825267072.0000 - val_accuracy: 0.0000e+00\n",
      "Epoch 74/100\n",
      "35/35 [==============================] - 0s 5ms/step - loss: -816976320.0000 - accuracy: 0.0000e+00 - val_loss: -864363648.0000 - val_accuracy: 0.0000e+00\n",
      "Epoch 75/100\n",
      "35/35 [==============================] - 0s 4ms/step - loss: -855258048.0000 - accuracy: 0.0000e+00 - val_loss: -904403648.0000 - val_accuracy: 0.0000e+00\n",
      "Epoch 76/100\n",
      "35/35 [==============================] - 0s 5ms/step - loss: -894640000.0000 - accuracy: 0.0000e+00 - val_loss: -945587584.0000 - val_accuracy: 0.0000e+00\n",
      "Epoch 77/100\n",
      "35/35 [==============================] - 0s 5ms/step - loss: -935230720.0000 - accuracy: 0.0000e+00 - val_loss: -988006784.0000 - val_accuracy: 0.0000e+00\n",
      "Epoch 78/100\n",
      "35/35 [==============================] - 0s 4ms/step - loss: -977010176.0000 - accuracy: 0.0000e+00 - val_loss: -1031781184.0000 - val_accuracy: 0.0000e+00\n",
      "Epoch 79/100\n",
      "35/35 [==============================] - 0s 4ms/step - loss: -1019932288.0000 - accuracy: 0.0000e+00 - val_loss: -1077215616.0000 - val_accuracy: 0.0000e+00\n",
      "Epoch 80/100\n",
      "35/35 [==============================] - 0s 6ms/step - loss: -1064377856.0000 - accuracy: 0.0000e+00 - val_loss: -1123196288.0000 - val_accuracy: 0.0000e+00\n",
      "Epoch 81/100\n",
      "35/35 [==============================] - 0s 5ms/step - loss: -1109684096.0000 - accuracy: 0.0000e+00 - val_loss: -1171211136.0000 - val_accuracy: 0.0000e+00\n",
      "Epoch 82/100\n",
      "35/35 [==============================] - 0s 4ms/step - loss: -1156711168.0000 - accuracy: 0.0000e+00 - val_loss: -1219843328.0000 - val_accuracy: 0.0000e+00\n",
      "Epoch 83/100\n",
      "35/35 [==============================] - 0s 5ms/step - loss: -1204503168.0000 - accuracy: 0.0000e+00 - val_loss: -1270779392.0000 - val_accuracy: 0.0000e+00\n",
      "Epoch 84/100\n",
      "35/35 [==============================] - 0s 5ms/step - loss: -1254183424.0000 - accuracy: 0.0000e+00 - val_loss: -1322221056.0000 - val_accuracy: 0.0000e+00\n",
      "Epoch 85/100\n",
      "35/35 [==============================] - 0s 4ms/step - loss: -1304819328.0000 - accuracy: 0.0000e+00 - val_loss: -1375399680.0000 - val_accuracy: 0.0000e+00\n",
      "Epoch 86/100\n",
      "35/35 [==============================] - 0s 5ms/step - loss: -1357034624.0000 - accuracy: 0.0000e+00 - val_loss: -1429487104.0000 - val_accuracy: 0.0000e+00\n",
      "Epoch 87/100\n",
      "35/35 [==============================] - 0s 5ms/step - loss: -1410286464.0000 - accuracy: 0.0000e+00 - val_loss: -1485737088.0000 - val_accuracy: 0.0000e+00\n",
      "Epoch 88/100\n",
      "35/35 [==============================] - 0s 5ms/step - loss: -1465115264.0000 - accuracy: 0.0000e+00 - val_loss: -1543245312.0000 - val_accuracy: 0.0000e+00\n",
      "Epoch 89/100\n",
      "35/35 [==============================] - 0s 5ms/step - loss: -1521392256.0000 - accuracy: 0.0000e+00 - val_loss: -1601859712.0000 - val_accuracy: 0.0000e+00\n",
      "Epoch 90/100\n",
      "35/35 [==============================] - 0s 5ms/step - loss: -1578855424.0000 - accuracy: 0.0000e+00 - val_loss: -1662210944.0000 - val_accuracy: 0.0000e+00\n",
      "Epoch 91/100\n",
      "35/35 [==============================] - 0s 5ms/step - loss: -1637773056.0000 - accuracy: 0.0000e+00 - val_loss: -1724107520.0000 - val_accuracy: 0.0000e+00\n",
      "Epoch 92/100\n",
      "35/35 [==============================] - 0s 4ms/step - loss: -1698374528.0000 - accuracy: 0.0000e+00 - val_loss: -1786814848.0000 - val_accuracy: 0.0000e+00\n",
      "Epoch 93/100\n",
      "35/35 [==============================] - 0s 5ms/step - loss: -1760023808.0000 - accuracy: 0.0000e+00 - val_loss: -1851705856.0000 - val_accuracy: 0.0000e+00\n",
      "Epoch 94/100\n",
      "35/35 [==============================] - 0s 5ms/step - loss: -1823215232.0000 - accuracy: 0.0000e+00 - val_loss: -1918131072.0000 - val_accuracy: 0.0000e+00\n",
      "Epoch 95/100\n",
      "35/35 [==============================] - 0s 5ms/step - loss: -1888254336.0000 - accuracy: 0.0000e+00 - val_loss: -1985294080.0000 - val_accuracy: 0.0000e+00\n",
      "Epoch 96/100\n",
      "35/35 [==============================] - 0s 4ms/step - loss: -1954365312.0000 - accuracy: 0.0000e+00 - val_loss: -2054711168.0000 - val_accuracy: 0.0000e+00\n",
      "Epoch 97/100\n",
      "35/35 [==============================] - 0s 5ms/step - loss: -2022296448.0000 - accuracy: 0.0000e+00 - val_loss: -2125293440.0000 - val_accuracy: 0.0000e+00\n",
      "Epoch 98/100\n",
      "35/35 [==============================] - 0s 5ms/step - loss: -2091532672.0000 - accuracy: 0.0000e+00 - val_loss: -2197836544.0000 - val_accuracy: 0.0000e+00\n",
      "Epoch 99/100\n"
     ]
    },
    {
     "name": "stdout",
     "output_type": "stream",
     "text": [
      "35/35 [==============================] - 0s 4ms/step - loss: -2162481920.0000 - accuracy: 0.0000e+00 - val_loss: -2271923200.0000 - val_accuracy: 0.0000e+00\n",
      "Epoch 100/100\n",
      "35/35 [==============================] - 0s 4ms/step - loss: -2234878976.0000 - accuracy: 0.0000e+00 - val_loss: -2347919104.0000 - val_accuracy: 0.0000e+00\n"
     ]
    }
   ],
   "source": [
    "history = model.fit(X_train_scaled, y_train, epochs=100, batch_size=32, validation_data=(X_val_scaled, y_val))"
   ]
  },
  {
   "cell_type": "markdown",
   "metadata": {},
   "source": [
    "***"
   ]
  },
  {
   "cell_type": "markdown",
   "metadata": {},
   "source": [
    "## Q13. Obtain the model's parameters (weights and biases).\n"
   ]
  },
  {
   "cell_type": "code",
   "execution_count": 47,
   "metadata": {},
   "outputs": [
    {
     "data": {
      "text/plain": [
       "[array([[-6.5376153 , -4.184374  , -6.619252  , ...,  6.0032663 ,\n",
       "          6.247058  , -6.5025344 ],\n",
       "        [ 3.2436404 , -4.7645535 ,  5.4811177 , ..., -5.4575143 ,\n",
       "         -6.26365   ,  5.558322  ],\n",
       "        [-6.4638257 , -2.5856159 , -6.4474    , ...,  6.1060915 ,\n",
       "          6.190179  , -6.45431   ],\n",
       "        ...,\n",
       "        [ 6.052053  ,  5.201331  ,  6.061624  , ..., -6.3381267 ,\n",
       "         -6.3399487 ,  6.109406  ],\n",
       "        [-5.4592476 ,  1.9292827 , -6.0161657 , ...,  4.7776475 ,\n",
       "          5.2699447 , -5.5941577 ],\n",
       "        [ 3.6557574 ,  5.1893535 , -1.3175995 , ..., -1.4043177 ,\n",
       "          4.300152  , -0.65702873]], dtype=float32),\n",
       " array([6.6752195, 6.6528482, 6.6744666, 6.5636086, 6.592651 , 6.685486 ,\n",
       "        6.650886 , 6.668511 , 6.611186 , 6.5887966, 6.592049 , 6.667948 ,\n",
       "        6.5922284, 6.620998 , 6.62571  , 6.609979 , 6.612471 , 6.637108 ,\n",
       "        6.658284 , 6.575224 , 6.6367855, 6.6659384, 6.601415 , 6.6446567,\n",
       "        6.671788 , 6.6718946, 6.6231947, 6.676224 , 6.6561937, 6.658284 ,\n",
       "        6.629949 , 6.639996 , 6.628369 , 6.628003 , 6.677463 , 6.6177382,\n",
       "        6.6795526, 6.6764426, 6.667273 , 6.6461515, 6.6197114, 6.661666 ,\n",
       "        6.6527348, 6.6850142, 6.6494517, 6.6815624, 6.625287 , 6.6106715,\n",
       "        6.655499 , 6.639926 , 6.635775 , 6.6747613, 6.5750804, 6.6562405,\n",
       "        6.6394825, 6.672413 , 6.619847 , 6.6536446, 6.6642356, 6.606184 ,\n",
       "        6.671452 , 6.6618195, 6.659722 , 6.6826763, 6.6293063, 6.6205606,\n",
       "        6.6194344, 6.5416284, 6.629018 , 6.6428733, 6.6856265, 6.6781735,\n",
       "        6.693334 , 6.63163  , 6.587282 , 6.6668663, 6.5939207, 6.576038 ,\n",
       "        6.6426144, 6.662503 , 6.651661 , 6.683405 , 6.6429014, 6.662074 ,\n",
       "        6.6274996, 6.6540856, 6.637314 , 6.634002 , 6.654356 , 6.6522703,\n",
       "        6.6685348, 6.6771536, 6.628832 , 6.63968  , 6.6501894, 6.704934 ,\n",
       "        6.5964375, 6.6767116, 6.6768003, 6.6567545, 6.661277 , 6.5849295,\n",
       "        6.6672397, 6.5882726, 6.638874 , 6.6645737, 6.5778236, 6.6302395,\n",
       "        6.6292233, 6.535619 , 6.6287227, 6.6615877, 6.6720543, 6.5887375,\n",
       "        6.668624 , 6.6536613, 6.638917 , 6.6583385, 6.673296 , 6.6651335,\n",
       "        6.6315336, 6.628531 , 6.5904126, 6.625498 , 6.6817164, 6.6274257,\n",
       "        6.598925 , 6.6684318], dtype=float32),\n",
       " array([[ 6.591146  , -0.15357786, -0.17975011, ...,  6.4475007 ,\n",
       "          6.449669  ,  6.44104   ],\n",
       "        [ 6.7547965 , -0.16549665,  0.05014939, ...,  6.6787834 ,\n",
       "          6.7613206 ,  6.5418086 ],\n",
       "        [ 6.481676  , -0.13339691,  0.04016601, ...,  6.4197707 ,\n",
       "          6.5856204 ,  6.516591  ],\n",
       "        ...,\n",
       "        [ 6.6224585 ,  0.01926811, -0.06074173, ...,  6.645502  ,\n",
       "          6.5762205 ,  6.613809  ],\n",
       "        [ 6.4156213 , -0.11292958, -0.03150975, ...,  6.5211306 ,\n",
       "          6.630008  ,  6.616031  ],\n",
       "        [ 6.4958363 , -0.01283897,  0.03268779, ...,  6.519529  ,\n",
       "          6.61509   ,  6.6170034 ]], dtype=float32),\n",
       " array([ 5.88323   , -0.02197262, -0.02301816, -0.02291331,  5.8724384 ,\n",
       "         5.8703885 ,  5.849419  ,  5.880467  ,  5.8932605 , -0.03197375,\n",
       "         5.8943496 ,  5.8387666 ,  5.8735304 ,  5.8778977 ,  5.9026656 ,\n",
       "         5.8683977 ,  5.871411  ,  5.8692007 , -0.03112688, -0.02870229,\n",
       "         5.8833637 ,  5.866209  ,  5.844301  , -0.02659234,  5.8826804 ,\n",
       "         5.8843474 ,  5.8741508 ,  5.900174  ,  5.894257  ,  5.86519   ,\n",
       "        -0.02374806,  5.885884  ,  5.875834  ,  5.8739004 ,  5.8813434 ,\n",
       "         5.8914957 ,  5.894165  ,  5.8609986 ,  5.8655457 ,  5.851149  ,\n",
       "         5.8880897 ,  5.880052  ,  5.745115  ,  5.8381615 ,  5.871065  ,\n",
       "         5.8839684 ,  5.9129105 ,  5.8364005 , -0.01952148,  5.8460584 ,\n",
       "         5.765412  ,  5.885686  ,  5.908732  ,  5.9016485 ,  5.9008265 ,\n",
       "        -0.02084315,  5.8802    , -0.01602364,  5.853331  ,  5.9143047 ,\n",
       "         5.8988857 ,  5.876107  ,  5.8514934 ,  5.8697066 ], dtype=float32),\n",
       " array([[ 0.12397701,  6.393818  , -0.03245631, ...,  6.925041  ,\n",
       "         -0.11835483,  6.672625  ],\n",
       "        [ 0.1967089 , -0.1477934 ,  0.18963729, ...,  0.14724362,\n",
       "          0.20385072, -0.08121987],\n",
       "        [ 0.04949653,  0.21149419, -0.07342684, ..., -0.09913951,\n",
       "         -0.1391985 , -0.10271131],\n",
       "        ...,\n",
       "        [-0.07102057,  6.5911293 , -0.21453659, ...,  6.755741  ,\n",
       "          0.19872312,  6.614876  ],\n",
       "        [-0.23002926,  6.8593597 ,  0.16912451, ...,  6.549233  ,\n",
       "         -0.19715278,  6.8614526 ],\n",
       "        [-0.22253352,  6.8184133 , -0.03802021, ...,  6.926055  ,\n",
       "          0.0358585 ,  6.8485265 ]], dtype=float32),\n",
       " array([-0.02551044,  4.707551  , -0.01635681,  4.7003636 , -0.01468364,\n",
       "         4.737911  , -0.04647666, -0.01681155,  4.9951644 ,  4.7903028 ,\n",
       "        -0.0164644 ,  4.820774  , -0.02728214, -0.01909605,  4.972707  ,\n",
       "        -0.02888357, -0.03196989,  4.9274893 ,  4.78222   ,  4.7601447 ,\n",
       "         4.970667  , -0.01316771, -0.0293809 ,  4.8787827 , -0.0097547 ,\n",
       "        -0.03856433,  4.8916073 , -0.01557624,  4.8175364 ,  4.8340087 ,\n",
       "        -0.01502758,  5.015753  ], dtype=float32),\n",
       " array([[-2.4050485e-01],\n",
       "        [ 7.1679158e+00],\n",
       "        [-3.8515481e-01],\n",
       "        [ 7.1595654e+00],\n",
       "        [-2.5597963e-01],\n",
       "        [ 7.1032000e+00],\n",
       "        [-3.7545834e-03],\n",
       "        [-1.6980750e-03],\n",
       "        [ 6.8034410e+00],\n",
       "        [ 7.0182672e+00],\n",
       "        [-1.7241354e-01],\n",
       "        [ 6.9648108e+00],\n",
       "        [-2.2703266e-01],\n",
       "        [-8.7546088e-02],\n",
       "        [ 6.8475232e+00],\n",
       "        [-3.6127609e-01],\n",
       "        [-4.2133305e-02],\n",
       "        [ 6.8489795e+00],\n",
       "        [ 7.0518074e+00],\n",
       "        [ 7.0493822e+00],\n",
       "        [ 6.8076515e+00],\n",
       "        [-2.0576903e-01],\n",
       "        [-7.4832864e-02],\n",
       "        [ 6.9189262e+00],\n",
       "        [-3.6853716e-01],\n",
       "        [-1.1375517e-01],\n",
       "        [ 6.8964796e+00],\n",
       "        [-3.8935640e-01],\n",
       "        [ 6.9695644e+00],\n",
       "        [ 6.9545979e+00],\n",
       "        [-1.4967896e-01],\n",
       "        [ 6.7842636e+00]], dtype=float32),\n",
       " array([3.494645], dtype=float32)]"
      ]
     },
     "execution_count": 47,
     "metadata": {},
     "output_type": "execute_result"
    }
   ],
   "source": [
    "model.get_weights()"
   ]
  },
  {
   "cell_type": "markdown",
   "metadata": {},
   "source": [
    "***"
   ]
  },
  {
   "cell_type": "markdown",
   "metadata": {},
   "source": [
    "## Q14. Store the model's training history as a Pandas DataFrame.\n"
   ]
  },
  {
   "cell_type": "code",
   "execution_count": 48,
   "metadata": {},
   "outputs": [],
   "source": [
    "history_df = pd.DataFrame(history.history)"
   ]
  },
  {
   "cell_type": "code",
   "execution_count": 49,
   "metadata": {},
   "outputs": [
    {
     "data": {
      "text/html": [
       "<div>\n",
       "<style scoped>\n",
       "    .dataframe tbody tr th:only-of-type {\n",
       "        vertical-align: middle;\n",
       "    }\n",
       "\n",
       "    .dataframe tbody tr th {\n",
       "        vertical-align: top;\n",
       "    }\n",
       "\n",
       "    .dataframe thead th {\n",
       "        text-align: right;\n",
       "    }\n",
       "</style>\n",
       "<table border=\"1\" class=\"dataframe\">\n",
       "  <thead>\n",
       "    <tr style=\"text-align: right;\">\n",
       "      <th></th>\n",
       "      <th>loss</th>\n",
       "      <th>accuracy</th>\n",
       "      <th>val_loss</th>\n",
       "      <th>val_accuracy</th>\n",
       "    </tr>\n",
       "  </thead>\n",
       "  <tbody>\n",
       "    <tr>\n",
       "      <th>0</th>\n",
       "      <td>-15.919020</td>\n",
       "      <td>0.0</td>\n",
       "      <td>-45.558342</td>\n",
       "      <td>0.0</td>\n",
       "    </tr>\n",
       "    <tr>\n",
       "      <th>1</th>\n",
       "      <td>-143.195862</td>\n",
       "      <td>0.0</td>\n",
       "      <td>-342.518494</td>\n",
       "      <td>0.0</td>\n",
       "    </tr>\n",
       "    <tr>\n",
       "      <th>2</th>\n",
       "      <td>-833.467407</td>\n",
       "      <td>0.0</td>\n",
       "      <td>-1682.519775</td>\n",
       "      <td>0.0</td>\n",
       "    </tr>\n",
       "    <tr>\n",
       "      <th>3</th>\n",
       "      <td>-3284.170166</td>\n",
       "      <td>0.0</td>\n",
       "      <td>-5848.898438</td>\n",
       "      <td>0.0</td>\n",
       "    </tr>\n",
       "    <tr>\n",
       "      <th>4</th>\n",
       "      <td>-9815.849609</td>\n",
       "      <td>0.0</td>\n",
       "      <td>-15855.135742</td>\n",
       "      <td>0.0</td>\n",
       "    </tr>\n",
       "  </tbody>\n",
       "</table>\n",
       "</div>"
      ],
      "text/plain": [
       "          loss  accuracy      val_loss  val_accuracy\n",
       "0   -15.919020       0.0    -45.558342           0.0\n",
       "1  -143.195862       0.0   -342.518494           0.0\n",
       "2  -833.467407       0.0  -1682.519775           0.0\n",
       "3 -3284.170166       0.0  -5848.898438           0.0\n",
       "4 -9815.849609       0.0 -15855.135742           0.0"
      ]
     },
     "execution_count": 49,
     "metadata": {},
     "output_type": "execute_result"
    }
   ],
   "source": [
    "history_df.head()"
   ]
  },
  {
   "cell_type": "markdown",
   "metadata": {},
   "source": [
    "***"
   ]
  },
  {
   "cell_type": "markdown",
   "metadata": {},
   "source": [
    "## Q15. Plot the training history (e.g., accuracy and loss) using suitable visualization techniques.\n"
   ]
  },
  {
   "cell_type": "code",
   "execution_count": 50,
   "metadata": {},
   "outputs": [
    {
     "data": {
      "image/png": "[encoded data removed]",
      "text/plain": [
       "<Figure size 720x360 with 2 Axes>"
      ]
     },
     "metadata": {
      "needs_background": "light"
     },
     "output_type": "display_data"
    }
   ],
   "source": [
    "plt.figure(figsize=(10, 5))\n",
    "\n",
    "# Plot training & validation accuracy values\n",
    "plt.subplot(1, 2, 1)\n",
    "plt.plot(history_df['accuracy'])\n",
    "plt.plot(history_df['val_accuracy'])\n",
    "plt.title('Model accuracy')\n",
    "plt.xlabel('Epoch')\n",
    "plt.ylabel('Accuracy')\n",
    "plt.legend(['Train', 'Validation'], loc='upper left')\n",
    "\n",
    "# Plot training & validation loss values\n",
    "plt.subplot(1, 2, 2)\n",
    "plt.plot(history_df['loss'])\n",
    "plt.plot(history_df['val_loss'])\n",
    "plt.title('Model loss')\n",
    "plt.xlabel('Epoch')\n",
    "plt.ylabel('Loss')\n",
    "plt.legend(['Train', 'Validation'], loc='upper left')\n",
    "\n",
    "plt.tight_layout()\n",
    "plt.show()"
   ]
  },
  {
   "cell_type": "markdown",
   "metadata": {},
   "source": [
    "***"
   ]
  },
  {
   "cell_type": "markdown",
   "metadata": {},
   "source": [
    "## Q16. Evaluate the model's performance using the test dataset and report relevant metrics."
   ]
  },
  {
   "cell_type": "code",
   "execution_count": 51,
   "metadata": {},
   "outputs": [
    {
     "name": "stdout",
     "output_type": "stream",
     "text": [
      "8/8 [==============================] - 0s 4ms/step - loss: -2405857536.0000 - accuracy: 0.0000e+00\n",
      "Test Accuracy: 0.00%\n",
      "Test Loss: -2405857536.0\n"
     ]
    }
   ],
   "source": [
    "test_loss, test_accuracy = model.evaluate(X_test_scaled, y_test)\n",
    "print(f\"Test Accuracy: {test_accuracy * 100:.2f}%\")\n",
    "print(f\"Test Loss: {test_loss}\")"
   ]
  },
  {
   "cell_type": "markdown",
   "metadata": {},
   "source": [
    "***"
   ]
  }
 ],
 "metadata": {
  "kernelspec": {
   "display_name": "Python 3 (ipykernel)",
   "language": "python",
   "name": "python3"
  },
  "language_info": {
   "codemirror_mode": {
    "name": "ipython",
    "version": 3
   },
   "file_extension": ".py",
   "mimetype": "text/x-python",
   "name": "python",
   "nbconvert_exporter": "python",
   "pygments_lexer": "ipython3",
   "version": "3.9.5"
  }
 },
 "nbformat": 4,
 "nbformat_minor": 2
}
