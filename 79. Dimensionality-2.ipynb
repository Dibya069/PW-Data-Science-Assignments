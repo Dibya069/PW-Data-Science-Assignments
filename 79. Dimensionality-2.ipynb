{
 "cells": [
  {
   "cell_type": "markdown",
   "id": "0a8d8d6e",
   "metadata": {},
   "source": [
    "# Q1. What is a projection and how is it used in PCA?\n"
   ]
  },
  {
   "cell_type": "markdown",
   "id": "836e5524",
   "metadata": {},
   "source": [
    "- projection is a linear transformation that maps a vector onto a subspace of a vector space.\n",
    "- The projection matrix is simply the matrix formed by the first few eigenvectors, and it is used to transform the original data into a new coordinate system where the new variables (principal components) are uncorrelated and capture most of the variance in the original data."
   ]
  },
  {
   "cell_type": "code",
   "execution_count": null,
   "id": "2c15cfbd",
   "metadata": {},
   "outputs": [],
   "source": []
  },
  {
   "cell_type": "markdown",
   "id": "3522925a",
   "metadata": {},
   "source": [
    "# Q2. How does the optimization problem in PCA work, and what is it trying to achieve?\n"
   ]
  },
  {
   "cell_type": "markdown",
   "id": "984e0e2f",
   "metadata": {},
   "source": [
    "- The optimization problem in PCA can be formulated as finding a set of k orthogonal vectors, also known as principal components, that maximize the variance of the projected data onto these vectors. The first principal component is the vector that explains the largest amount of variance in the data, the second principal component is the vector that explains the second-largest amount of variance, and so on.\n",
    "- The optimization problem in PCA is trying to achieve a lower-dimensional representation of the data that captures the most important information or variance in the data."
   ]
  },
  {
   "cell_type": "code",
   "execution_count": null,
   "id": "658b9955",
   "metadata": {},
   "outputs": [],
   "source": []
  },
  {
   "cell_type": "markdown",
   "id": "6fcac77c",
   "metadata": {},
   "source": [
    "# Q3. What is the relationship between covariance matrices and PCA?\n"
   ]
  },
  {
   "cell_type": "markdown",
   "id": "01bc3bcc",
   "metadata": {},
   "source": [
    "The covariance matrix plays a central role in PCA by determining the directions of maximum variance in the data and the corresponding amount of information or variance captured by the principal components."
   ]
  },
  {
   "cell_type": "code",
   "execution_count": null,
   "id": "e49b0460",
   "metadata": {},
   "outputs": [],
   "source": []
  },
  {
   "cell_type": "markdown",
   "id": "affa43a4",
   "metadata": {},
   "source": [
    "# Q4. How does the choice of number of principal components impact the performance of PCA?\n"
   ]
  },
  {
   "cell_type": "markdown",
   "id": "17fddbb9",
   "metadata": {},
   "source": [
    "the number of principal components chosen should strike a balance between preserving as much variance in the data as possible and avoiding overfitting. It is often recommended to choose a number of principal components that preserves at least 70-80% of the total variance in the data. "
   ]
  },
  {
   "cell_type": "code",
   "execution_count": null,
   "id": "f2934dc9",
   "metadata": {},
   "outputs": [],
   "source": []
  },
  {
   "cell_type": "markdown",
   "id": "dfb31502",
   "metadata": {},
   "source": [
    "# Q5. How can PCA be used in feature selection, and what are the benefits of using it for this purpose?\n"
   ]
  },
  {
   "cell_type": "markdown",
   "id": "e80e6aed",
   "metadata": {},
   "source": [
    "- PCA can be used in feature selection to reduce the dimensionality of high-dimensional data by selecting a smaller number of features that best capture the most important information or variance in the data. \n",
    "<br><br><br>\n",
    "1. Reduces overfitting: High-dimensional data with many features can lead to overfitting, which can decrease the performance of machine learning algorithms. By reducing the number of features, PCA can help reduce overfitting and improve the generalization performance of the model.\n",
    "2. Improves interpretability: High-dimensional data can be difficult to interpret, making it challenging to identify which features are most relevant for a given problem. By selecting a smaller number of features using PCA, the resulting dataset can be more interpretable and easier to analyze.\n",
    "3. Handles multicollinearity: In high-dimensional data, features can be highly correlated with each other, which can lead to instability and poor performance of machine learning algorithms. PCA can help handle multicollinearity by identifying the underlying structure in the data and selecting the features that capture the most important information or variance.\n",
    "4. Increases efficiency: By reducing the dimensionality of the data, PCA can help improve the efficiency of machine learning algorithms, which can be particularly useful when working with large datasets."
   ]
  },
  {
   "cell_type": "code",
   "execution_count": null,
   "id": "659b4528",
   "metadata": {},
   "outputs": [],
   "source": []
  },
  {
   "cell_type": "markdown",
   "id": "b8b77c9a",
   "metadata": {},
   "source": [
    "# Q6. What are some common applications of PCA in data science and machine learning?\n"
   ]
  },
  {
   "cell_type": "markdown",
   "id": "61590f62",
   "metadata": {},
   "source": [
    "Image and video processing: PCA can be used to reduce the dimensionality of image and video data, allowing for more efficient processing and analysis. For example, PCA can be used for facial recognition and image compression.\n",
    "\n",
    "Finance: PCA can be used for portfolio optimization and risk management by identifying the underlying structure and correlations in financial data.\n",
    "\n",
    "Genetics: PCA can be used to identify patterns and structure in genetic data, such as gene expression data and genomic data.\n",
    "\n",
    "Marketing and customer segmentation: PCA can be used to identify patterns and clusters in customer data, allowing for more targeted marketing and customer segmentation."
   ]
  },
  {
   "cell_type": "code",
   "execution_count": null,
   "id": "46d55b61",
   "metadata": {},
   "outputs": [],
   "source": []
  },
  {
   "cell_type": "markdown",
   "id": "dc1f888f",
   "metadata": {},
   "source": [
    "# Q7.What is the relationship between spread and variance in PCA?\n"
   ]
  },
  {
   "cell_type": "markdown",
   "id": "8869b9e0",
   "metadata": {},
   "source": [
    "Spread is measured by the eigenvalues of the covariance matrix along the principal components, while variance is measured by the diagonal elements of the covariance matrix along each individual feature or dimension of the data."
   ]
  },
  {
   "cell_type": "code",
   "execution_count": null,
   "id": "1367c1a9",
   "metadata": {},
   "outputs": [],
   "source": []
  },
  {
   "cell_type": "markdown",
   "id": "434a2967",
   "metadata": {},
   "source": [
    "# Q8. How does PCA use the spread and variance of the data to identify principal components?\n"
   ]
  },
  {
   "cell_type": "markdown",
   "id": "b250c453",
   "metadata": {},
   "source": [
    "The spread and variance of the data are important in identifying principal components because they capture the underlying structure and correlations in the data. Principal components with higher eigenvalues correspond to directions in the data with higher spread and variance, indicating that they capture more of the important information or variation in the data. By focusing on the principal components with the highest eigenvalues, PCA can identify the most important patterns or structure in the data, while discarding noise or unimportant information."
   ]
  },
  {
   "cell_type": "code",
   "execution_count": null,
   "id": "d4110a67",
   "metadata": {},
   "outputs": [],
   "source": []
  },
  {
   "cell_type": "markdown",
   "id": "6a475845",
   "metadata": {},
   "source": [
    "# Q9. How does PCA handle data with high variance in some dimensions but low variance in others?"
   ]
  },
  {
   "cell_type": "markdown",
   "id": "29d4c4e1",
   "metadata": {},
   "source": [
    "PCA can handle data with high variance in some dimensions but low variance in others by identifying the directions in the data with the most variation, regardless of which dimensions they are in."
   ]
  },
  {
   "cell_type": "code",
   "execution_count": null,
   "id": "603ffb39",
   "metadata": {},
   "outputs": [],
   "source": []
  }
 ],
 "metadata": {
  "kernelspec": {
   "display_name": "Python 3 (ipykernel)",
   "language": "python",
   "name": "python3"
  },
  "language_info": {
   "codemirror_mode": {
    "name": "ipython",
    "version": 3
   },
   "file_extension": ".py",
   "mimetype": "text/x-python",
   "name": "python",
   "nbconvert_exporter": "python",
   "pygments_lexer": "ipython3",
   "version": "3.9.5"
  }
 },
 "nbformat": 4,
 "nbformat_minor": 5
}
