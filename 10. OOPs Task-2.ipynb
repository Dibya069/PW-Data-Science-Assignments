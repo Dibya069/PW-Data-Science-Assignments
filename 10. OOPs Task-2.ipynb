{
 "cells": [
  {
   "cell_type": "markdown",
   "id": "afaa3017",
   "metadata": {},
   "source": [
    "## Q1. Which function is used to open a file? What are the different modes of opening a file? Explain each mode of file opening."
   ]
  },
  {
   "cell_type": "markdown",
   "id": "09c73a69",
   "metadata": {},
   "source": [
    "-  the open() function is used to open a file. It is a built-in function that allows you to interact with files in various ways.\n",
    "\n",
    "1. \"r\": Read mode\n",
    "This is the default mode if no mode is specified.\n",
    "It opens the file for reading.\n",
    "If the file doesn't exist, it raises a FileNotFoundError.\n",
    "``Example: file = open(\"myfile.txt\", \"r\")``\n",
    "\n",
    "2. \"w\": Write mode\n",
    "It opens the file for writing.\n",
    "If the file doesn't exist, it creates a new file.\n",
    "If the file exists, it truncates (clears) the file before writing.\n",
    "``Example: file = open(\"myfile.txt\", \"w\")``\n",
    "\n",
    "3. \"a\": Append mode\n",
    "It opens the file for appending data at the end.\n",
    "If the file doesn't exist, it creates a new file.\n",
    "``Example: file = open(\"myfile.txt\", \"a\")``\n",
    "\n",
    "4. \"x\": Exclusive creation mode\n",
    "It opens the file for exclusive creation.\n",
    "If the file already exists, it raises a FileExistsError.\n",
    "``Example: file = open(\"myfile.txt\", \"x\")``\n",
    "\n",
    "5. \"b\": Binary mode\n",
    "It opens the file in binary mode, allowing reading or writing binary data.\n",
    "``Example: file = open(\"myfile.txt\", \"rb\")``\n",
    "\n",
    "6. \"t\": Text mode (default)\n",
    "It opens the file in text mode for reading or writing textual data.\n",
    "``Example: file = open(\"myfile.txt\", \"wt\")``\n",
    "\n",
    "7. \"+\": Read and write mode\n",
    "It opens the file for both reading and writing.\n",
    "``Example: file = open(\"myfile.txt\", \"r+\")``"
   ]
  },
  {
   "cell_type": "markdown",
   "id": "79c94414",
   "metadata": {},
   "source": [
    "***"
   ]
  },
  {
   "cell_type": "markdown",
   "id": "ec312936",
   "metadata": {},
   "source": [
    "## Q2. Why close() function is used? Why is it important to close a file?"
   ]
  },
  {
   "cell_type": "markdown",
   "id": "a4906952",
   "metadata": {},
   "source": [
    "- The close() function is used to close a file that was opened using the open() function in Python. It is important to close a file after you have finished working with it. \n",
    "\n",
    " - Resource Management: When a file is opened, the operating system allocates resources, such as memory and file descriptors, to maintain the connection between your program and the file. If you don't close the file properly, these resources may not be released until the program terminates, potentially leading to resource leaks. Closing the file with close() ensures that these resources are properly freed up and can be used by other processes or parts of your program.\n",
    "\n",
    " - Data Integrity: When you write data to a file, it may be buffered in memory by the operating system or Python's runtime environment before being written to the actual file on disk. The close() function ensures that any remaining buffered data is written to the file before it is closed. If you don't close the file, the data may not be fully written to the disk, leading to potential data loss or inconsistencies.\n",
    "\n",
    " - File Locking: In some cases, when a file is opened, it may be locked by the operating system or other processes. This prevents other programs or processes from accessing or modifying the file while it is in use. By closing the file, you release the lock and allow other processes to access it.\n",
    "\n",
    " - Resource Limits: Operating systems often impose limits on the number of open file descriptors a process can have. If you open too many files without closing them, you may exceed these limits, causing your program to fail or behave unexpectedly. Closing files promptly with close() helps you avoid such issues."
   ]
  },
  {
   "cell_type": "markdown",
   "id": "d09a92ee",
   "metadata": {},
   "source": [
    "***"
   ]
  },
  {
   "cell_type": "markdown",
   "id": "bcf198d8",
   "metadata": {},
   "source": [
    "## Q3. Write a python program to create a text file. Write ‘I want to become a Data Scientist’ in that file. Then close the file. Open this file and read the content of the file."
   ]
  },
  {
   "cell_type": "code",
   "execution_count": 12,
   "id": "43b007a3",
   "metadata": {},
   "outputs": [],
   "source": [
    "# Create the file and write content\n",
    "file_name = \"my_file.txt\"\n",
    "content = \"I want to become a Data Scientist\"\n",
    "\n",
    "with open(file_name, \"w\") as file:\n",
    "    file.write(content)"
   ]
  },
  {
   "cell_type": "code",
   "execution_count": 13,
   "id": "abeb6656",
   "metadata": {},
   "outputs": [],
   "source": [
    "# Open the file and read its contents\n",
    "with open(file_name, \"r\") as file:\n",
    "    file_content = file.read()"
   ]
  },
  {
   "cell_type": "code",
   "execution_count": 14,
   "id": "4aca20c7",
   "metadata": {},
   "outputs": [
    {
     "name": "stdout",
     "output_type": "stream",
     "text": [
      "I want to become a Data Scientist\n"
     ]
    }
   ],
   "source": [
    "print(file_content)\n"
   ]
  },
  {
   "cell_type": "markdown",
   "id": "85d881ae",
   "metadata": {},
   "source": [
    "***"
   ]
  },
  {
   "cell_type": "markdown",
   "id": "683495db",
   "metadata": {},
   "source": [
    "## 4. Explain the following with python code: read(), readline() and readlines()."
   ]
  },
  {
   "cell_type": "markdown",
   "id": "99449fe6",
   "metadata": {},
   "source": [
    "``read(): The read() method reads the entire contents of a file as a string.``"
   ]
  },
  {
   "cell_type": "code",
   "execution_count": 16,
   "id": "ae575031",
   "metadata": {},
   "outputs": [],
   "source": [
    "with open(file_name, \"r\") as file:\n",
    "    content = file.read()"
   ]
  },
  {
   "cell_type": "markdown",
   "id": "722387d6",
   "metadata": {},
   "source": [
    "``readline(): The readline() method reads a single line from a file and returns it as a string.``"
   ]
  },
  {
   "cell_type": "code",
   "execution_count": 17,
   "id": "08478648",
   "metadata": {},
   "outputs": [],
   "source": [
    "with open(file_name, \"r\") as file:\n",
    "    line = file.readline()\n"
   ]
  },
  {
   "cell_type": "markdown",
   "id": "e50bcead",
   "metadata": {},
   "source": [
    "``readlines(): The readlines() method reads all lines from a file and returns them as a list of strings.``"
   ]
  },
  {
   "cell_type": "code",
   "execution_count": 18,
   "id": "b6962cdc",
   "metadata": {},
   "outputs": [],
   "source": [
    "with open(file_name, \"r\") as file:\n",
    "    lines = file.readlines()\n"
   ]
  },
  {
   "cell_type": "markdown",
   "id": "6931b007",
   "metadata": {},
   "source": [
    "***"
   ]
  },
  {
   "cell_type": "markdown",
   "id": "00f3929c",
   "metadata": {},
   "source": [
    "## Q5. Explain why with statement is used with open(). What is the advantage of using with statement and open() together?"
   ]
  },
  {
   "cell_type": "markdown",
   "id": "2e1f0a88",
   "metadata": {},
   "source": [
    "- The with statement in Python is used in conjunction with the open() function to provide a convenient and efficient way of working with files. "
   ]
  },
  {
   "cell_type": "markdown",
   "id": "beff5b4d",
   "metadata": {},
   "source": [
    " - Automatic Resource Management: The primary advantage of using the with statement with open() is that it automatically takes care of resource management. It ensures that the file is properly opened and, most importantly, closed, regardless of whether an exception occurs or not. This eliminates the need to explicitly call the close() method on the file object, reducing the chances of resource leaks and improving code robustness.\n",
    "\n",
    " - Exception Handling: When working with files, there is always a possibility of encountering errors, such as file not found, permission issues, or I/O errors. By using the with statement, any exceptions raised during the execution of the block of code are caught, and the file is automatically closed. This ensures that the file is properly closed, even in the presence of errors, preventing potential issues and data corruption.\n",
    "\n",
    " - Readability and Code Conciseness: The with statement improves the readability and conciseness of code by clearly indicating the scope in which the file is being used. It provides a more structured and context-dependent approach, making the code easier to understand and maintain."
   ]
  },
  {
   "cell_type": "markdown",
   "id": "4ba81390",
   "metadata": {},
   "source": [
    "***"
   ]
  },
  {
   "cell_type": "markdown",
   "id": "07e7e505",
   "metadata": {},
   "source": [
    "## Q6. Explain the write() and writelines() functions. Give a suitable example."
   ]
  },
  {
   "cell_type": "markdown",
   "id": "15c17e01",
   "metadata": {},
   "source": [
    "``write(): The write() function is used to write a string of characters to a file. It appends the content at the current position in the file.``"
   ]
  },
  {
   "cell_type": "code",
   "execution_count": 20,
   "id": "b0532c9a",
   "metadata": {},
   "outputs": [],
   "source": [
    "with open(file_name, \"w\") as file:\n",
    "    file.write(\"Hello, World!\")\n"
   ]
  },
  {
   "cell_type": "markdown",
   "id": "a1e2687f",
   "metadata": {},
   "source": [
    "``writelines(): The writelines() function is used to write multiple lines of text to a file. It takes a list of strings as input, where each string represents a line of text.``"
   ]
  },
  {
   "cell_type": "code",
   "execution_count": 21,
   "id": "61069686",
   "metadata": {},
   "outputs": [],
   "source": [
    "lines = [\"Line 1\\n\", \"Line 2\\n\", \"Line 3\\n\"]\n",
    "\n",
    "with open(\"myfile.txt\", \"w\") as file:\n",
    "    file.writelines(lines)\n"
   ]
  },
  {
   "cell_type": "code",
   "execution_count": null,
   "id": "c3c777b9",
   "metadata": {},
   "outputs": [],
   "source": []
  }
 ],
 "metadata": {
  "kernelspec": {
   "display_name": "Python 3 (ipykernel)",
   "language": "python",
   "name": "python3"
  },
  "language_info": {
   "codemirror_mode": {
    "name": "ipython",
    "version": 3
   },
   "file_extension": ".py",
   "mimetype": "text/x-python",
   "name": "python",
   "nbconvert_exporter": "python",
   "pygments_lexer": "ipython3",
   "version": "3.9.5"
  }
 },
 "nbformat": 4,
 "nbformat_minor": 5
}
