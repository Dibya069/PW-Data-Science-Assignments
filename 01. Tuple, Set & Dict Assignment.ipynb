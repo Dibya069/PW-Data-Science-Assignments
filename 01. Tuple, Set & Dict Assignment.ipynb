{
 "cells": [
  {
   "cell_type": "markdown",
   "id": "17f230df",
   "metadata": {},
   "source": [
    "### 1. What are the characteristics of the tuples? Is tuple immutable?"
   ]
  },
  {
   "cell_type": "markdown",
   "id": "3dabe12b",
   "metadata": {},
   "source": [
    "Ans:\n",
    "1. Tuples are immutable\n",
    "2. Tuples can contain elements of different data types\n",
    "3. Tuples are indexed\n",
    "4. Tuples are faster than lists"
   ]
  },
  {
   "cell_type": "markdown",
   "id": "08bf5cce",
   "metadata": {},
   "source": [
    "### 2. What are the two tuple methods in python? Give an example of each method. Give a reason why tuples have only two in-built methods as compared to Lists. "
   ]
  },
  {
   "cell_type": "markdown",
   "id": "7fc4918b",
   "metadata": {},
   "source": [
    "Ans: \n",
    "\n",
    "Tuple have 2 in-built methods:\n",
    "        1. count() method\n",
    "        2. index() method\n",
    "\n",
    "count() method example:"
   ]
  },
  {
   "cell_type": "code",
   "execution_count": 5,
   "id": "1bc746ef",
   "metadata": {},
   "outputs": [
    {
     "data": {
      "text/plain": [
       "3"
      ]
     },
     "execution_count": 5,
     "metadata": {},
     "output_type": "execute_result"
    }
   ],
   "source": [
    "t = (1, 2, 3, 4, 2, 5, 2)\n",
    "count_2 = t.count(2)\n",
    "count_2"
   ]
  },
  {
   "cell_type": "markdown",
   "id": "d2c5e72e",
   "metadata": {},
   "source": [
    "index() method example:"
   ]
  },
  {
   "cell_type": "code",
   "execution_count": 7,
   "id": "70c47a31",
   "metadata": {},
   "outputs": [
    {
     "data": {
      "text/plain": [
       "1"
      ]
     },
     "execution_count": 7,
     "metadata": {},
     "output_type": "execute_result"
    }
   ],
   "source": [
    "t = (1, 2, 3, 4, 2, 5, 2)\n",
    "index_2 = t.index(2)\n",
    "index_2"
   ]
  },
  {
   "cell_type": "markdown",
   "id": "1148c30e",
   "metadata": {},
   "source": [
    "Reason because tuples have only two in-built methods as compared to lists is that tuples are immutable, whereas lists are mutable."
   ]
  },
  {
   "cell_type": "markdown",
   "id": "d68775c3",
   "metadata": {},
   "source": [
    "### 3. Which collection datatypes in python do not allow duplicate items? Write a code using a set to remove duplicates from the given list.\n",
    "#### List = [1, 1, 1, 2, 1, 3, 1, 4, 2, 1, 2, 2, 2, 3, 2, 4, 3, 1, 3, 2, 3, 3, 3, 4, 4, 1, 4, 2, 4, 3, 4, 4]"
   ]
  },
  {
   "cell_type": "markdown",
   "id": "b2908d59",
   "metadata": {},
   "source": [
    "Ans:\n",
    "    \n",
    "1. Set and Collection does not allow duplicate items"
   ]
  },
  {
   "cell_type": "code",
   "execution_count": 2,
   "id": "0c51f37f",
   "metadata": {},
   "outputs": [
    {
     "name": "stdout",
     "output_type": "stream",
     "text": [
      "[1, 2, 3, 4]\n"
     ]
    }
   ],
   "source": [
    "original_list = [1, 1, 1, 2, 1, 3, 1, 4, 2, 1, 2, 2, 2, 3, 2, 4, 3, 1, 3, 2, 3, 3, 3, 4, 4, 1, 4, 2, 4, 3, 4, 4]\n",
    "unique_set = set(original_list)\n",
    "new_list = list(unique_set)\n",
    "print(new_list)"
   ]
  },
  {
   "cell_type": "markdown",
   "id": "be3eaf60",
   "metadata": {},
   "source": [
    "### 4. Explain the difference between the union() and update() methods for a set. Give an example of each method."
   ]
  },
  {
   "cell_type": "markdown",
   "id": "e9b6ad69",
   "metadata": {},
   "source": [
    "union() method returns a new set that contains all the unique elements of the original sets.\n",
    "update() method adds all the unique elements of one set to another set."
   ]
  },
  {
   "cell_type": "code",
   "execution_count": 9,
   "id": "1520ca27",
   "metadata": {},
   "outputs": [
    {
     "name": "stdout",
     "output_type": "stream",
     "text": [
      "{1, 2, 3, 4, 5}\n",
      "{1, 2, 3, 4, 5}\n"
     ]
    }
   ],
   "source": [
    "# Example of union() method\n",
    "set1 = {1, 2, 3}\n",
    "set2 = {3, 4, 5}\n",
    "set3 = set1.union(set2)\n",
    "print(set3) \n",
    "\n",
    "# Example of update() method\n",
    "set1 = {1, 2, 3}\n",
    "set2 = {3, 4, 5}\n",
    "set1.update(set2)\n",
    "print(set1) "
   ]
  },
  {
   "cell_type": "markdown",
   "id": "acae2fa2",
   "metadata": {},
   "source": [
    "### 5. What is a dictionary? Give an example. Also, state whether a dictionary is ordered or unordered."
   ]
  },
  {
   "cell_type": "markdown",
   "id": "61524fd3",
   "metadata": {},
   "source": [
    "1. Dictionary is a collection data type that stores key-value pairs."
   ]
  },
  {
   "cell_type": "code",
   "execution_count": 13,
   "id": "39752e93",
   "metadata": {},
   "outputs": [
    {
     "data": {
      "text/plain": [
       "{'apple': 1, 'banana': 2, 'orange': 3}"
      ]
     },
     "execution_count": 13,
     "metadata": {},
     "output_type": "execute_result"
    }
   ],
   "source": [
    "my_dict = {\"apple\": 1, \"banana\": 2, \"orange\": 3}\n",
    "my_dict"
   ]
  },
  {
   "cell_type": "markdown",
   "id": "8a0bc8b5",
   "metadata": {},
   "source": [
    "### 6. Can we create a nested dictionary? If so, please give an example by creating a simple one-level nested dictionary."
   ]
  },
  {
   "cell_type": "markdown",
   "id": "a7ae7489",
   "metadata": {},
   "source": [
    "- Yes, we can create a nested dictionary in Python"
   ]
  },
  {
   "cell_type": "code",
   "execution_count": 15,
   "id": "94d997c6",
   "metadata": {},
   "outputs": [
    {
     "name": "stdout",
     "output_type": "stream",
     "text": [
      "Anytown\n"
     ]
    }
   ],
   "source": [
    "person = {\n",
    "    'name': 'John',\n",
    "    'age': 30,\n",
    "    'address': {\n",
    "        'street': '123 Main St',\n",
    "        'city': 'Anytown',\n",
    "        'state': 'CA',\n",
    "        'zip': '12345'\n",
    "    }\n",
    "}\n",
    "\n",
    "print(person['address']['city'])"
   ]
  },
  {
   "cell_type": "markdown",
   "id": "3b688670",
   "metadata": {},
   "source": [
    "### 7. Using setdefault() method, create key named topics in the given dictionary and also add the value of the key as this list ['Python', 'Machine Learning’, 'Deep Learning']"
   ]
  },
  {
   "cell_type": "code",
   "execution_count": 17,
   "id": "9f205750",
   "metadata": {},
   "outputs": [
    {
     "data": {
      "text/plain": [
       "{'language': 'Python',\n",
       " 'course': 'Data Science Masters',\n",
       " 'topics': ['Python', 'Machine Learning', 'Deep Learning']}"
      ]
     },
     "execution_count": 17,
     "metadata": {},
     "output_type": "execute_result"
    }
   ],
   "source": [
    "dict1 = {'language' : 'Python', 'course': 'Data Science Masters'}\n",
    "dict1.setdefault('topics', ['Python', 'Machine Learning', 'Deep Learning'])\n",
    "dict1"
   ]
  },
  {
   "cell_type": "markdown",
   "id": "265ae5f6",
   "metadata": {},
   "source": [
    "### 8. What are the three view objects in dictionaries? Use the three in-built methods in python to display these three view objects for the given dictionary.\n",
    "#### dict1 = {'Sport': 'Cricket' , 'Teams': ['India', 'Australia', 'England', 'South Africa', 'Sri Lanka', 'New Zealand']}"
   ]
  },
  {
   "cell_type": "markdown",
   "id": "b87f8a14",
   "metadata": {},
   "source": [
    "ANS:\n",
    "\n",
    "Python, there are three types of view objects that can be created from a dictionary:\n",
    "1. dict_keys\n",
    "2. dict_values\n",
    "3. dict_items "
   ]
  },
  {
   "cell_type": "code",
   "execution_count": 21,
   "id": "3e74b456",
   "metadata": {},
   "outputs": [
    {
     "name": "stdout",
     "output_type": "stream",
     "text": [
      "dict_keys view object: dict_keys(['Sport', 'Teams'])\n",
      "dict_values view object: dict_values(['Cricket', ['India', 'Australia', 'England', 'South Africa', 'Sri Lanka', 'New Zealand']])\n",
      "dict_items view object: dict_items([('Sport', 'Cricket'), ('Teams', ['India', 'Australia', 'England', 'South Africa', 'Sri Lanka', 'New Zealand'])])\n"
     ]
    }
   ],
   "source": [
    "dict1 = {'Sport': 'Cricket' , 'Teams': ['India', 'Australia', 'England', 'South Africa', 'Sri Lanka', 'New Zealand']}\n",
    "\n",
    "print(\"dict_keys view object:\", dict1.keys())\n",
    "print(\"dict_values view object:\", dict1.values())\n",
    "print(\"dict_items view object:\", dict1.items())"
   ]
  },
  {
   "cell_type": "code",
   "execution_count": null,
   "id": "1d65a8db",
   "metadata": {},
   "outputs": [],
   "source": []
  }
 ],
 "metadata": {
  "kernelspec": {
   "display_name": "Python 3 (ipykernel)",
   "language": "python",
   "name": "python3"
  },
  "language_info": {
   "codemirror_mode": {
    "name": "ipython",
    "version": 3
   },
   "file_extension": ".py",
   "mimetype": "text/x-python",
   "name": "python",
   "nbconvert_exporter": "python",
   "pygments_lexer": "ipython3",
   "version": "3.9.5"
  }
 },
 "nbformat": 4,
 "nbformat_minor": 5
}
