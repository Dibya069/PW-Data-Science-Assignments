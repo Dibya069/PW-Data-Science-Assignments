{
 "cells": [
  {
   "cell_type": "markdown",
   "id": "21a9883e",
   "metadata": {},
   "source": [
    "## Q1. What is a time series, and what are some common applications of time series analysis?\n"
   ]
  },
  {
   "cell_type": "markdown",
   "id": "185a2635",
   "metadata": {},
   "source": [
    "A time series is a sequence of data points collected over time, where each data point is associated with a specific timestamp or period. \n",
    "- Stock market forecasting\n",
    "- Demand forecasting in supply chain management\n",
    "- Weather forecasting\n",
    "- Economic forecasting\n",
    "- Sales forecasting"
   ]
  },
  {
   "cell_type": "markdown",
   "id": "c6e4150c",
   "metadata": {},
   "source": [
    "***"
   ]
  },
  {
   "cell_type": "markdown",
   "id": "0f020c73",
   "metadata": {},
   "source": [
    "## Q2. What are some common time series patterns, and how can they be identified and interpreted?\n"
   ]
  },
  {
   "cell_type": "markdown",
   "id": "58237f03",
   "metadata": {},
   "source": [
    "- Trend: A long-term increase or decrease in the data.\n",
    "- Seasonality: Repeating patterns at regular intervals, such as daily, weekly, or yearly.\n",
    "- Cycles: Longer-term patterns that are not as regular as seasonality.\n",
    "- Irregularity or noise: Random fluctuations that are not explained by other patterns."
   ]
  },
  {
   "cell_type": "markdown",
   "id": "9a885d67",
   "metadata": {},
   "source": [
    "These patterns can be identified and interpreted through various techniques such as visual inspection of the data, decomposition of the time series into trend, seasonality, and residual components, and statistical tests for detecting patterns and dependencies."
   ]
  },
  {
   "cell_type": "markdown",
   "id": "9e9d4942",
   "metadata": {},
   "source": [
    "***"
   ]
  },
  {
   "cell_type": "markdown",
   "id": "ec30960a",
   "metadata": {},
   "source": [
    "## Q3. How can time series data be preprocessed before applying analysis techniques?\n"
   ]
  },
  {
   "cell_type": "markdown",
   "id": "a2a0a9cd",
   "metadata": {},
   "source": [
    "- Handling missing values: Missing values can be interpolated or filled using appropriate techniques.\n",
    "- Handling outliers: Outliers can be detected and treated through techniques such as smoothing or winsorization.\n",
    "- Removing or adjusting trend and seasonality: Detrending and deseasonalizing the data can be done to make it stationary.\n",
    "- Resampling: Changing the frequency of the data, such as converting daily data to monthly or quarterly data."
   ]
  },
  {
   "cell_type": "markdown",
   "id": "f2a341c9",
   "metadata": {},
   "source": [
    "***"
   ]
  },
  {
   "cell_type": "markdown",
   "id": "dfa754f8",
   "metadata": {},
   "source": [
    "## Q4. How can time series forecasting be used in business decision-making, and what are some common challenges and limitations?\n"
   ]
  },
  {
   "cell_type": "markdown",
   "id": "95f2c862",
   "metadata": {},
   "source": [
    "Time series forecasting is used in business decision-making to predict future values or trends based on historical patterns. It helps in planning, resource allocation, inventory management, budgeting, and overall decision-making processes.\n",
    "- Limited historical data: Forecasting accuracy may be affected by the availability of a limited number of historical observations.\n",
    "- Uncertain future events: External factors or events that are not captured in historical data can impact future outcomes.\n",
    "- Non-stationarity: Non-stationary time series with changing means, variances, or trends can pose challenges for accurate forecasting."
   ]
  },
  {
   "cell_type": "markdown",
   "id": "97d27ecf",
   "metadata": {},
   "source": [
    "***"
   ]
  },
  {
   "cell_type": "markdown",
   "id": "79545fed",
   "metadata": {},
   "source": [
    "## Q5. What is ARIMA modelling, and how can it be used to forecast time series data?\n"
   ]
  },
  {
   "cell_type": "markdown",
   "id": "8ab03861",
   "metadata": {},
   "source": [
    "- ARIMA (AutoRegressive Integrated Moving Average) modeling is a popular technique used to forecast time series data. It combines autoregressive (AR), differencing (I), and moving average (MA) components to capture different aspects of the time series patterns. "
   ]
  },
  {
   "cell_type": "markdown",
   "id": "16c4c6b4",
   "metadata": {},
   "source": [
    "***"
   ]
  },
  {
   "cell_type": "markdown",
   "id": "452f0eac",
   "metadata": {},
   "source": [
    "## Q6. How do Autocorrelation Function (ACF) and Partial Autocorrelation Function (PACF) plots help in identifying the order of ARIMA models?\n"
   ]
  },
  {
   "cell_type": "markdown",
   "id": "f2e9c07b",
   "metadata": {},
   "source": [
    "- ACF measures the correlation between a time series and its lagged values\n",
    "- PACF measures the correlation between a time series and its lagged values, excluding the effects of intervening observations.\n",
    "-  By analyzing the significant spikes or cutoffs in ACF and PACF plots, one can determine the appropriate order of the ARIMA model"
   ]
  },
  {
   "cell_type": "markdown",
   "id": "7c942317",
   "metadata": {},
   "source": [
    "***"
   ]
  },
  {
   "cell_type": "markdown",
   "id": "846d13f8",
   "metadata": {},
   "source": [
    "## Q7. What are the assumptions of ARIMA models, and how can they be tested for in practice?\n"
   ]
  },
  {
   "cell_type": "markdown",
   "id": "a3c76665",
   "metadata": {},
   "source": [
    "- Stationarity can be assessed by examining the mean, variance, and autocorrelation structure of the time series. Techniques like the Augmented Dickey-Fuller (ADF) test can test for stationarity.\n",
    "- Independence of residuals can be checked by analyzing the ACF plot of the residuals or conducting statistical tests like the Ljung-Box test for autocorrelation.\n",
    "- Normality of residuals can be assessed by inspecting the histogram, QQ plot, or conducting normality tests like the Jarque-Bera test."
   ]
  },
  {
   "cell_type": "markdown",
   "id": "131446a1",
   "metadata": {},
   "source": [
    "***"
   ]
  },
  {
   "cell_type": "markdown",
   "id": "005411f0",
   "metadata": {},
   "source": [
    "## Q8. Suppose you have monthly sales data for a retail store for the past three years. Which type of time series model would you recommend for forecasting future sales, and why?\n"
   ]
  },
  {
   "cell_type": "markdown",
   "id": "a2a408f4",
   "metadata": {},
   "source": [
    "For forecasting future sales based on monthly sales data for the past three years, a time series model that captures both trend and seasonality would be appropriate."
   ]
  },
  {
   "cell_type": "markdown",
   "id": "22f69719",
   "metadata": {},
   "source": [
    "***"
   ]
  },
  {
   "cell_type": "markdown",
   "id": "5fb3f31a",
   "metadata": {},
   "source": [
    "## Q9. What are some of the limitations of time series analysis? Provide an example of a scenario where the limitations of time series analysis may be particularly relevant.\n"
   ]
  },
  {
   "cell_type": "markdown",
   "id": "5dc1ceca",
   "metadata": {},
   "source": [
    "- Uncertainty: Future outcomes are predicted based on historical patterns and assumptions, which may not accurately capture future events or external factors.\n",
    "- Lack of explanatory power: Time series analysis focuses on pattern detection and prediction but does not provide direct insights into the underlying causes or relationships between variables.\n",
    "- Assumption violations: Time series models often assume stationarity, independence, and normality, which may not hold in real-world data."
   ]
  },
  {
   "cell_type": "markdown",
   "id": "0c272d35",
   "metadata": {},
   "source": [
    "For example, in a scenario where a sudden and unforeseen event like a global pandemic occurs, historical sales data may not capture the drastic changes in consumer behavior and demand patterns, leading to limitations in the accuracy of the forecasts."
   ]
  },
  {
   "cell_type": "markdown",
   "id": "aa8ab027",
   "metadata": {},
   "source": [
    "***"
   ]
  },
  {
   "cell_type": "markdown",
   "id": "ba1be986",
   "metadata": {},
   "source": [
    "## Q10. Explain the difference between a stationary and non-stationary time series. How does the stationarity of a time series affect the choice of forecasting model?"
   ]
  },
  {
   "cell_type": "markdown",
   "id": "20655f13",
   "metadata": {},
   "source": [
    "- A stationary time series has constant mean, variance, and autocorrelation structure over time, while a non-stationary time series exhibits trends, seasonality, or other changing patterns.\n",
    "<br><br>\n",
    "- If the time series is stationary, simpler models like ARMA (AutoRegressive Moving Average) or ARIMA can be used to capture the autocorrelation patterns and make accurate forecasts.\n",
    "- If the time series is non-stationary, models like SARIMA or other advanced techniques may be required to capture and remove the trend, seasonality, or other non-stationary components before forecasting."
   ]
  },
  {
   "cell_type": "code",
   "execution_count": null,
   "id": "3e38efa7",
   "metadata": {},
   "outputs": [],
   "source": []
  }
 ],
 "metadata": {
  "kernelspec": {
   "display_name": "Python 3 (ipykernel)",
   "language": "python",
   "name": "python3"
  },
  "language_info": {
   "codemirror_mode": {
    "name": "ipython",
    "version": 3
   },
   "file_extension": ".py",
   "mimetype": "text/x-python",
   "name": "python",
   "nbconvert_exporter": "python",
   "pygments_lexer": "ipython3",
   "version": "3.9.5"
  }
 },
 "nbformat": 4,
 "nbformat_minor": 5
}
