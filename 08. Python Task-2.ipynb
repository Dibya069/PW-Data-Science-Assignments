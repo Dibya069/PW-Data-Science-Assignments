{
 "cells": [
  {
   "cell_type": "markdown",
   "metadata": {},
   "source": [
    "## Q1. You are writing code for a company. The requirement of the company is that you create a python function that will check whether the password entered by the user is correct or not. The function should take the password as input and return the string “Valid Password” if the entered password follows the below-given password guidelines else it should return “Invalid Password”.\n",
    "Note: 1. The Password should contain at least two uppercase letters and at least two lowercase letters."
   ]
  },
  {
   "cell_type": "code",
   "execution_count": 10,
   "metadata": {
    "vscode": {
     "languageId": "plaintext"
    }
   },
   "outputs": [
    {
     "name": "stdout",
     "output_type": "stream",
     "text": [
      "Valid Password\n"
     ]
    }
   ],
   "source": [
    "import re\n",
    "\n",
    "def validate_password(password):\n",
    "    # Check if the password is 10 characters long\n",
    "    if len(password) <= 10:\n",
    "        return \"Invalid Password\"\n",
    "\n",
    "    # Count the number of uppercase and lowercase letters\n",
    "    uppercase_count = sum(1 for char in password if char.isupper())\n",
    "    lowercase_count = sum(1 for char in password if char.islower())\n",
    "\n",
    "    # Count the number of digits and special characters\n",
    "    digit_count = sum(1 for char in password if char.isdigit())\n",
    "    special_char_count = sum(1 for char in password if char.isalnum() is False and char.isascii())\n",
    "\n",
    "    # Check if all conditions are met\n",
    "    if uppercase_count >= 1 and lowercase_count >= 2 and digit_count >= 2 and special_char_count >= 1:\n",
    "        return \"Valid Password\"\n",
    "    else:\n",
    "        return \"Invalid Password\"\n",
    "\n",
    "# Example usage:\n",
    "password = \"Abc@@#123456\"\n",
    "result = validate_password(password)\n",
    "print(result)"
   ]
  },
  {
   "cell_type": "markdown",
   "metadata": {},
   "source": [
    "***"
   ]
  },
  {
   "cell_type": "markdown",
   "metadata": {},
   "source": [
    "## 2. The Password should contain at least a number and three special characters.\n",
    "## 3. The length of the password should be 10 characters long. Q2. Solve the below-given questions using at least one of the following:\n",
    "    1. Lambda functioJ\n",
    "    2. Filter functioJ\n",
    "    3. Zap functioJ\n",
    "    4. List ComprehensioI\n",
    "    - Check if the string starts with a particular letterY\n",
    "    - Check if the string is numericY\n",
    "    - Sort a list of tuples having fruit names and their quantity. [(\"mango\",99),(\"orange\",80), (\"grapes\", 1000)]\n",
    "    - Find the squares of numbers from 1 to 10Y\n",
    "    - Find the cube root of numbers from 1 to 10Y\n",
    "    - Check if a given number is evenY\n",
    "    - Filter odd numbers from the given list. [1,2,3,4,5,6,7,8,9,10]\n",
    "    - Sort a list of integers into positive and negative integers lists. [1,2,3,4,5,6,-1,-2,-3,-4,-5,0]"
   ]
  },
  {
   "cell_type": "code",
   "execution_count": 4,
   "metadata": {
    "vscode": {
     "languageId": "plaintext"
    }
   },
   "outputs": [
    {
     "name": "stdout",
     "output_type": "stream",
     "text": [
      "['apple']\n",
      "['123', '456']\n",
      "[1, 4, 9, 16, 25, 36, 49, 64, 81, 100]\n",
      "[1.0, 1.2599210498948732, 1.4422495703074083, 1.5874010519681994, 1.7099759466766968, 1.8171205928321397, 1.912931182772389, 2.0, 2.080083823051904, 2.154434690031884]\n",
      "[2, 4, 6, 8, 10]\n",
      "[1, 3, 5, 7, 9]\n",
      "[('orange', 80), ('mango', 99), ('grapes', 1000)]\n",
      "Positive Integers: [1, 2, 3, 4, 5, 6]\n",
      "Negative Integers: [-1, -2, -3, -4, -5]\n"
     ]
    }
   ],
   "source": [
    "# Check if the string starts with a particular letter\n",
    "starts_with_letter = lambda s, letter: s.startswith(letter)\n",
    "strings = [\"apple\", \"banana\", \"cherry\"]\n",
    "filtered_strings = [s for s in strings if starts_with_letter(s, \"a\")]\n",
    "print(filtered_strings)\n",
    "\n",
    "# Check if the string is numeric\n",
    "is_numeric = lambda s: s.isnumeric()\n",
    "strings = [\"123\", \"abc\", \"456\"]\n",
    "numeric_strings = [s for s in strings if is_numeric(s)]\n",
    "print(numeric_strings)\n",
    "\n",
    "# Find the squares of numbers from 1 to 10\n",
    "squares = [x**2 for x in range(1, 11)]\n",
    "print(squares)\n",
    "\n",
    "# Find the cube root of numbers from 1 to 10\n",
    "import math\n",
    "cube_roots = [math.pow(x, 1/3) for x in range(1, 11)]\n",
    "print(cube_roots)\n",
    "\n",
    "# Check if a given number is even\n",
    "is_even = lambda x: x % 2 == 0\n",
    "numbers = [1, 2, 3, 4, 5, 6, 7, 8, 9, 10]\n",
    "even_numbers = [x for x in numbers if is_even(x)]\n",
    "print(even_numbers)\n",
    "\n",
    "# Filter odd numbers from the given list\n",
    "odd_numbers = list(filter(lambda x: x % 2 != 0, numbers))\n",
    "print(odd_numbers)\n",
    "\n",
    "# Sort a list of tuples having fruit names and their quantity\n",
    "fruit_tuples = [(\"mango\", 99), (\"orange\", 80), (\"grapes\", 1000)]\n",
    "sorted_fruit_tuples = sorted(fruit_tuples, key=lambda x: x[1])\n",
    "print(sorted_fruit_tuples)\n",
    "\n",
    "# Sort a list of integers into positive and negative integers lists\n",
    "integers = [1, 2, 3, 4, 5, 6, -1, -2, -3, -4, -5, 0]\n",
    "positive_integers = [x for x in integers if x > 0]\n",
    "negative_integers = [x for x in integers if x < 0]\n",
    "print(\"Positive Integers:\", positive_integers)\n",
    "print(\"Negative Integers:\", negative_integers)\n"
   ]
  },
  {
   "cell_type": "code",
   "execution_count": null,
   "metadata": {},
   "outputs": [],
   "source": []
  }
 ],
 "metadata": {
  "kernelspec": {
   "display_name": "Python 3 (ipykernel)",
   "language": "python",
   "name": "python3"
  },
  "language_info": {
   "codemirror_mode": {
    "name": "ipython",
    "version": 3
   },
   "file_extension": ".py",
   "mimetype": "text/x-python",
   "name": "python",
   "nbconvert_exporter": "python",
   "pygments_lexer": "ipython3",
   "version": "3.9.5"
  }
 },
 "nbformat": 4,
 "nbformat_minor": 2
}
