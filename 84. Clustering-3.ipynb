{
 "cells": [
  {
   "cell_type": "markdown",
   "id": "24c339e5",
   "metadata": {},
   "source": [
    "## Q1. Explain the basic concept of clustering and give examples of applications where clustering is useful.\n"
   ]
  },
  {
   "cell_type": "markdown",
   "id": "3f0c4b0e",
   "metadata": {},
   "source": [
    "Clustering is a machine learning technique that involves grouping similar data points together based on their characteristics or patterns. The goal of clustering is to find natural groupings or clusters in the data without any prior knowledge of the class labels.\n",
    "\n",
    "- Customer segmentation: Clustering customers based on their purchasing behavior or demographic information to identify distinct groups for targeted marketing strategies.\n",
    "- Image segmentation: Grouping pixels or regions in an image based on their color, texture, or spatial proximity for tasks like object recognition or image compression.\n",
    "- Document clustering: Organizing documents based on their content similarity to facilitate document retrieval or topic modeling."
   ]
  },
  {
   "cell_type": "markdown",
   "id": "6d3d8d45",
   "metadata": {},
   "source": [
    "***"
   ]
  },
  {
   "cell_type": "markdown",
   "id": "e7e777f8",
   "metadata": {},
   "source": [
    "## Q2. What is DBSCAN and how does it differ from other clustering algorithms such as k-means and hierarchical clustering?\n"
   ]
  },
  {
   "cell_type": "markdown",
   "id": "61c5bfda",
   "metadata": {},
   "source": [
    "- DBSCAN (Density-Based Spatial Clustering of Applications with Noise) is a density-based clustering algorithm.\n",
    " - Handling clusters of arbitrary shapes: DBSCAN can discover clusters of different shapes and sizes, whereas k-means assumes clusters with spherical shapes and hierarchical clustering assumes nested hierarchical structures.\n",
    " - Handling noise and outliers: DBSCAN can effectively identify and classify noise points as outliers, while k-means and hierarchical clustering assign all data points to clusters, including outliers.\n",
    " - Automatic determination of cluster number: DBSCAN does not require specifying the number of clusters in advance, whereas k-means and hierarchical clustering often need the number of clusters as an input."
   ]
  },
  {
   "cell_type": "markdown",
   "id": "150c8813",
   "metadata": {},
   "source": [
    "***"
   ]
  },
  {
   "cell_type": "markdown",
   "id": "14cd73bd",
   "metadata": {},
   "source": [
    "## Q3. How do you determine the optimal values for the epsilon and minimum points parameters in DBSCAN clustering?\n"
   ]
  },
  {
   "cell_type": "markdown",
   "id": "f4b18382",
   "metadata": {},
   "source": [
    "- Visual inspection: Plotting the distance to the kth nearest neighbor against the data points can help identify the elbow point where a significant increase in distance occurs. This can provide a suitable value for epsilon.\n",
    "- Reachability plot: Plotting the reachability distance against the data points can help identify a suitable threshold for minimum points.\n",
    "- Silhouette score: Calculating the silhouette score for different combinations of epsilon and minimum points can help select the parameter values that yield the highest silhouette score, indicating better cluster quality."
   ]
  },
  {
   "cell_type": "markdown",
   "id": "28d39c88",
   "metadata": {},
   "source": [
    "***"
   ]
  },
  {
   "cell_type": "markdown",
   "id": "ef8c846c",
   "metadata": {},
   "source": [
    "## Q4. How does DBSCAN clustering handle outliers in a dataset?\n"
   ]
  },
  {
   "cell_type": "markdown",
   "id": "63b3be7a",
   "metadata": {},
   "source": [
    "DBSCAN clustering handles outliers in a dataset by classifying them as noise points. Outliers are considered as data points that do not belong to any dense region and are not part of any cluster. DBSCAN identifies dense regions and connects data points within these regions, leaving the outliers as unassigned points or noise."
   ]
  },
  {
   "cell_type": "markdown",
   "id": "4c958d1e",
   "metadata": {},
   "source": [
    "***"
   ]
  },
  {
   "cell_type": "markdown",
   "id": "d8b31996",
   "metadata": {},
   "source": [
    "## Q5. How does DBSCAN clustering differ from k-means clustering?\n"
   ]
  },
  {
   "cell_type": "markdown",
   "id": "492e7b30",
   "metadata": {},
   "source": [
    "- Number of clusters: DBSCAN does not require specifying the number of clusters in advance, while k-means clustering requires predefining the number of clusters.\n",
    "- Cluster shape and size: DBSCAN can discover clusters of arbitrary shapes and sizes, while k-means assumes clusters with spherical shapes and similar sizes.\n",
    "- Handling outliers: DBSCAN can effectively identify and classify outliers as noise points, while k-means assigns all data points to clusters, including outliers."
   ]
  },
  {
   "cell_type": "markdown",
   "id": "3aa27b49",
   "metadata": {},
   "source": [
    "***"
   ]
  },
  {
   "cell_type": "markdown",
   "id": "36367f37",
   "metadata": {},
   "source": [
    "## Q6. Can DBSCAN clustering be applied to datasets with high dimensional feature spaces? If so, what are some potential challenges?\n"
   ]
  },
  {
   "cell_type": "markdown",
   "id": "ff212a74",
   "metadata": {},
   "source": [
    "DBSCAN clustering can be applied to datasets with high-dimensional feature spaces, but it may face challenges such as the curse of dimensionality. As the number of dimensions increases, the density becomes more uniform, and the concept of neighborhood density becomes less meaningful. "
   ]
  },
  {
   "cell_type": "markdown",
   "id": "c364041e",
   "metadata": {},
   "source": [
    "***"
   ]
  },
  {
   "cell_type": "markdown",
   "id": "49fbc932",
   "metadata": {},
   "source": [
    "## Q7. How does DBSCAN clustering handle clusters with varying densities?\n"
   ]
  },
  {
   "cell_type": "markdown",
   "id": "91f9aa4c",
   "metadata": {},
   "source": [
    "DBSCAN clustering handles clusters with varying densities by grouping together data points that are closely packed and have sufficient density. The algorithm automatically adjusts to the density of different clusters and can identify clusters of varying sizes and densities. In DBSCAN, dense regions are connected, and data points that fall within the defined density threshold are assigned to the same cluster."
   ]
  },
  {
   "cell_type": "markdown",
   "id": "1b764220",
   "metadata": {},
   "source": [
    "***"
   ]
  },
  {
   "cell_type": "markdown",
   "id": "c911f294",
   "metadata": {},
   "source": [
    "## Q8. What are some common evaluation metrics used to assess the quality of DBSCAN clustering results?\n"
   ]
  },
  {
   "cell_type": "markdown",
   "id": "2817f27c",
   "metadata": {},
   "source": [
    "- Silhouette coefficient: Measures the compactness and separation of clusters, with values ranging from -1 to 1. Higher values indicate better-defined clusters.\n",
    "- Davies-Bouldin index: Quantifies the average similarity between clusters, with lower values indicating better-defined clusters.\n",
    "- Adjusted Rand Index (ARI): Compares the clustering results to ground truth labels, with values ranging from -1 to 1. Higher values indicate better agreement between the clustering and true labels."
   ]
  },
  {
   "cell_type": "markdown",
   "id": "fd0c6d1d",
   "metadata": {},
   "source": [
    "***"
   ]
  },
  {
   "cell_type": "markdown",
   "id": "f858fac4",
   "metadata": {},
   "source": [
    "## Q9. Can DBSCAN clustering be used for semi-supervised learning tasks?\n"
   ]
  },
  {
   "cell_type": "markdown",
   "id": "8bc939be",
   "metadata": {},
   "source": [
    " The labeled data can help in assigning cluster labels to the unlabeled data points based on their proximity or similarity to the labeled instances."
   ]
  },
  {
   "cell_type": "markdown",
   "id": "d7f89395",
   "metadata": {},
   "source": [
    "***"
   ]
  },
  {
   "cell_type": "markdown",
   "id": "74cf4eac",
   "metadata": {},
   "source": [
    "## Q10. How does DBSCAN clustering handle datasets with noise or missing values?\n"
   ]
  },
  {
   "cell_type": "markdown",
   "id": "1182809d",
   "metadata": {},
   "source": [
    "- It treats noise points as outliers and does not assign them to any cluster.\n",
    "- For missing values, various techniques can be applied, such as imputing the missing values with appropriate methods before performing DBSCAN or using a modified version of DBSCAN that accounts for missing values during density computations."
   ]
  },
  {
   "cell_type": "markdown",
   "id": "1dfbcfc0",
   "metadata": {},
   "source": [
    "***"
   ]
  },
  {
   "cell_type": "markdown",
   "id": "fc21f8d7",
   "metadata": {},
   "source": [
    "## Q11. Implement the DBSCAN algorithm using a python programming language, and apply it to a sample dataset. Discuss the clustering results and interpret the meaning of the obtained clusters."
   ]
  },
  {
   "cell_type": "code",
   "execution_count": 262,
   "id": "4f783daa",
   "metadata": {},
   "outputs": [],
   "source": [
    "import pandas as pd\n",
    "import numpy as np\n",
    "import matplotlib.pyplot as plt\n",
    "import seaborn as sns\n",
    "import warnings\n",
    "warnings.filterwarnings(\"ignore\")\n",
    "\n",
    "from sklearn.datasets import make_moons"
   ]
  },
  {
   "cell_type": "code",
   "execution_count": 263,
   "id": "019f0faf",
   "metadata": {},
   "outputs": [
    {
     "data": {
      "text/plain": [
       "<matplotlib.collections.PathCollection at 0x186544ec1f0>"
      ]
     },
     "execution_count": 263,
     "metadata": {},
     "output_type": "execute_result"
    },
    {
     "data": {
      "image/png": "[encoded data removed]",
      "text/plain": [
       "<Figure size 432x288 with 1 Axes>"
      ]
     },
     "metadata": {
      "needs_background": "light"
     },
     "output_type": "display_data"
    }
   ],
   "source": [
    "x, y = make_moons(n_samples=220,noise=0.15)\n",
    "plt.scatter(x[:, 0], x[:, 1])"
   ]
  },
  {
   "cell_type": "code",
   "execution_count": 264,
   "id": "b5ee876a",
   "metadata": {},
   "outputs": [],
   "source": [
    "## Standardaise\n",
    "\n",
    "from sklearn.preprocessing import StandardScaler\n",
    "scaler = StandardScaler()\n",
    "x_scale = scaler.fit_transform(x)"
   ]
  },
  {
   "cell_type": "code",
   "execution_count": 265,
   "id": "507655a7",
   "metadata": {},
   "outputs": [
    {
     "data": {
      "text/html": [
       "<style>#sk-container-id-1 {color: black;background-color: white;}#sk-container-id-1 pre{padding: 0;}#sk-container-id-1 div.sk-toggleable {background-color: white;}#sk-container-id-1 label.sk-toggleable__label {cursor: pointer;display: block;width: 100%;margin-bottom: 0;padding: 0.3em;box-sizing: border-box;text-align: center;}#sk-container-id-1 label.sk-toggleable__label-arrow:before {content: \"▸\";float: left;margin-right: 0.25em;color: #696969;}#sk-container-id-1 label.sk-toggleable__label-arrow:hover:before {color: black;}#sk-container-id-1 div.sk-estimator:hover label.sk-toggleable__label-arrow:before {color: black;}#sk-container-id-1 div.sk-toggleable__content {max-height: 0;max-width: 0;overflow: hidden;text-align: left;background-color: #f0f8ff;}#sk-container-id-1 div.sk-toggleable__content pre {margin: 0.2em;color: black;border-radius: 0.25em;background-color: #f0f8ff;}#sk-container-id-1 input.sk-toggleable__control:checked~div.sk-toggleable__content {max-height: 200px;max-width: 100%;overflow: auto;}#sk-container-id-1 input.sk-toggleable__control:checked~label.sk-toggleable__label-arrow:before {content: \"▾\";}#sk-container-id-1 div.sk-estimator input.sk-toggleable__control:checked~label.sk-toggleable__label {background-color: #d4ebff;}#sk-container-id-1 div.sk-label input.sk-toggleable__control:checked~label.sk-toggleable__label {background-color: #d4ebff;}#sk-container-id-1 input.sk-hidden--visually {border: 0;clip: rect(1px 1px 1px 1px);clip: rect(1px, 1px, 1px, 1px);height: 1px;margin: -1px;overflow: hidden;padding: 0;position: absolute;width: 1px;}#sk-container-id-1 div.sk-estimator {font-family: monospace;background-color: #f0f8ff;border: 1px dotted black;border-radius: 0.25em;box-sizing: border-box;margin-bottom: 0.5em;}#sk-container-id-1 div.sk-estimator:hover {background-color: #d4ebff;}#sk-container-id-1 div.sk-parallel-item::after {content: \"\";width: 100%;border-bottom: 1px solid gray;flex-grow: 1;}#sk-container-id-1 div.sk-label:hover label.sk-toggleable__label {background-color: #d4ebff;}#sk-container-id-1 div.sk-serial::before {content: \"\";position: absolute;border-left: 1px solid gray;box-sizing: border-box;top: 0;bottom: 0;left: 50%;z-index: 0;}#sk-container-id-1 div.sk-serial {display: flex;flex-direction: column;align-items: center;background-color: white;padding-right: 0.2em;padding-left: 0.2em;position: relative;}#sk-container-id-1 div.sk-item {position: relative;z-index: 1;}#sk-container-id-1 div.sk-parallel {display: flex;align-items: stretch;justify-content: center;background-color: white;position: relative;}#sk-container-id-1 div.sk-item::before, #sk-container-id-1 div.sk-parallel-item::before {content: \"\";position: absolute;border-left: 1px solid gray;box-sizing: border-box;top: 0;bottom: 0;left: 50%;z-index: -1;}#sk-container-id-1 div.sk-parallel-item {display: flex;flex-direction: column;z-index: 1;position: relative;background-color: white;}#sk-container-id-1 div.sk-parallel-item:first-child::after {align-self: flex-end;width: 50%;}#sk-container-id-1 div.sk-parallel-item:last-child::after {align-self: flex-start;width: 50%;}#sk-container-id-1 div.sk-parallel-item:only-child::after {width: 0;}#sk-container-id-1 div.sk-dashed-wrapped {border: 1px dashed gray;margin: 0 0.4em 0.5em 0.4em;box-sizing: border-box;padding-bottom: 0.4em;background-color: white;}#sk-container-id-1 div.sk-label label {font-family: monospace;font-weight: bold;display: inline-block;line-height: 1.2em;}#sk-container-id-1 div.sk-label-container {text-align: center;}#sk-container-id-1 div.sk-container {/* jupyter's `normalize.less` sets `[hidden] { display: none; }` but bootstrap.min.css set `[hidden] { display: none !important; }` so we also need the `!important` here to be able to override the default hidden behavior on the sphinx rendered scikit-learn.org. See: https://github.com/scikit-learn/scikit-learn/issues/21755 */display: inline-block !important;position: relative;}#sk-container-id-1 div.sk-text-repr-fallback {display: none;}</style><div id=\"sk-container-id-1\" class=\"sk-top-container\"><div class=\"sk-text-repr-fallback\"><pre>DBSCAN(eps=0.28)</pre><b>In a Jupyter environment, please rerun this cell to show the HTML representation or trust the notebook. <br />On GitHub, the HTML representation is unable to render, please try loading this page with nbviewer.org.</b></div><div class=\"sk-container\" hidden><div class=\"sk-item\"><div class=\"sk-estimator sk-toggleable\"><input class=\"sk-toggleable__control sk-hidden--visually\" id=\"sk-estimator-id-1\" type=\"checkbox\" checked><label for=\"sk-estimator-id-1\" class=\"sk-toggleable__label sk-toggleable__label-arrow\">DBSCAN</label><div class=\"sk-toggleable__content\"><pre>DBSCAN(eps=0.28)</pre></div></div></div></div></div>"
      ],
      "text/plain": [
       "DBSCAN(eps=0.28)"
      ]
     },
     "execution_count": 265,
     "metadata": {},
     "output_type": "execute_result"
    }
   ],
   "source": [
    "## Model build\n",
    "from sklearn.cluster import DBSCAN\n",
    "db = DBSCAN(eps = 0.28)\n",
    "db.fit(x_scale)"
   ]
  },
  {
   "cell_type": "code",
   "execution_count": 266,
   "id": "a82ffb13",
   "metadata": {},
   "outputs": [
    {
     "data": {
      "text/plain": [
       "<matplotlib.collections.PathCollection at 0x18655224700>"
      ]
     },
     "execution_count": 266,
     "metadata": {},
     "output_type": "execute_result"
    },
    {
     "data": {
      "image/png": "[encoded data removed]",
      "text/plain": [
       "<Figure size 432x288 with 1 Axes>"
      ]
     },
     "metadata": {
      "needs_background": "light"
     },
     "output_type": "display_data"
    }
   ],
   "source": [
    "plt.scatter(x_scale[:, 0], x_scale[:, 1], c = db.labels_)\n"
   ]
  },
  {
   "cell_type": "code",
   "execution_count": 267,
   "id": "4a706c8c",
   "metadata": {},
   "outputs": [
    {
     "name": "stdout",
     "output_type": "stream",
     "text": [
      "Cluster labels: [ 0  0  0  1  1  1  0  2  0 -1  1  0  1  0  0  0  1  0  0  0  1  2  3  0\n",
      "  1  1  0  1  0  0  2  1  2  0 -1  1  0  0  1  1  0  0  1  2  2  1  0  1\n",
      "  1  1  1 -1  0  1  0  1  0  1  1  1  0  2  1  0  0  1  0  1  1  0  3  0\n",
      "  2  0  1  1  1  1  1  1  0  1  1  1  0  0  1 -1  0  0  2  1  1  1  0  1\n",
      "  1  1  1  1  1  0  3 -1  1  0  0  2  1  0  0  1  1 -1 -1  2  1  0  1  1\n",
      "  1  1  0  1  1  0  1  1  0  1  0  1  0  1  1 -1  2  1  0  1 -1  0 -1  0\n",
      "  1  0 -1 -1  1  0  0  1 -1  1  3  1  0  2  2  1  0  1  1  0  1  1  2  0\n",
      "  0  1 -1  1  1  0 -1  0 -1  1  1  1  1  1  0  1  0  0  1  0  0  0  0  1\n",
      "  0  0  1  0  1  1  0  1  0  0  3  0  1  3  1 -1  2  2  1  0  0  0  2  1\n",
      "  3  1  0  1]\n",
      "Core samples: [  0   1   2   3   4   5   6   7   8  10  11  12  14  15  16  17  18  19\n",
      "  21  22  24  25  27  29  30  31  32  33  36  37  38  41  42  44  45  46\n",
      "  48  52  53  54  55  58  59  60  61  62  63  64  65  66  67  68  69  70\n",
      "  71  72  73  74  75  77  78  79  81  82  84  85  86  88  89  90  91  92\n",
      "  93  95  96  97  98  99 100 101 105 106 107 108 109 110 111 112 115 117\n",
      " 118 119 120 121 122 123 124 125 126 127 128 129 130 131 132 133 134 136\n",
      " 137 138 139 141 143 144 145 148 149 150 151 153 154 155 156 157 158 159\n",
      " 161 162 163 164 165 166 167 168 169 171 172 175 177 178 179 180 181 182\n",
      " 183 185 186 187 188 189 190 191 192 193 194 195 196 197 198 199 200 201\n",
      " 202 203 204 205 206 208 209 210 211 214 215 216 217 218 219]\n"
     ]
    }
   ],
   "source": [
    "labels = db.labels_\n",
    "core_samples = db.core_sample_indices_\n",
    "\n",
    "# Print the clustering results\n",
    "print(\"Cluster labels:\", labels)\n",
    "print(\"Core samples:\", core_samples)"
   ]
  },
  {
   "cell_type": "code",
   "execution_count": null,
   "id": "465773c5",
   "metadata": {},
   "outputs": [],
   "source": []
  }
 ],
 "metadata": {
  "kernelspec": {
   "display_name": "Python 3 (ipykernel)",
   "language": "python",
   "name": "python3"
  },
  "language_info": {
   "codemirror_mode": {
    "name": "ipython",
    "version": 3
   },
   "file_extension": ".py",
   "mimetype": "text/x-python",
   "name": "python",
   "nbconvert_exporter": "python",
   "pygments_lexer": "ipython3",
   "version": "3.9.5"
  }
 },
 "nbformat": 4,
 "nbformat_minor": 5
}
