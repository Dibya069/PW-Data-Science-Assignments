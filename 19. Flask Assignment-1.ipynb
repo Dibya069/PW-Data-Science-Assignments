{
 "cells": [
  {
   "cell_type": "markdown",
   "id": "e64ff7d2",
   "metadata": {},
   "source": [
    "# Q1. What is Flask Framework? What are the advantages of Flask Framework?\n"
   ]
  },
  {
   "cell_type": "markdown",
   "id": "bcb66836",
   "metadata": {},
   "source": [
    "1. Flask is a micro web framework for building web applications in Python. \n",
    "2. Advantages:\n",
    "    - Lightweight and flexible\n",
    "    - Simple and easy to learn\n",
    "    - Extensible\n",
    "    - Suitable for small and large projects\n",
    "    - Easy to test\n",
    "    - Large community "
   ]
  },
  {
   "cell_type": "code",
   "execution_count": null,
   "id": "668ab951",
   "metadata": {},
   "outputs": [],
   "source": []
  },
  {
   "cell_type": "markdown",
   "id": "713a6da4",
   "metadata": {},
   "source": [
    "# Q2. Create a simple Flask application to display ‘Hello World!!’. Attach the screenshot of the output in Jupyter Notebook.\n"
   ]
  },
  {
   "cell_type": "markdown",
   "id": "9099aa29",
   "metadata": {},
   "source": [
    "![Alt text](flask.png)"
   ]
  },
  {
   "cell_type": "code",
   "execution_count": null,
   "id": "a7ff96dd",
   "metadata": {},
   "outputs": [],
   "source": []
  },
  {
   "cell_type": "markdown",
   "id": "9ad0254c",
   "metadata": {},
   "source": [
    "# Q3. What is App routing in Flask? Why do we use app routes?\n"
   ]
  },
  {
   "cell_type": "markdown",
   "id": "48fbe989",
   "metadata": {},
   "source": [
    "1. In Flask, app routing is the process of mapping URLs to Python functions, which are called view functions. \n",
    "2. App routes are used in Flask to define the URLs that will be handled by the application, and to specify which Python function should be executed to generate the response for each URL. By defining app routes, we can create a clean and organized structure for our web application, and make it easier to maintain and extend."
   ]
  },
  {
   "cell_type": "code",
   "execution_count": null,
   "id": "efd9325d",
   "metadata": {},
   "outputs": [],
   "source": []
  },
  {
   "cell_type": "markdown",
   "id": "240e8932",
   "metadata": {},
   "source": [
    "# Q4. Create a “/welcome” route to display the welcome message “Welcome to ABC Corporation” and a “/” route to show the following details:\n",
    "\n",
    "- Company Name: ABC Corporation \n",
    "- Location: India\n",
    "- Contact Detail: 999-999-9999\n",
    "- Attach the screenshot of the output in Jupyter Notebook.\n"
   ]
  },
  {
   "cell_type": "markdown",
   "id": "52e4cf0d",
   "metadata": {},
   "source": [
    "![Alt text](abc2.png)\n",
    "![Alt text](abc1.png)"
   ]
  },
  {
   "cell_type": "code",
   "execution_count": null,
   "id": "6a33107d",
   "metadata": {},
   "outputs": [],
   "source": []
  },
  {
   "cell_type": "markdown",
   "id": "c980a673",
   "metadata": {},
   "source": [
    "# Q5. What function is used in Flask for URL Building? Write a Python code to demonstrate the working of the url_for() function."
   ]
  },
  {
   "cell_type": "markdown",
   "id": "40ddf1d6",
   "metadata": {},
   "source": [
    "1. In Flask, \"the url_for()\" function is used for URL building. "
   ]
  },
  {
   "cell_type": "code",
   "execution_count": 18,
   "id": "fe60750c",
   "metadata": {},
   "outputs": [
    {
     "name": "stdout",
     "output_type": "stream",
     "text": [
      " * Serving Flask app '__main__'\n",
      " * Debug mode: off\n"
     ]
    },
    {
     "name": "stderr",
     "output_type": "stream",
     "text": [
      "WARNING: This is a development server. Do not use it in a production deployment. Use a production WSGI server instead.\n",
      " * Running on http://127.0.0.1:5000\n",
      "Press CTRL+C to quit\n",
      "127.0.0.1 - - [21/Mar/2023 09:59:44] \"GET / HTTP/1.1\" 200 -\n",
      "127.0.0.1 - - [21/Mar/2023 09:59:44] \"GET /favicon.ico HTTP/1.1\" 404 -\n",
      "127.0.0.1 - - [21/Mar/2023 10:00:03] \"GET /about HTTP/1.1\" 200 -\n",
      "127.0.0.1 - - [21/Mar/2023 10:00:11] \"GET / HTTP/1.1\" 200 -\n",
      "127.0.0.1 - - [21/Mar/2023 10:00:48] \"GET / HTTP/1.1\" 200 -\n"
     ]
    }
   ],
   "source": [
    "from flask import Flask, url_for\n",
    "\n",
    "app = Flask(__name__)\n",
    "\n",
    "@app.route('/')\n",
    "def home():\n",
    "    return f'<a href=\"{url_for(\"about\")}\">About</a>'\n",
    "\n",
    "@app.route('/about')\n",
    "def about():\n",
    "    return 'This is the About page.'\n",
    "\n",
    "if __name__ == '__main__':\n",
    "    app.run()"
   ]
  },
  {
   "cell_type": "code",
   "execution_count": null,
   "id": "34179b0f",
   "metadata": {},
   "outputs": [],
   "source": []
  }
 ],
 "metadata": {
  "kernelspec": {
   "display_name": "Python 3 (ipykernel)",
   "language": "python",
   "name": "python3"
  },
  "language_info": {
   "codemirror_mode": {
    "name": "ipython",
    "version": 3
   },
   "file_extension": ".py",
   "mimetype": "text/x-python",
   "name": "python",
   "nbconvert_exporter": "python",
   "pygments_lexer": "ipython3",
   "version": "3.9.5"
  }
 },
 "nbformat": 4,
 "nbformat_minor": 5
}
