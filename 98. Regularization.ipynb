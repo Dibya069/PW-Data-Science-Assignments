{
 "cells": [
  {
   "cell_type": "markdown",
   "metadata": {},
   "source": [
    "## Part l: Upderstapdipg Regularization:"
   ]
  },
  {
   "cell_type": "markdown",
   "metadata": {},
   "source": [
    "\n",
    "### 1. What is regularization in the context of deep learningH Why is it important ?\n"
   ]
  },
  {
   "cell_type": "markdown",
   "metadata": {},
   "source": [
    "- Regularization in deep learning refers to the techniques used to prevent overfitting by adding a penalty term to the loss function. \n",
    "-  Regularization helps in improving the model's ability to generalize well to different datasets."
   ]
  },
  {
   "cell_type": "markdown",
   "metadata": {},
   "source": [
    "### 2. Explain the bias-variance tradeoff and how regularization helps in addressing this tradeoff.\n"
   ]
  },
  {
   "cell_type": "markdown",
   "metadata": {},
   "source": [
    "- The bias-variance tradeoff is the balance between a model's ability to capture the underlying patterns in the data (low bias) and its sensitivity to noise or fluctuations in the training data (low variance). \n",
    "- It adds a penalty term to the loss function that discourages the model from fitting the noise in the training data, reducing its variance. This, in turn, often leads to a slight increase in bias but helps achieve better generalization."
   ]
  },
  {
   "cell_type": "markdown",
   "metadata": {},
   "source": [
    "### 3. Describe the concept of L1 and L2 regularization. How do they differ in terms of penalty calculation and their effects on the model ?"
   ]
  },
  {
   "cell_type": "markdown",
   "metadata": {},
   "source": [
    "- L1 regularization adds the sum of the absolute values of the model parameters to the loss function, while L2 regularization adds the sum of the squared values of the parameters.\n",
    "- L1 regularization tends to produce sparse models (some weights become exactly zero), effectively performing feature selection. L2 regularization penalizes large weights but usually does not result in sparse models. "
   ]
  },
  {
   "cell_type": "markdown",
   "metadata": {},
   "source": [
    "\n",
    "### 4. Discuss the role of regularization in preventing overfitting and improving the generalization of deep learning models.\n"
   ]
  },
  {
   "cell_type": "markdown",
   "metadata": {},
   "source": [
    "- Regularization prevents overfitting by discouraging overly complex models that may fit the noise in the training data. \n",
    "- By penalizing large weights, regularization helps the model generalize well to new data.\n",
    "- It improves the model's ability to identify and learn the underlying patterns in the data, leading to better performance on unseen samples."
   ]
  },
  {
   "cell_type": "markdown",
   "metadata": {},
   "source": [
    "***"
   ]
  },
  {
   "cell_type": "markdown",
   "metadata": {},
   "source": [
    "\n",
    "## Part 2: Regularization Techniqes:"
   ]
  },
  {
   "cell_type": "markdown",
   "metadata": {},
   "source": [
    "\n",
    "### 5. Explain Dropout regularization and how it works to reduce overfitting. Discuss the impact of Dropout on model training and inference ?"
   ]
  },
  {
   "cell_type": "markdown",
   "metadata": {},
   "source": [
    "- Dropout is a regularization technique where randomly selected neurons are ignored (i.e., dropout) during training. This prevents co-adaptation of neurons and reduces the reliance on specific features, making the model more robust.\n",
    "-  During training, it introduces noise and prevents overfitting by creating an ensemble effect. During inference, the full network is used, but the weights are scaled to account for the dropout rate."
   ]
  },
  {
   "cell_type": "markdown",
   "metadata": {},
   "source": [
    "\n",
    "### 6. Describe the concept of Early ztopping as a form of regularization. How does it help prevent overfitting during the training process ?"
   ]
  },
  {
   "cell_type": "markdown",
   "metadata": {},
   "source": [
    "- Early Stopping involves monitoring the model's performance on a validation set and stopping the training process once the performance starts degrading\n",
    "-  It prevents overfitting by avoiding unnecessary training that may lead to fitting noise in the data."
   ]
  },
  {
   "cell_type": "markdown",
   "metadata": {},
   "source": [
    "\n",
    "### 7. Explain the concept of Batch Normalization and its role as a form of regularization. How does Batch Normalization help in preventing overfitting ?"
   ]
  },
  {
   "cell_type": "markdown",
   "metadata": {},
   "source": [
    "- Batch Normalization normalizes the inputs of each layer in a mini-batch, making the optimization process more stable. \n",
    "- Batch Normalization helps prevent overfitting by providing a regularizing effect similar to dropout. It introduces noise during training, which can improve the generalization of the model."
   ]
  },
  {
   "cell_type": "markdown",
   "metadata": {},
   "source": [
    "***"
   ]
  },
  {
   "cell_type": "markdown",
   "metadata": {},
   "source": [
    "## Part 3: Applyipg Regularization:"
   ]
  },
  {
   "cell_type": "markdown",
   "metadata": {},
   "source": [
    "\n",
    "### 8. Implement Dropout regularization in a deep learning model using a framework of your choice. Evaluate its impact on model performance and compare it with a model without Dropout.\n"
   ]
  },
  {
   "cell_type": "code",
   "execution_count": 1,
   "metadata": {
    "vscode": {
     "languageId": "plaintext"
    }
   },
   "outputs": [],
   "source": [
    "import tensorflow as tf\n",
    "from tensorflow.keras.models import Sequential\n",
    "from tensorflow.keras.layers import Dense, Dropout\n",
    "from tensorflow.keras.datasets import mnist\n",
    "from tensorflow.keras.utils import to_categorical"
   ]
  },
  {
   "cell_type": "code",
   "execution_count": 2,
   "metadata": {},
   "outputs": [],
   "source": [
    "# Load and preprocess the MNIST dataset\n",
    "(x_train, y_train), (x_test, y_test) = mnist.load_data()\n",
    "x_train, x_test = x_train / 255.0, x_test / 255.0\n",
    "y_train, y_test = to_categorical(y_train, 10), to_categorical(y_test, 10)\n"
   ]
  },
  {
   "cell_type": "code",
   "execution_count": 3,
   "metadata": {},
   "outputs": [],
   "source": [
    "# Create a deep learning model with Dropout\n",
    "model_with_dropout = Sequential([\n",
    "    tf.keras.layers.Flatten(input_shape=(28, 28)),\n",
    "    tf.keras.layers.Dense(512, activation='relu'),\n",
    "    Dropout(0.5),\n",
    "    tf.keras.layers.Dense(10, activation='softmax')\n",
    "])\n",
    "\n",
    "# Compile the model\n",
    "model_with_dropout.compile(optimizer='adam', loss='categorical_crossentropy', metrics=['accuracy'])\n"
   ]
  },
  {
   "cell_type": "code",
   "execution_count": 4,
   "metadata": {},
   "outputs": [],
   "source": [
    "# Create a deep learning model without Dropout for comparison\n",
    "model_without_dropout = Sequential([\n",
    "    tf.keras.layers.Flatten(input_shape=(28, 28)),\n",
    "    tf.keras.layers.Dense(512, activation='relu'),\n",
    "    tf.keras.layers.Dense(10, activation='softmax')\n",
    "])\n",
    "\n",
    "# Compile the model without Dropout\n",
    "model_without_dropout.compile(optimizer='adam', loss='categorical_crossentropy', metrics=['accuracy'])\n"
   ]
  },
  {
   "cell_type": "code",
   "execution_count": 6,
   "metadata": {},
   "outputs": [
    {
     "name": "stdout",
     "output_type": "stream",
     "text": [
      "Model: \"sequential\"\n",
      "_________________________________________________________________\n",
      " Layer (type)                Output Shape              Param #   \n",
      "=================================================================\n",
      " flatten (Flatten)           (None, 784)               0         \n",
      "                                                                 \n",
      " dense (Dense)               (None, 512)               401920    \n",
      "                                                                 \n",
      " dropout (Dropout)           (None, 512)               0         \n",
      "                                                                 \n",
      " dense_1 (Dense)             (None, 10)                5130      \n",
      "                                                                 \n",
      "=================================================================\n",
      "Total params: 407,050\n",
      "Trainable params: 407,050\n",
      "Non-trainable params: 0\n",
      "_________________________________________________________________\n"
     ]
    }
   ],
   "source": [
    "model_with_dropout.summary()"
   ]
  },
  {
   "cell_type": "code",
   "execution_count": 7,
   "metadata": {},
   "outputs": [
    {
     "name": "stdout",
     "output_type": "stream",
     "text": [
      "Model: \"sequential_1\"\n",
      "_________________________________________________________________\n",
      " Layer (type)                Output Shape              Param #   \n",
      "=================================================================\n",
      " flatten_1 (Flatten)         (None, 784)               0         \n",
      "                                                                 \n",
      " dense_2 (Dense)             (None, 512)               401920    \n",
      "                                                                 \n",
      " dense_3 (Dense)             (None, 10)                5130      \n",
      "                                                                 \n",
      "=================================================================\n",
      "Total params: 407,050\n",
      "Trainable params: 407,050\n",
      "Non-trainable params: 0\n",
      "_________________________________________________________________\n"
     ]
    }
   ],
   "source": [
    "model_without_dropout.summary()"
   ]
  },
  {
   "cell_type": "code",
   "execution_count": 8,
   "metadata": {},
   "outputs": [
    {
     "name": "stdout",
     "output_type": "stream",
     "text": [
      "Epoch 1/10\n",
      "1875/1875 [==============================] - 28s 14ms/step - loss: 0.2698 - accuracy: 0.9188 - val_loss: 0.1203 - val_accuracy: 0.9628\n",
      "Epoch 2/10\n",
      "1875/1875 [==============================] - 27s 14ms/step - loss: 0.1380 - accuracy: 0.9584 - val_loss: 0.0848 - val_accuracy: 0.9730\n",
      "Epoch 3/10\n",
      "1875/1875 [==============================] - 27s 14ms/step - loss: 0.1106 - accuracy: 0.9661 - val_loss: 0.0762 - val_accuracy: 0.9767\n",
      "Epoch 4/10\n",
      "1875/1875 [==============================] - 25s 14ms/step - loss: 0.0920 - accuracy: 0.9715 - val_loss: 0.0698 - val_accuracy: 0.9794\n",
      "Epoch 5/10\n",
      "1875/1875 [==============================] - 28s 15ms/step - loss: 0.0821 - accuracy: 0.9744 - val_loss: 0.0709 - val_accuracy: 0.9790\n",
      "Epoch 6/10\n",
      "1875/1875 [==============================] - 30s 16ms/step - loss: 0.0741 - accuracy: 0.9768 - val_loss: 0.0628 - val_accuracy: 0.9815\n",
      "Epoch 7/10\n",
      "1875/1875 [==============================] - 33s 18ms/step - loss: 0.0674 - accuracy: 0.9781 - val_loss: 0.0646 - val_accuracy: 0.9815\n",
      "Epoch 8/10\n",
      "1875/1875 [==============================] - 23s 12ms/step - loss: 0.0617 - accuracy: 0.9804 - val_loss: 0.0618 - val_accuracy: 0.9820\n",
      "Epoch 9/10\n",
      "1875/1875 [==============================] - 22s 12ms/step - loss: 0.0584 - accuracy: 0.9811 - val_loss: 0.0677 - val_accuracy: 0.9814\n",
      "Epoch 10/10\n",
      "1875/1875 [==============================] - 29s 16ms/step - loss: 0.0542 - accuracy: 0.9821 - val_loss: 0.0686 - val_accuracy: 0.9807\n"
     ]
    },
    {
     "data": {
      "text/plain": [
       "<keras.callbacks.History at 0x19452a58790>"
      ]
     },
     "execution_count": 8,
     "metadata": {},
     "output_type": "execute_result"
    }
   ],
   "source": [
    "# Train the model with Dropout\n",
    "model_with_dropout.fit(x_train, y_train, epochs=10, validation_data=(x_test, y_test))"
   ]
  },
  {
   "cell_type": "code",
   "execution_count": 9,
   "metadata": {},
   "outputs": [
    {
     "name": "stdout",
     "output_type": "stream",
     "text": [
      "Epoch 1/10\n",
      "1875/1875 [==============================] - 28s 14ms/step - loss: 0.1991 - accuracy: 0.9406 - val_loss: 0.1018 - val_accuracy: 0.9703\n",
      "Epoch 2/10\n",
      "1875/1875 [==============================] - 23s 12ms/step - loss: 0.0797 - accuracy: 0.9750 - val_loss: 0.0893 - val_accuracy: 0.9728\n",
      "Epoch 3/10\n",
      "1875/1875 [==============================] - 27s 14ms/step - loss: 0.0520 - accuracy: 0.9838 - val_loss: 0.0835 - val_accuracy: 0.9736\n",
      "Epoch 4/10\n",
      "1875/1875 [==============================] - 25s 13ms/step - loss: 0.0357 - accuracy: 0.9885 - val_loss: 0.0704 - val_accuracy: 0.9786\n",
      "Epoch 5/10\n",
      "1875/1875 [==============================] - 25s 14ms/step - loss: 0.0260 - accuracy: 0.9914 - val_loss: 0.0759 - val_accuracy: 0.9784\n",
      "Epoch 6/10\n",
      "1875/1875 [==============================] - 29s 15ms/step - loss: 0.0213 - accuracy: 0.9925 - val_loss: 0.0744 - val_accuracy: 0.9793\n",
      "Epoch 7/10\n",
      "1875/1875 [==============================] - 27s 15ms/step - loss: 0.0157 - accuracy: 0.9948 - val_loss: 0.0828 - val_accuracy: 0.9773\n",
      "Epoch 8/10\n",
      "1875/1875 [==============================] - 26s 14ms/step - loss: 0.0144 - accuracy: 0.9953 - val_loss: 0.0786 - val_accuracy: 0.9809\n",
      "Epoch 9/10\n",
      "1875/1875 [==============================] - 28s 15ms/step - loss: 0.0117 - accuracy: 0.9963 - val_loss: 0.0734 - val_accuracy: 0.9810\n",
      "Epoch 10/10\n",
      "1875/1875 [==============================] - 28s 15ms/step - loss: 0.0100 - accuracy: 0.9967 - val_loss: 0.0870 - val_accuracy: 0.9797\n"
     ]
    },
    {
     "data": {
      "text/plain": [
       "<keras.callbacks.History at 0x19452b17c70>"
      ]
     },
     "execution_count": 9,
     "metadata": {},
     "output_type": "execute_result"
    }
   ],
   "source": [
    "# Train the model without Dropout\n",
    "model_without_dropout.fit(x_train, y_train, epochs=10, validation_data=(x_test, y_test))"
   ]
  },
  {
   "cell_type": "code",
   "execution_count": 10,
   "metadata": {},
   "outputs": [
    {
     "name": "stdout",
     "output_type": "stream",
     "text": [
      "313/313 [==============================] - 1s 4ms/step - loss: 0.0686 - accuracy: 0.9807\n",
      "313/313 [==============================] - 1s 4ms/step - loss: 0.0870 - accuracy: 0.9797\n"
     ]
    }
   ],
   "source": [
    "# Evaluate the model with Dropout\n",
    "test_loss, test_acc = model_with_dropout.evaluate(x_test, y_test)\n",
    "\n",
    "# Evaluate the model without Dropout\n",
    "test_loss_no_dropout, test_acc_no_dropout = model_without_dropout.evaluate(x_test, y_test)"
   ]
  },
  {
   "cell_type": "code",
   "execution_count": 11,
   "metadata": {},
   "outputs": [
    {
     "name": "stdout",
     "output_type": "stream",
     "text": [
      "Model with Dropout - Test Accuracy: 0.9807000160217285\n",
      "Model without Dropout - Test Accuracy: 0.9797000288963318\n"
     ]
    }
   ],
   "source": [
    "print(f\"Model with Dropout - Test Accuracy: {test_acc}\")\n",
    "print(f\"Model without Dropout - Test Accuracy: {test_acc_no_dropout}\")"
   ]
  },
  {
   "cell_type": "markdown",
   "metadata": {},
   "source": [
    "### 9. Discuss the considerations and tradeoffs when choosing the appropriate regularization technique for a given deep learning task."
   ]
  },
  {
   "cell_type": "markdown",
   "metadata": {},
   "source": [
    "- Considerations:\n",
    "    - Type of Data and Task: The choice of regularization depends on the type of data and the nature of the task. Some techniques may be more effective for certain types of problems.\n",
    "    - Model Architecture: Different regularization techniques may interact differently with specific model architectures. Experimentation is crucial to find the best combination.\n",
    "    - Computational Resources: Some regularization techniques may be computationally expensive. Consider the available resources and training time.\n",
    "\n",
    "- Tradeoffs:\n",
    "    - Bias vs. Variance: Regularization aims to balance bias and variance. Too much regularization may increase bias and result in an underfit model, while too little regularization may lead to overfitting.\n",
    "    - Interpretability: Regularization techniques like L1 regularization may lead to sparse models, making them more interpretable. However, this might come at the cost of a slight decrease in accuracy.\n",
    "    - Training Time: Certain regularization techniques, such as Dropout, introduce additional computations during training, potentially increasing training time. Consider the tradeoff between training time and model performance."
   ]
  },
  {
   "cell_type": "markdown",
   "metadata": {},
   "source": []
  }
 ],
 "metadata": {
  "kernelspec": {
   "display_name": "Python 3 (ipykernel)",
   "language": "python",
   "name": "python3"
  },
  "language_info": {
   "codemirror_mode": {
    "name": "ipython",
    "version": 3
   },
   "file_extension": ".py",
   "mimetype": "text/x-python",
   "name": "python",
   "nbconvert_exporter": "python",
   "pygments_lexer": "ipython3",
   "version": "3.9.5"
  }
 },
 "nbformat": 4,
 "nbformat_minor": 2
}
