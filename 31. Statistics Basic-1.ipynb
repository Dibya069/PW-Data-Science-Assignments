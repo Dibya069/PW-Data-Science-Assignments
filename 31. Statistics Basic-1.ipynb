{
 "cells": [
  {
   "cell_type": "markdown",
   "id": "3037a03b",
   "metadata": {},
   "source": [
    "## Q1. What is Statistics?\n"
   ]
  },
  {
   "cell_type": "markdown",
   "id": "9c43eb98",
   "metadata": {},
   "source": [
    "- Statistics is the science concerned with developing and studying methods for collecting, analyzing, interpreting and presenting empirical data."
   ]
  },
  {
   "cell_type": "markdown",
   "id": "7ed0bc85",
   "metadata": {},
   "source": [
    "***"
   ]
  },
  {
   "cell_type": "markdown",
   "id": "c9ee3b4e",
   "metadata": {},
   "source": [
    "## Q2. Define the different types of statistics and give an example of when each type might be used.\n"
   ]
  },
  {
   "cell_type": "markdown",
   "id": "c41f49cd",
   "metadata": {},
   "source": [
    "1. Descriptive Statistics:\n",
    " - Descriptive statistics involves organizing, summarizing, and presenting data in a meaningful way. It provides a clear and concise summary of the main features of a dataset. Some common measures used in descriptive statistics include mean, median, mode, range, variance, and standard deviation.\n",
    "2. Inferential Statistics:\n",
    " - Inferential statistics involves drawing conclusions or making predictions about a population based on a sample of data. It uses probability theory to make inferences and generalizations about a larger group using a smaller representative sample."
   ]
  },
  {
   "cell_type": "markdown",
   "id": "5099be1d",
   "metadata": {},
   "source": [
    "## Q3. What are the different types of data and how do they differ from each other? Provide an example of each type of data.\n",
    "\n"
   ]
  },
  {
   "cell_type": "markdown",
   "id": "dab27dbc",
   "metadata": {},
   "source": [
    "**Nominal Data:**\n",
    "Nominal data consists of categories or labels that have no inherent order or numerical meaning. It represents qualitative or categorical data.\n",
    "Examples: Gender (male, female), colors (red, blue, green), types of fruit (apple, orange, banana).\n",
    "\n",
    "**Ordinal Data:**\n",
    "Ordinal data also represents categories or labels, but they have a meaningful order or ranking associated with them. The intervals between values may not be equal.\n",
    "Examples: Educational attainment (high school, bachelor's degree, master's degree), rating scales (poor, fair, good, excellent), socioeconomic status (low, middle, high).\n",
    "\n",
    "**Interval Data:**\n",
    "Interval data has numerical values where the intervals between values are equal. However, it does not have a true zero point and does not represent ratios.\n",
    "Examples: Temperature in Celsius or Fahrenheit, years (2020, 2021, 2022), time in 24-hour format (00:00, 12:00, 18:00).\n",
    "\n",
    "**Ratio Data:**\n",
    "Ratio data is similar to interval data but includes a true zero point, representing ratios between values.\n",
    "Examples: Height (in centimeters), weight (in kilograms), distance (in meters), time (in seconds).\n",
    "\n",
    "**Discrete Data:**\n",
    "Discrete data represents values that are separate and distinct, usually whole numbers. It has a finite or countable number of possible values.\n",
    "Examples: Number of siblings, number of cars in a parking lot, number of goals scored in a game.\n",
    "\n",
    "**Continuous Data:**\n",
    "Continuous data can take any value within a certain range. It is often measured and represented on a continuous scale.\n",
    "Examples: Height (measured with a ruler), weight (measured with a scale), temperature (measured with a thermometer)."
   ]
  },
  {
   "cell_type": "markdown",
   "id": "22147438",
   "metadata": {},
   "source": [
    "***"
   ]
  },
  {
   "cell_type": "markdown",
   "id": "a8af5084",
   "metadata": {},
   "source": [
    "## Q4. Categorise the following datasets with respect to quantitative and qualitative data types:\n",
    "```\n",
    "(i) Grading in exam: A+, A, B+, B, C+, C, D, E\n",
    "(ii) Colour of mangoes: yellow, green, orange, red\n",
    "(iii) Height data of a class: [178.9, 179, 179.5, 176, 177.2, 178.3, 175.8,...]\n",
    "(iv) Number of mangoes exported by a farm: [500, 600, 478, 672, ...]\n",
    "```"
   ]
  },
  {
   "cell_type": "markdown",
   "id": "639cb91f",
   "metadata": {},
   "source": [
    "- (i) and (ii) represent qualitative (categorical) data.\n",
    "- (iii) and (iv) represent quantitative data, with (iii) being continuous and (iv) being discrete."
   ]
  },
  {
   "cell_type": "markdown",
   "id": "807b8c57",
   "metadata": {},
   "source": [
    "***"
   ]
  },
  {
   "cell_type": "markdown",
   "id": "80157c88",
   "metadata": {},
   "source": [
    "## Q5. Explain the concept of levels of measurement and give an example of a variable for each level.\n"
   ]
  },
  {
   "cell_type": "markdown",
   "id": "94879e3e",
   "metadata": {},
   "source": [
    "- Levels of measurement, also known as scales of measurement or levels of data, refer to the different ways in which variables can be categorized or measured"
   ]
  },
  {
   "cell_type": "markdown",
   "id": "34bc75d8",
   "metadata": {},
   "source": [
    "**Nominal Level:**\n",
    "Variables at the nominal level are categorical or qualitative in nature.\n",
    "Data at this level can be classified into distinct categories or groups without any inherent order or numerical meaning.\n",
    "Examples: Gender (male, female), marital status (single, married, divorced), eye color (blue, brown, green).\n",
    "\n",
    "**Ordinal Level:**\n",
    "Variables at the ordinal level also represent categories or labels, but they have an inherent order or ranking.\n",
    "The intervals between values may not be equal, and the data can be ranked or ordered.\n",
    "Examples: Educational attainment (high school, bachelor's degree, master's degree), Likert scale responses (strongly agree, agree, neutral, disagree, strongly disagree), socioeconomic status (low, middle, high).\n",
    "\n",
    "**Interval Level:**\n",
    "Variables at the interval level have numerical values where the intervals between values are equal.\n",
    "The zero point is arbitrary and does not represent a true absence or lack of the measured attribute.\n",
    "Data can be compared, and arithmetic operations such as addition and subtraction can be performed.\n",
    "Examples: Temperature in Celsius or Fahrenheit, years (2020, 2021, 2022), time in 24-hour format (00:00, 12:00, 18:00).\n",
    "\n",
    "**Ratio Level:**\n",
    "Variables at the ratio level are similar to interval level variables but have a true zero point.\n",
    "Ratios between values are meaningful, and all arithmetic operations can be performed.\n",
    "Examples: Height (in centimeters), weight (in kilograms), distance (in meters), time (in seconds)."
   ]
  },
  {
   "cell_type": "markdown",
   "id": "55bb5224",
   "metadata": {},
   "source": [
    "***"
   ]
  },
  {
   "cell_type": "markdown",
   "id": "4713693b",
   "metadata": {},
   "source": [
    "## Q6. Why is it important to understand the level of measurement when analyzing data? Provide an example to illustrate your answer.\n"
   ]
  },
  {
   "cell_type": "markdown",
   "id": "bafb3b3a",
   "metadata": {},
   "source": [
    "- Understanding the level of measurement is important when analyzing data because it determines the appropriate statistical methods, operations, and interpretations that can be applied to the data. "
   ]
  },
  {
   "cell_type": "markdown",
   "id": "7f96fb71",
   "metadata": {},
   "source": [
    "- Suppose we have a dataset that includes the colors of cars (red, blue, green) and the ages of the drivers.\n",
    "\n",
    "If we consider the car colors, which are at the nominal level, we can count the frequencies of each color and determine the mode (most frequently occurring color). We can analyze the distribution of car colors and summarize the categorical data using bar charts or pie charts. However, it would be inappropriate to perform calculations such as calculating the mean or standard deviation because there is no meaningful numerical relationship between the colors."
   ]
  },
  {
   "cell_type": "markdown",
   "id": "91c26294",
   "metadata": {},
   "source": [
    "***"
   ]
  },
  {
   "cell_type": "markdown",
   "id": "49173105",
   "metadata": {},
   "source": [
    "## Q7. How nominal data type is different from ordinal data type.\n"
   ]
  },
  {
   "cell_type": "markdown",
   "id": "1a8b81e6",
   "metadata": {},
   "source": [
    "- Nominal and ordinal data types are both categorical or qualitative data types, but they differ in terms of the properties and characteristics"
   ]
  },
  {
   "cell_type": "markdown",
   "id": "c21dd595",
   "metadata": {},
   "source": [
    "***"
   ]
  },
  {
   "cell_type": "markdown",
   "id": "276b310a",
   "metadata": {},
   "source": [
    "## Q8. Which type of plot can be used to display data in terms of range?\n"
   ]
  },
  {
   "cell_type": "markdown",
   "id": "8c72e6c5",
   "metadata": {},
   "source": [
    "***A Box plot***"
   ]
  },
  {
   "cell_type": "markdown",
   "id": "066b7d10",
   "metadata": {},
   "source": [
    "***"
   ]
  },
  {
   "cell_type": "markdown",
   "id": "33773f50",
   "metadata": {},
   "source": [
    "## Q9. Describe the difference between descriptive and inferential statistics. Give an example of each type of statistics and explain how they are used.\n"
   ]
  },
  {
   "cell_type": "markdown",
   "id": "169889ca",
   "metadata": {},
   "source": [
    "- Inferential statistics helps to compare data, make hypotheses and predictions. Descriptive statistics explains already known data related to a particular sample or population of a small size. Inferential statistics, however, aims to draw inferences or conclusions about a whole population"
   ]
  },
  {
   "cell_type": "markdown",
   "id": "77bb91ad",
   "metadata": {},
   "source": [
    "***"
   ]
  },
  {
   "cell_type": "markdown",
   "id": "4bf8cf8b",
   "metadata": {},
   "source": [
    "## Q10. What are some common measures of central tendency and variability used in statistics? Explain how each measure can be used to describe a dataset.\n"
   ]
  },
  {
   "cell_type": "markdown",
   "id": "48209ba5",
   "metadata": {},
   "source": [
    "**Measures of Central Tendency:**\n",
    "\n",
    "- Mean: The mean is the sum of all values in a dataset divided by the number of values. It represents the average value and is sensitive to extreme values. The mean provides a measure of the typical value in the dataset.\n",
    "\n",
    "- Median: The median is the middle value in a sorted dataset. It represents the value that separates the higher half from the lower half of the data. The median is less affected by extreme values and provides a measure of the central value.\n",
    "\n",
    "- Mode: The mode is the most frequently occurring value(s) in a dataset. It represents the value(s) that appear(s) with the highest frequency. The mode is useful for categorical or discrete data and provides insight into the most common observation(s).\n",
    "\n"
   ]
  },
  {
   "cell_type": "markdown",
   "id": "b6610c90",
   "metadata": {},
   "source": [
    "**Measures of Variability:**\n",
    "\n",
    "- Range: The range is the difference between the maximum and minimum values in a dataset. It provides a measure of the spread or extent of the dataset. However, it only considers two extreme values and may be influenced by outliers.\n",
    "\n",
    "- Variance: Variance measures the average squared deviation of each value from the mean. It quantifies the dispersion of the dataset around the mean. A higher variance indicates greater variability in the data.\n",
    "\n",
    "- Standard Deviation: The standard deviation is the square root of the variance. It provides a measure of the average deviation of values from the mean. The standard deviation is widely used as it is in the same unit as the original data, making it easier to interpret."
   ]
  },
  {
   "cell_type": "code",
   "execution_count": null,
   "id": "5acb0a33",
   "metadata": {},
   "outputs": [],
   "source": []
  }
 ],
 "metadata": {
  "kernelspec": {
   "display_name": "Python 3 (ipykernel)",
   "language": "python",
   "name": "python3"
  },
  "language_info": {
   "codemirror_mode": {
    "name": "ipython",
    "version": 3
   },
   "file_extension": ".py",
   "mimetype": "text/x-python",
   "name": "python",
   "nbconvert_exporter": "python",
   "pygments_lexer": "ipython3",
   "version": "3.9.5"
  }
 },
 "nbformat": 4,
 "nbformat_minor": 5
}
