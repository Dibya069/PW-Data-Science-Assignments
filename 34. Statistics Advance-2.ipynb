{
 "cells": [
  {
   "cell_type": "markdown",
   "id": "bd1afa4f",
   "metadata": {},
   "source": [
    "## Q1: What are the Probability Mass Function (PMF) and Probability Density Function (PDF)? Explain with an example.\n"
   ]
  },
  {
   "cell_type": "markdown",
   "id": "f119a315",
   "metadata": {},
   "source": [
    "- Probability Mass Function (PMF): The PMF is used for discrete random variables. It gives the probability of each possible outcome. The sum of the probabilities for all possible outcomes equals 1. The PMF provides the discrete probability distribution of the random variable.\n",
    " - Example: Consider a fair six-sided die. The PMF of this die assigns a probability of 1/6 to each possible outcome (numbers 1 to 6), and the probability of any other outcome is 0.\n",
    "    \n",
    "    \n",
    "- Probability Density Function (PDF): The PDF is used for continuous random variables. It represents the relative likelihood of the random variable taking on a specific value. The area under the PDF curve between two values represents the probability of the random variable falling within that range. The integral of the PDF over the entire range equals 1.\n",
    " - Example: The PDF of a standard normal distribution (mean=0, standard deviation=1) is the bell-shaped curve known as the Gaussian or bell curve. The height of the curve at any point represents the relative likelihood of observing that value.    "
   ]
  },
  {
   "cell_type": "markdown",
   "id": "4597e7db",
   "metadata": {},
   "source": [
    "***"
   ]
  },
  {
   "cell_type": "markdown",
   "id": "766bd1d9",
   "metadata": {},
   "source": [
    "## Q2: What is Cumulative Density Function (CDF)? Explain with an example. Why CDF is used?\n"
   ]
  },
  {
   "cell_type": "markdown",
   "id": "da36a11e",
   "metadata": {},
   "source": [
    "- The Cumulative Distribution Function (CDF) is a function that gives the probability that a random variable takes on a value less than or equal to a given value. \n",
    " - Example: Consider rolling a fair six-sided die. The CDF of the die at value 3 gives the probability that the outcome is 3 or less. For a fair die, the CDF would be 3/6 or 0.5 at value 3.\n",
    " - The CDF is used to calculate probabilities for ranges of values, compare different distributions, and analyze the characteristics of a random variable. It provides a comprehensive view of the probability distribution."
   ]
  },
  {
   "cell_type": "markdown",
   "id": "0d36d057",
   "metadata": {},
   "source": [
    "***"
   ]
  },
  {
   "cell_type": "markdown",
   "id": "5ffeeec6",
   "metadata": {},
   "source": [
    "## Q3: What are some examples of situations where the normal distribution might be used as a model? Explain how the parameters of the normal distribution relate to the shape of the distribution.\n"
   ]
  },
  {
   "cell_type": "markdown",
   "id": "c327e0ad",
   "metadata": {},
   "source": [
    "- Natural phenomena: Many naturally occurring phenomena, such as heights, weights, IQ scores, and measurement errors, tend to follow a normal distribution due to the influence of multiple independent factors.\n",
    "- Statistical inference: The normal distribution is central to statistical inference methods like hypothesis testing, confidence intervals, and regression analysis. Assumptions of normality often underlie these techniques.\n",
    "    \n",
    "The parameters of the normal distribution are the mean (μ) and the standard deviation (σ). The mean determines the center or location of the distribution, while the standard deviation controls the spread or dispersion of the distribution. A higher standard deviation results in a wider and flatter distribution, while a lower standard deviation produces a narrower and taller distribution.    "
   ]
  },
  {
   "cell_type": "markdown",
   "id": "b1f7187c",
   "metadata": {},
   "source": [
    "***"
   ]
  },
  {
   "cell_type": "markdown",
   "id": "91d8991f",
   "metadata": {},
   "source": [
    "## Q4: Explain the importance of Normal Distribution. Give a few real-life examples of Normal Distribution.\n"
   ]
  },
  {
   "cell_type": "markdown",
   "id": "58134130",
   "metadata": {},
   "source": [
    "- Many natural and social phenomena tend to follow a normal distribution, making it a useful model for data analysis and prediction.\n",
    "- It allows for mathematical and statistical techniques that simplify calculations and inference, as many statistical methods assume or approximate normality.\n",
    "- Real-life examples of the normal distribution include height and weight measurements, IQ scores, exam scores, and errors in measurements.\n"
   ]
  },
  {
   "cell_type": "markdown",
   "id": "389bb70f",
   "metadata": {},
   "source": [
    "***"
   ]
  },
  {
   "cell_type": "markdown",
   "id": "92f100fe",
   "metadata": {},
   "source": [
    "## Q5: What is Bernaulli Distribution? Give an Example. What is the difference between Bernoulli Distribution and Binomial Distribution?\n"
   ]
  },
  {
   "cell_type": "markdown",
   "id": "9c6e1984",
   "metadata": {},
   "source": [
    "- Bernoulli Distribution represents a discrete probability distribution for a binary random variable that can take only two values, typically 0 and 1. \n",
    "\n",
    " - Example: Tossing a coin, where heads can be considered a success (1) with probability p and tails a failure (0) with probability q.\n",
    "\n",
    "The difference between Bernoulli Distribution and Binomial Distribution is as follows:\n",
    "\n",
    "Bernoulli Distribution models a single trial or one event.<br>\n",
    "Binomial Distribution models the number of successes in a fixed number of independent Bernoulli trials."
   ]
  },
  {
   "cell_type": "markdown",
   "id": "76675ded",
   "metadata": {},
   "source": [
    "***"
   ]
  },
  {
   "cell_type": "markdown",
   "id": "801c9794",
   "metadata": {},
   "source": [
    "## Q6. Consider a dataset with a mean of 50 and a standard deviation of 10. If we assume that the dataset is normally distributed, what is the probability that a randomly selected observation will be greater than 60? Use the appropriate formula and show your calculations.\n"
   ]
  },
  {
   "cell_type": "markdown",
   "id": "fb747d28",
   "metadata": {},
   "source": [
    "\n",
    "\n",
    "In this case, the z-score is (60 - 50) / 10 = 1. The probability that a randomly selected observation is greater than 60 is the area under the standard normal distribution curve to the right of the z-score of 1.\n",
    "\n",
    "By referring to a standard normal distribution table or using a statistical calculator, we can find that the probability is approximately 0.1587 or 15.87%."
   ]
  },
  {
   "cell_type": "markdown",
   "id": "3590c714",
   "metadata": {},
   "source": [
    "***"
   ]
  },
  {
   "cell_type": "markdown",
   "id": "e7ca88b9",
   "metadata": {},
   "source": [
    "## Q7: Explain uniform Distribution with an example.\n"
   ]
  },
  {
   "cell_type": "markdown",
   "id": "d02ddc80",
   "metadata": {},
   "source": [
    "- Uniform Distribution represents a continuous probability distribution where all outcomes within a specified range are equally likely. It is characterized by a constant probability density over the entire range.\n",
    " - Example: Rolling a fair six-sided die, where each face has an equal probability of appearing. The outcome has a uniform distribution as each face has a probability of 1/6."
   ]
  },
  {
   "cell_type": "markdown",
   "id": "c98af8a6",
   "metadata": {},
   "source": [
    "***"
   ]
  },
  {
   "cell_type": "markdown",
   "id": "66bdac6f",
   "metadata": {},
   "source": [
    "## Q8: What is the z score? State the importance of the z score.\n"
   ]
  },
  {
   "cell_type": "markdown",
   "id": "316984fe",
   "metadata": {},
   "source": [
    "- The z-score (standard score) measures the number of standard deviations an observation or data point is away from the mean in a normal distribution. It indicates how far a value is from the mean in terms of standard deviations.\n",
    " - It allows for standardized comparisons between values from different distributions.\n",
    " - It helps identify extreme or unusual values as they have z-scores far from zero.\n",
    " - It enables the calculation of probabilities and percentiles by mapping the z-score to the standard normal distribution."
   ]
  },
  {
   "cell_type": "markdown",
   "id": "916378d2",
   "metadata": {},
   "source": [
    "***"
   ]
  },
  {
   "cell_type": "markdown",
   "id": "61175b77",
   "metadata": {},
   "source": [
    "## Q9: What is Central Limit Theorem? State the significance of the Central Limit Theorem.\n"
   ]
  },
  {
   "cell_type": "markdown",
   "id": "34f33c37",
   "metadata": {},
   "source": [
    "The Central Limit Theorem (CLT) is a fundamental concept in statistics that states that, under certain conditions, the distribution of sample means approximates a normal distribution regardless of the shape of the population distribution. \n",
    "\n",
    "- It allows for the use of inferential statistical techniques, such as hypothesis testing and confidence intervals, even when the population distribution is not known.\n",
    "- It provides a basis for estimating population parameters from sample statistics, as the sample mean is a reliable estimator of the population mean.\n",
    "- It explains why the normal distribution is prevalent in statistical analysis, as many phenomena can be modeled as the sum or average of random variables."
   ]
  },
  {
   "cell_type": "markdown",
   "id": "ad51e50b",
   "metadata": {},
   "source": [
    "***"
   ]
  },
  {
   "cell_type": "markdown",
   "id": "21bc4212",
   "metadata": {},
   "source": [
    "## Q10: State the assumptions of the Central Limit Theorem."
   ]
  },
  {
   "cell_type": "markdown",
   "id": "45a2a936",
   "metadata": {},
   "source": [
    "- Random Sampling: The observations in the sample are independent and randomly selected from the population.\n",
    "- Sample Size: The sample size is sufficiently large, typicallyn ≥ 30, to ensure that the sample mean distribution approaches a normal distribution.\n",
    "- Finite Variance: The population variance is finite, meaning the data does not have infinite variability.\n",
    "- Independence: The observations in the population or sample are independent of each other."
   ]
  },
  {
   "cell_type": "code",
   "execution_count": null,
   "id": "b8821283",
   "metadata": {},
   "outputs": [],
   "source": []
  }
 ],
 "metadata": {
  "kernelspec": {
   "display_name": "Python 3 (ipykernel)",
   "language": "python",
   "name": "python3"
  },
  "language_info": {
   "codemirror_mode": {
    "name": "ipython",
    "version": 3
   },
   "file_extension": ".py",
   "mimetype": "text/x-python",
   "name": "python",
   "nbconvert_exporter": "python",
   "pygments_lexer": "ipython3",
   "version": "3.9.5"
  }
 },
 "nbformat": 4,
 "nbformat_minor": 5
}
