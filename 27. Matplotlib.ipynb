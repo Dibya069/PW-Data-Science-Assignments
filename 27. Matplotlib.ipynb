{
 "cells": [
  {
   "cell_type": "markdown",
   "id": "cc414725",
   "metadata": {},
   "source": [
    "## Q1: What is Matplotlib? Why is it used? Name five plots that can be plotted using the Pyplot module of Matplotlib."
   ]
  },
  {
   "cell_type": "markdown",
   "id": "d304d44f",
   "metadata": {},
   "source": [
    "Matplotlib is a popular data visualization library in Python. It provides a wide range of functions and classes for creating static, animated, and interactive visualizations."
   ]
  },
  {
   "cell_type": "markdown",
   "id": "a5a03808",
   "metadata": {},
   "source": [
    "Matplotlib is widely used in various fields such as data analysis, scientific research, machine learning, and more.\n"
   ]
  },
  {
   "cell_type": "markdown",
   "id": "e9169160",
   "metadata": {},
   "source": [
    "- Line Plot: A line plot is used to visualize the relationship between two continuous variables. It is created by connecting data points with straight lines.\n",
    "- Bar Plot: A bar plot is used to compare categorical data. It represents data using rectangular bars, where the height of each bar corresponds to the value of the data category.\n",
    "- Scatter Plot: A scatter plot is used to visualize the relationship between two continuous variables. It represents data points as individual markers on a Cartesian plane.\n",
    "- Histogram: A histogram is used to visualize the distribution of a continuous variable. It groups the data into bins and displays the frequency or density of data within each bin.\n",
    "- Pie Chart: A pie chart is used to represent the proportion of each category in a dataset. It displays data as slices of a circle, where the size of each slice corresponds to the relative value of the category."
   ]
  },
  {
   "cell_type": "markdown",
   "id": "cd594548",
   "metadata": {},
   "source": [
    "***"
   ]
  },
  {
   "cell_type": "markdown",
   "id": "53f394ef",
   "metadata": {},
   "source": [
    "## Q2: What is a scatter plot? Use the following code to generate data for x and y. Using this generated data plot a scatter plot.\n",
    "```\n",
    "import numpy as np\n",
    "np.random.seed(3)\n",
    "x = 3 + np.random.normal(0, 2, 50)\n",
    "y = 3 + np.random.normal(0, 2, len(x))\n",
    "Note: Also add title, xlabel, and ylabel to the plot.\n",
    "```"
   ]
  },
  {
   "cell_type": "code",
   "execution_count": 20,
   "id": "260c423a",
   "metadata": {},
   "outputs": [],
   "source": [
    "import matplotlib.pyplot as plt\n",
    "import numpy as np"
   ]
  },
  {
   "cell_type": "code",
   "execution_count": 21,
   "id": "6fee8377",
   "metadata": {},
   "outputs": [],
   "source": [
    "np.random.seed(3)\n",
    "x = 3 + np.random.normal(0, 2, 50)\n",
    "y = 3 + np.random.normal(0, 2, len(x))"
   ]
  },
  {
   "cell_type": "code",
   "execution_count": 22,
   "id": "5b1e755c",
   "metadata": {},
   "outputs": [
    {
     "data": {
      "image/png": "[encoded data removed]",
      "text/plain": [
       "<Figure size 432x288 with 1 Axes>"
      ]
     },
     "metadata": {
      "needs_background": "light"
     },
     "output_type": "display_data"
    }
   ],
   "source": [
    "# Create a scatter plot\n",
    "plt.scatter(x, y)\n",
    "\n",
    "# Set plot title and labels for x and y axes\n",
    "plt.title(\"Scatter Plot\")\n",
    "plt.xlabel(\"X\")\n",
    "plt.ylabel(\"Y\")\n",
    "\n",
    "# Display the plot\n",
    "plt.show()"
   ]
  },
  {
   "cell_type": "markdown",
   "id": "2a05e346",
   "metadata": {},
   "source": [
    "***"
   ]
  },
  {
   "cell_type": "markdown",
   "id": "5a1c3fb5",
   "metadata": {},
   "source": [
    "## Q3: Why is the subplot() function used? Draw four line plots using the subplot() function.\n",
    "Use the following data:\n",
    "```\n",
    "import numpy as np\n",
    "For line 1: x = np.array([0, 1, 2, 3, 4, 5]) and y = np.array([0, 100, 200, 300, 400, 500])\n",
    "For line 2: x = np.array([0, 1, 2, 3, 4, 5]) and y = np.array([50, 20, 40, 20, 60, 70])\n",
    "For line 3: x = np.array([0, 1, 2, 3, 4, 5]) and y = np.array([10, 20, 30, 40, 50, 60])\n",
    "For line 4: x = np.array([0, 1, 2, 3, 4, 5]) and y = np.array([200, 350, 250, 550, 450, 150])\n",
    "```"
   ]
  },
  {
   "cell_type": "code",
   "execution_count": 23,
   "id": "ca7b622d",
   "metadata": {},
   "outputs": [],
   "source": [
    "x1 = np.array([0, 1, 2, 3, 4, 5])\n",
    "y1 = np.array([0, 100, 200, 300, 400, 500])\n",
    "\n",
    "# Data for line 2\n",
    "x2 = np.array([0, 1, 2, 3, 4, 5])\n",
    "y2 = np.array([50, 20, 40, 20, 60, 70])\n",
    "\n",
    "# Data for line 3\n",
    "x3 = np.array([0, 1, 2, 3, 4, 5])\n",
    "y3 = np.array([10, 20, 30, 40, 50, 60])\n",
    "\n",
    "# Data for line 4\n",
    "x4 = np.array([0, 1, 2, 3, 4, 5])\n",
    "y4 = np.array([200, 350, 250, 550, 450, 150])"
   ]
  },
  {
   "cell_type": "code",
   "execution_count": 26,
   "id": "74a29db5",
   "metadata": {},
   "outputs": [
    {
     "data": {
      "text/plain": [
       "Text(0.5, 1.0, 'Line 4')"
      ]
     },
     "execution_count": 26,
     "metadata": {},
     "output_type": "execute_result"
    },
    {
     "data": {
      "image/png": "[encoded data removed]",
      "text/plain": [
       "<Figure size 432x288 with 4 Axes>"
      ]
     },
     "metadata": {
      "needs_background": "light"
     },
     "output_type": "display_data"
    }
   ],
   "source": [
    "fig, axs = plt.subplots(2, 2)\n",
    "\n",
    "# Plot line 1\n",
    "axs[0, 0].plot(x1, y1)\n",
    "axs[0, 0].set_title('Line 1')\n",
    "\n",
    "# Plot line 2\n",
    "axs[0, 1].plot(x2, y2)\n",
    "axs[0, 1].set_title('Line 2')\n",
    "\n",
    "# Plot line 3\n",
    "axs[1, 0].plot(x3, y3)\n",
    "axs[1, 0].set_title('Line 3')\n",
    "\n",
    "# Plot line 4\n",
    "axs[1, 1].plot(x4, y4)\n",
    "axs[1, 1].set_title('Line 4')\n",
    "\n"
   ]
  },
  {
   "cell_type": "markdown",
   "id": "43f10b64",
   "metadata": {},
   "source": [
    "***"
   ]
  },
  {
   "cell_type": "markdown",
   "id": "fdcf3883",
   "metadata": {},
   "source": [
    "## Q4: What is a bar plot? Why is it used? Using the following data plot a bar plot and a horizontal bar plot.\n",
    "```\n",
    "import numpy as np\n",
    "company = np.array([\"Apple\", \"Microsoft\", \"Google\", \"AMD\"])\n",
    "profit = np.array([3000, 8000, 1000, 10000])\n",
    "```"
   ]
  },
  {
   "cell_type": "markdown",
   "id": "845a6568",
   "metadata": {},
   "source": [
    "- A bar plot is a type of chart that represents categorical data with rectangular bars. The length or height of each bar corresponds to the value of the category it represents. \n",
    "- Bar plots are used to compare and display the relative magnitude of different categories or groups."
   ]
  },
  {
   "cell_type": "code",
   "execution_count": 29,
   "id": "c9f46d6f",
   "metadata": {},
   "outputs": [],
   "source": [
    "company = np.array([\"Apple\", \"Microsoft\", \"Google\", \"AMD\"])\n",
    "profit = np.array([3000, 8000, 1000, 10000])"
   ]
  },
  {
   "cell_type": "code",
   "execution_count": 30,
   "id": "ffe72706",
   "metadata": {},
   "outputs": [
    {
     "data": {
      "image/png": "[encoded data removed]",
      "text/plain": [
       "<Figure size 432x288 with 1 Axes>"
      ]
     },
     "metadata": {
      "needs_background": "light"
     },
     "output_type": "display_data"
    },
    {
     "data": {
      "image/png": "[encoded data removed]",
      "text/plain": [
       "<Figure size 432x288 with 1 Axes>"
      ]
     },
     "metadata": {
      "needs_background": "light"
     },
     "output_type": "display_data"
    }
   ],
   "source": [
    "plt.bar(company, profit)\n",
    "plt.xlabel('Company')\n",
    "plt.ylabel('Profit (in millions)')\n",
    "plt.title('Profit of Companies')\n",
    "plt.show()\n",
    "\n",
    "# Horizontal bar plot\n",
    "plt.barh(company, profit)\n",
    "plt.xlabel('Profit (in millions)')\n",
    "plt.ylabel('Company')\n",
    "plt.title('Profit of Companies')\n",
    "plt.show()"
   ]
  },
  {
   "cell_type": "markdown",
   "id": "9c1a9def",
   "metadata": {},
   "source": [
    "***"
   ]
  },
  {
   "cell_type": "markdown",
   "id": "152f7a15",
   "metadata": {},
   "source": [
    "## Q5: What is a box plot? Why is it used? Using the following data plot a box plot.\n",
    "```\n",
    "box1 = np.random.normal(100, 10, 200)\n",
    "box2 = np.random.normal(90, 20, 200)\n",
    "```"
   ]
  },
  {
   "cell_type": "markdown",
   "id": "b4dd6963",
   "metadata": {},
   "source": [
    "- A box plot, also known as a box-and-whisker plot, is a graphical representation of the distribution of a dataset. \n",
    "-  It summarizes the minimum, first quartile, median, third quartile, and maximum values of a dataset, providing insights into the central tendency, spread, and skewness of the data."
   ]
  },
  {
   "cell_type": "code",
   "execution_count": 31,
   "id": "9ecd0679",
   "metadata": {},
   "outputs": [],
   "source": [
    "box1 = np.random.normal(100, 10, 200)\n",
    "box2 = np.random.normal(90, 20, 200)\n",
    "\n",
    "data = [box1, box2]"
   ]
  },
  {
   "cell_type": "code",
   "execution_count": 32,
   "id": "ce04965d",
   "metadata": {},
   "outputs": [
    {
     "data": {
      "image/png": "[encoded data removed]",
      "text/plain": [
       "<Figure size 432x288 with 1 Axes>"
      ]
     },
     "metadata": {
      "needs_background": "light"
     },
     "output_type": "display_data"
    }
   ],
   "source": [
    "plt.boxplot(data)\n",
    "plt.xticks([1, 2], ['Box 1', 'Box 2'])\n",
    "plt.xlabel('Box')\n",
    "plt.ylabel('Values')\n",
    "plt.title('Box Plot')\n",
    "plt.show()"
   ]
  }
 ],
 "metadata": {
  "kernelspec": {
   "display_name": "Python 3 (ipykernel)",
   "language": "python",
   "name": "python3"
  },
  "language_info": {
   "codemirror_mode": {
    "name": "ipython",
    "version": 3
   },
   "file_extension": ".py",
   "mimetype": "text/x-python",
   "name": "python",
   "nbconvert_exporter": "python",
   "pygments_lexer": "ipython3",
   "version": "3.9.5"
  }
 },
 "nbformat": 4,
 "nbformat_minor": 5
}
