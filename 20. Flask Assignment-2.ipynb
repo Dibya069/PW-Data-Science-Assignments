{
 "cells": [
  {
   "cell_type": "markdown",
   "id": "265128f3",
   "metadata": {},
   "source": [
    "# Q1. Explain GET and POST methods."
   ]
  },
  {
   "cell_type": "markdown",
   "id": "5484fb48",
   "metadata": {},
   "source": [
    "Get: \n",
    "- It is used to request data from a specified resources.\n",
    "- It can retrive any visible data to a client (i.e. HTML, documents, images, videos).\n",
    "- GET is less secure, because in the URL it include the data.<br><br>\n",
    "\n",
    "POST:\n",
    "- It sends data to a server to create or update a resource.\n",
    "- It often submit an HTML form.\n",
    "- It is more secure."
   ]
  },
  {
   "cell_type": "code",
   "execution_count": null,
   "id": "1169a304",
   "metadata": {},
   "outputs": [],
   "source": []
  },
  {
   "cell_type": "markdown",
   "id": "e4ed6215",
   "metadata": {},
   "source": [
    "# Q2. Why is request used in Flask?\n"
   ]
  },
  {
   "cell_type": "markdown",
   "id": "81eecd02",
   "metadata": {},
   "source": [
    "Request used in **Flask** in order to process the request data, it should be imported from the Flask module"
   ]
  },
  {
   "cell_type": "code",
   "execution_count": null,
   "id": "232cbeac",
   "metadata": {},
   "outputs": [],
   "source": []
  },
  {
   "cell_type": "markdown",
   "id": "b5059bb7",
   "metadata": {},
   "source": [
    "# Why is redirect() used in Flask?"
   ]
  },
  {
   "cell_type": "markdown",
   "id": "702c53d9",
   "metadata": {},
   "source": [
    "redirect() used in **Flask** to allows developers to redirect useres to a specific URL and dassign a specific status code."
   ]
  },
  {
   "cell_type": "code",
   "execution_count": null,
   "id": "77a324f9",
   "metadata": {},
   "outputs": [],
   "source": []
  },
  {
   "cell_type": "markdown",
   "id": "fd85ba64",
   "metadata": {},
   "source": [
    "# Q4. What are templates in Flask? Why is the render_template() function used?\n"
   ]
  },
  {
   "cell_type": "markdown",
   "id": "b5a5b529",
   "metadata": {},
   "source": [
    "- Templates are the files that contain static data as well as a placeholders for dynamic data.\n",
    "- render_tamplate() is used to generate output from a template file based on the **jinja2** engine that is found in the application's template folder."
   ]
  },
  {
   "cell_type": "code",
   "execution_count": null,
   "id": "bcdd33c0",
   "metadata": {},
   "outputs": [],
   "source": []
  },
  {
   "cell_type": "markdown",
   "id": "2b107baa",
   "metadata": {},
   "source": [
    "# Q5. Create a simple API. Use Postman to test it. Attach the screenshot of the output in the Jupyter Notebook."
   ]
  },
  {
   "cell_type": "markdown",
   "id": "39bb67ce",
   "metadata": {},
   "source": [
    "![alt text](img/post1.png)"
   ]
  },
  {
   "cell_type": "markdown",
   "id": "18a8ecd3",
   "metadata": {},
   "source": [
    "![alt text](img/post2.png)"
   ]
  },
  {
   "cell_type": "markdown",
   "id": "e7085b97",
   "metadata": {},
   "source": [
    "![alt text](img/post3.png)"
   ]
  },
  {
   "cell_type": "code",
   "execution_count": null,
   "id": "01ec252a",
   "metadata": {},
   "outputs": [],
   "source": []
  }
 ],
 "metadata": {
  "kernelspec": {
   "display_name": "Python 3 (ipykernel)",
   "language": "python",
   "name": "python3"
  },
  "language_info": {
   "codemirror_mode": {
    "name": "ipython",
    "version": 3
   },
   "file_extension": ".py",
   "mimetype": "text/x-python",
   "name": "python",
   "nbconvert_exporter": "python",
   "pygments_lexer": "ipython3",
   "version": "3.9.5"
  }
 },
 "nbformat": 4,
 "nbformat_minor": 5
}
