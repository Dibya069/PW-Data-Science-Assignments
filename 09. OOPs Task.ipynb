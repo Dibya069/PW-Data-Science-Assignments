{
 "cells": [
  {
   "cell_type": "markdown",
   "id": "fa98ed62",
   "metadata": {},
   "source": [
    "## Q1, Create a vehicle class with an init method having instance variables as name_of_vehicle, max_speed and average_of_vehicle."
   ]
  },
  {
   "cell_type": "code",
   "execution_count": 1,
   "id": "de1a4dcb",
   "metadata": {},
   "outputs": [],
   "source": [
    "class Vehicle:\n",
    "    def __init__(self, name_of_vehicle, max_speed, average_speed):\n",
    "        self.name_of_vehicle = name_of_vehicle\n",
    "        self.max_speed = max_speed\n",
    "        self.average_speed = average_speed\n"
   ]
  },
  {
   "cell_type": "code",
   "execution_count": 2,
   "id": "07702d49",
   "metadata": {},
   "outputs": [
    {
     "name": "stdout",
     "output_type": "stream",
     "text": [
      "Car\n",
      "200\n",
      "60\n"
     ]
    }
   ],
   "source": [
    "car = Vehicle(\"Car\", 200, 60)\n",
    "print(car.name_of_vehicle)      \n",
    "print(car.max_speed)            \n",
    "print(car.average_speed)    "
   ]
  },
  {
   "cell_type": "markdown",
   "id": "d23d4399",
   "metadata": {},
   "source": [
    "***"
   ]
  },
  {
   "cell_type": "markdown",
   "id": "cb4bd296",
   "metadata": {},
   "source": [
    "## Q2. Create a child class car from the vehicle class created in Que 1, which will inherit the vehicle class. Create a method named seating_capacity which takes capacity as an argument and returns the name of the vehicle and its seating capacity."
   ]
  },
  {
   "cell_type": "code",
   "execution_count": 3,
   "id": "ccc58b36",
   "metadata": {},
   "outputs": [],
   "source": [
    "class Vehicle:\n",
    "    def __init__(self, name):\n",
    "        self.name = name\n",
    "    \n",
    "    def get_name(self):\n",
    "        return self.name\n",
    "\n",
    "\n",
    "class Car(Vehicle):\n",
    "    def seating_capacity(self, capacity):\n",
    "        return f\"{self.get_name()} has a seating capacity of {capacity}.\"\n"
   ]
  },
  {
   "cell_type": "code",
   "execution_count": 4,
   "id": "ac30b200",
   "metadata": {},
   "outputs": [
    {
     "name": "stdout",
     "output_type": "stream",
     "text": [
      "Generic Vehicle\n",
      "Toyota Corolla\n",
      "Toyota Corolla has a seating capacity of 5.\n"
     ]
    }
   ],
   "source": [
    "vehicle = Vehicle(\"Generic Vehicle\")\n",
    "print(vehicle.get_name())\n",
    "\n",
    "car = Car(\"Toyota Corolla\")\n",
    "print(car.get_name())\n",
    "print(car.seating_capacity(5))"
   ]
  },
  {
   "cell_type": "markdown",
   "id": "f5e80f7c",
   "metadata": {},
   "source": [
    "***"
   ]
  },
  {
   "cell_type": "markdown",
   "id": "41e387fa",
   "metadata": {},
   "source": [
    "## Q3. What is multiple inheritance? Write a python code to demonstrate multiple inheritance."
   ]
  },
  {
   "cell_type": "markdown",
   "id": "8c1441ca",
   "metadata": {},
   "source": [
    "- Multiple inheritance is a feature in object-oriented programming where a class can inherit attributes and methods from multiple parent classes. "
   ]
  },
  {
   "cell_type": "code",
   "execution_count": 5,
   "id": "004e39a2",
   "metadata": {},
   "outputs": [],
   "source": [
    "class Animal:\n",
    "    def __init__(self, name):\n",
    "        self.name = name\n",
    "    \n",
    "    def speak(self):\n",
    "        print(f\"{self.name} makes a sound.\")\n",
    "\n",
    "\n",
    "class Flyable:\n",
    "    def fly(self):\n",
    "        print(\"The animal can fly.\")\n",
    "\n",
    "\n",
    "class Bird(Animal, Flyable):\n",
    "    def __init__(self, name):\n",
    "        super().__init__(name)\n",
    "\n"
   ]
  },
  {
   "cell_type": "code",
   "execution_count": 6,
   "id": "abdc4b2f",
   "metadata": {},
   "outputs": [
    {
     "name": "stdout",
     "output_type": "stream",
     "text": [
      "Sparrow makes a sound.\n",
      "The animal can fly.\n"
     ]
    }
   ],
   "source": [
    "\n",
    "bird = Bird(\"Sparrow\")\n",
    "bird.speak()  \n",
    "bird.fly()    \n"
   ]
  },
  {
   "cell_type": "markdown",
   "id": "b9915c4f",
   "metadata": {},
   "source": [
    "***"
   ]
  },
  {
   "cell_type": "markdown",
   "id": "10f536bb",
   "metadata": {},
   "source": [
    "## Q4. What are getter and setter in python? Create a class and create a getter and a setter method in this class."
   ]
  },
  {
   "cell_type": "markdown",
   "id": "336fc08f",
   "metadata": {},
   "source": [
    "- Getters and setters are methods used to access (get) and modify (set) the values of class attributes. They provide a way to control the access and modification of class attributes by encapsulating them within methods."
   ]
  },
  {
   "cell_type": "code",
   "execution_count": 7,
   "id": "ac3f4746",
   "metadata": {},
   "outputs": [],
   "source": [
    "class Person:\n",
    "    def __init__(self, name):\n",
    "        self._name = name\n",
    "\n",
    "    def get_name(self):\n",
    "        return self._name\n",
    "\n",
    "    def set_name(self, new_name):\n",
    "        self._name = new_name"
   ]
  },
  {
   "cell_type": "code",
   "execution_count": 8,
   "id": "a7e70e74",
   "metadata": {},
   "outputs": [
    {
     "name": "stdout",
     "output_type": "stream",
     "text": [
      "John\n",
      "Alice\n"
     ]
    }
   ],
   "source": [
    "person = Person(\"John\")\n",
    "print(person.get_name()) \n",
    "\n",
    "person.set_name(\"Alice\")\n",
    "print(person.get_name()) "
   ]
  },
  {
   "cell_type": "markdown",
   "id": "2d126651",
   "metadata": {},
   "source": [
    "***"
   ]
  },
  {
   "cell_type": "markdown",
   "id": "1f7939f6",
   "metadata": {},
   "source": [
    "## Q5.What is method overriding in python? Write a python code to demonstrate method overriding."
   ]
  },
  {
   "cell_type": "markdown",
   "id": "297951db",
   "metadata": {},
   "source": [
    "- Method overriding is a feature in object-oriented programming where a subclass provides its own implementation of a method that is already defined in its superclass. "
   ]
  },
  {
   "cell_type": "code",
   "execution_count": 9,
   "id": "28491d30",
   "metadata": {},
   "outputs": [],
   "source": [
    "class Animal:\n",
    "    def speak(self):\n",
    "        print(\"Animal speaks.\")\n",
    "\n",
    "\n",
    "class Dog(Animal):\n",
    "    def speak(self):\n",
    "        print(\"Dog barks.\")"
   ]
  },
  {
   "cell_type": "code",
   "execution_count": 10,
   "id": "9e540780",
   "metadata": {},
   "outputs": [
    {
     "name": "stdout",
     "output_type": "stream",
     "text": [
      "Animal speaks.\n",
      "Dog barks.\n"
     ]
    }
   ],
   "source": [
    "animal = Animal()\n",
    "animal.speak() \n",
    "\n",
    "dog = Dog()\n",
    "dog.speak() "
   ]
  },
  {
   "cell_type": "markdown",
   "id": "7693ff1c",
   "metadata": {},
   "source": [
    "***"
   ]
  }
 ],
 "metadata": {
  "kernelspec": {
   "display_name": "Python 3 (ipykernel)",
   "language": "python",
   "name": "python3"
  },
  "language_info": {
   "codemirror_mode": {
    "name": "ipython",
    "version": 3
   },
   "file_extension": ".py",
   "mimetype": "text/x-python",
   "name": "python",
   "nbconvert_exporter": "python",
   "pygments_lexer": "ipython3",
   "version": "3.9.5"
  }
 },
 "nbformat": 4,
 "nbformat_minor": 5
}
