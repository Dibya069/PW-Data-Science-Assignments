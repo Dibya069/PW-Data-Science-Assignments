{
 "cells": [
  {
   "cell_type": "markdown",
   "id": "6fe211ed",
   "metadata": {},
   "source": [
    "## Q1. What is the Probability density function?\n"
   ]
  },
  {
   "cell_type": "markdown",
   "id": "04cbf6b6",
   "metadata": {},
   "source": [
    "- The Probability Density Function (PDF) is a function that describes the likelihood of a continuous random variable taking on a specific value. It provides the relative probabilities for different values within the range of the random variable. "
   ]
  },
  {
   "cell_type": "markdown",
   "id": "7b4f1c9b",
   "metadata": {},
   "source": [
    "***"
   ]
  },
  {
   "cell_type": "markdown",
   "id": "3a320c80",
   "metadata": {},
   "source": [
    "## Q2. What are the types of Probability distribution?\n"
   ]
  },
  {
   "cell_type": "markdown",
   "id": "c9cd4a33",
   "metadata": {},
   "source": [
    "- Normal Distribution: It is a symmetric bell-shaped distribution that is widely used in statistics. It is characterized by its mean and standard deviation.\n",
    "\n",
    "- Binomial Distribution: It models the number of successes in a fixed number of independent Bernoulli trials, where each trial has the same probability of success.\n",
    "\n",
    "- Poisson Distribution: It models the number of events occurring in a fixed interval of time or space, given the average rate of occurrence.\n",
    "\n",
    "- Exponential Distribution: It models the time between events in a Poisson process, where events occur continuously and independently at a constant average rate.\n",
    "\n",
    "- Uniform Distribution: It represents a continuous random variable where all values within a given range are equally likely."
   ]
  },
  {
   "cell_type": "markdown",
   "id": "d52987b1",
   "metadata": {},
   "source": [
    "***"
   ]
  },
  {
   "cell_type": "markdown",
   "id": "3e4573c2",
   "metadata": {},
   "source": [
    "## Q3. Write a Python function to calculate the probability density function of a normal distribution with given mean and standard deviation at a given point.\n"
   ]
  },
  {
   "cell_type": "code",
   "execution_count": 207,
   "id": "fd26576a",
   "metadata": {},
   "outputs": [],
   "source": [
    "import math\n",
    "\n",
    "def normal_pdf(x, mean, std_dev):\n",
    "    exponent = -((x - mean) ** 2) / (2 * (std_dev ** 2))\n",
    "    coefficient = 1 / (std_dev * math.sqrt(2 * math.pi))\n",
    "    pdf = coefficient * math.exp(exponent)\n",
    "    return pdf"
   ]
  },
  {
   "cell_type": "markdown",
   "id": "9b351d8f",
   "metadata": {},
   "source": [
    "***"
   ]
  },
  {
   "cell_type": "markdown",
   "id": "ed836c39",
   "metadata": {},
   "source": [
    "## Q4. What are the properties of Binomial distribution? Give two examples of events where binomial distribution can be applied.\n"
   ]
  },
  {
   "cell_type": "markdown",
   "id": "e6d46412",
   "metadata": {},
   "source": [
    "- It models the number of successes (k) in a fixed number of independent Bernoulli trials (n).\n",
    "- Each trial has only two possible outcomes: success or failure.\n",
    "- The trials are independent and have the same probability of success (p) on each trial.\n",
    "- The random variable follows a discrete probability distribution.\n",
    "- The mean of the distribution is μ = np, where n is the number of trials and p is the probability of success on each trial.\n",
    "- The variance of the distribution is σ^2 = np(1-p)."
   ]
  },
  {
   "cell_type": "markdown",
   "id": "6005a438",
   "metadata": {},
   "source": [
    "1. Flipping a fair coin 10 times and counting the number of heads.\n",
    "2. Conducting a survey where each respondent answers a yes-or-no question, and the goal is to count the number of \"yes\" responses."
   ]
  },
  {
   "cell_type": "markdown",
   "id": "fce598e1",
   "metadata": {},
   "source": [
    "***"
   ]
  },
  {
   "cell_type": "markdown",
   "id": "6314c127",
   "metadata": {},
   "source": [
    "## Q5. Generate a random sample of size 1000 from a binomial distribution with probability of success 0.4 and plot a histogram of the results using matplotlib.\n"
   ]
  },
  {
   "cell_type": "code",
   "execution_count": 208,
   "id": "7e1095f9",
   "metadata": {},
   "outputs": [],
   "source": [
    "import numpy as np\n",
    "import matplotlib.pyplot as plt"
   ]
  },
  {
   "cell_type": "code",
   "execution_count": 209,
   "id": "14b86686",
   "metadata": {},
   "outputs": [
    {
     "data": {
      "image/png": "[encoded data removed]",
      "text/plain": [
       "<Figure size 432x288 with 1 Axes>"
      ]
     },
     "metadata": {
      "needs_background": "light"
     },
     "output_type": "display_data"
    }
   ],
   "source": [
    "# Generate a random sample from a binomial distribution\n",
    "sample = np.random.binomial(n=1, p=0.4, size=1000)\n",
    "\n",
    "# Plot a histogram of the sample\n",
    "plt.hist(sample, bins=20)\n",
    "plt.xlabel('Number of Successes')\n",
    "plt.ylabel('Frequency')\n",
    "plt.title('Binomial Distribution')\n",
    "plt.show()"
   ]
  },
  {
   "cell_type": "markdown",
   "id": "67e70399",
   "metadata": {},
   "source": [
    "***"
   ]
  },
  {
   "cell_type": "markdown",
   "id": "a2f1b3e9",
   "metadata": {},
   "source": [
    "## Q6. Write a Python function to calculate the cumulative distribution function of a Poisson distribution with given mean at a given point.\n"
   ]
  },
  {
   "cell_type": "code",
   "execution_count": 210,
   "id": "b0bae3e8",
   "metadata": {},
   "outputs": [],
   "source": [
    "import math\n",
    "\n",
    "def poisson_cdf(x, mean):\n",
    "    cdf = 0.0\n",
    "    for k in range(x + 1):\n",
    "        cdf += (math.exp(-mean) * (mean ** k)) / math.factorial(k)\n",
    "    return cdf"
   ]
  },
  {
   "cell_type": "markdown",
   "id": "8a941749",
   "metadata": {},
   "source": [
    "***"
   ]
  },
  {
   "cell_type": "markdown",
   "id": "9a087380",
   "metadata": {},
   "source": [
    "## Q7. How Binomial distribution different from Poisson distribution?\n"
   ]
  },
  {
   "cell_type": "markdown",
   "id": "b46cc778",
   "metadata": {},
   "source": [
    "- Binomial Distribution: It models the number of successes in a fixed number of independent Bernoulli trials. The trials are discrete and have two possible outcomes (success or failure). The number of trials is fixed, and the probability of success remains constant.\n",
    "\n",
    "- Poisson Distribution: It models the number of events occurring in a fixed interval of time or space, given the average rate of occurrence. The trials are also discrete, but the number of trials is not fixed. The Poisson distribution is typically used when the number of trials is large, and the probability of success on each trial is small."
   ]
  },
  {
   "cell_type": "markdown",
   "id": "0e814385",
   "metadata": {},
   "source": [
    "***"
   ]
  },
  {
   "cell_type": "markdown",
   "id": "9fa22c80",
   "metadata": {},
   "source": [
    "## Q8. Generate a random sample of size 1000 from a Poisson distribution with mean 5 and calculate the sample mean and variance.\n"
   ]
  },
  {
   "cell_type": "code",
   "execution_count": 211,
   "id": "5f9dd757",
   "metadata": {},
   "outputs": [
    {
     "name": "stdout",
     "output_type": "stream",
     "text": [
      "Sample Mean: 4.934\n",
      "Sample Variance: 4.715644\n"
     ]
    }
   ],
   "source": [
    "import numpy as np\n",
    "\n",
    "# Generate a random sample from a Poisson distribution\n",
    "sample = np.random.poisson(lam=5, size=1000)\n",
    "\n",
    "# Calculate the sample mean and variance\n",
    "sample_mean = np.mean(sample)\n",
    "sample_variance = np.var(sample)\n",
    "\n",
    "print(\"Sample Mean:\", sample_mean)\n",
    "print(\"Sample Variance:\", sample_variance)"
   ]
  },
  {
   "cell_type": "markdown",
   "id": "c574f351",
   "metadata": {},
   "source": [
    "***"
   ]
  },
  {
   "cell_type": "markdown",
   "id": "d6fbac6a",
   "metadata": {},
   "source": [
    "## Q9. How mean and variance are related in Binomial distribution and Poisson distribution?\n"
   ]
  },
  {
   "cell_type": "markdown",
   "id": "aae53f06",
   "metadata": {},
   "source": [
    "- For the Binomial distribution, the mean is given by μ = np, where n is the numberof trials and p is the probability of success on each trial. The variance is given by σ^2 = np(1-p).\n",
    "\n",
    "- For the Poisson distribution, the mean and variance are both equal to the parameter λ, which represents the average rate of events occurring in a fixed interval. Therefore, in both distributions, the mean and variance are related and equal."
   ]
  },
  {
   "cell_type": "markdown",
   "id": "57ccc6e4",
   "metadata": {},
   "source": [
    "***"
   ]
  },
  {
   "cell_type": "markdown",
   "id": "f86d9e58",
   "metadata": {},
   "source": [
    "## Q10. In normal distribution with respect to mean position, where does the least frequent data appear?"
   ]
  },
  {
   "cell_type": "markdown",
   "id": "af7cd01e",
   "metadata": {},
   "source": [
    "In a normal distribution, the least frequent data appears at the tails of the distribution, which are the extreme values. In a symmetric normal distribution, the mean is located at the center of the distribution, and the data becomes less frequent as it moves away from the mean in either direction. Therefore, the least frequent data appears at the tails, which are the values farthest from the mean."
   ]
  }
 ],
 "metadata": {
  "kernelspec": {
   "display_name": "Python 3 (ipykernel)",
   "language": "python",
   "name": "python3"
  },
  "language_info": {
   "codemirror_mode": {
    "name": "ipython",
    "version": 3
   },
   "file_extension": ".py",
   "mimetype": "text/x-python",
   "name": "python",
   "nbconvert_exporter": "python",
   "pygments_lexer": "ipython3",
   "version": "3.9.5"
  }
 },
 "nbformat": 4,
 "nbformat_minor": 5
}
