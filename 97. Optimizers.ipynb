{
 "cells": [
  {
   "cell_type": "markdown",
   "metadata": {},
   "source": [
    "Objective: Assess understanding of optimization algorithms in artificial neural networks. Evaluate the\n",
    "application and comparison of different optimizers. Enhance knowledge of optimizers' impact on model\n",
    "convergence and performance.\n",
    "\n"
   ]
  },
  {
   "cell_type": "markdown",
   "metadata": {},
   "source": [
    "## Part 1: Understanding Optimizers\n"
   ]
  },
  {
   "cell_type": "markdown",
   "metadata": {},
   "source": [
    "### 1. What is the role of optimization algorithms in artificial neural networks?  Why are they necessary?\n"
   ]
  },
  {
   "cell_type": "markdown",
   "metadata": {},
   "source": [
    "`Optimization algorithms in artificial neural networks are crucial for finding the optimal set of weights that minimize the loss function. They adjust the weights during training to improve the model's performance. `"
   ]
  },
  {
   "cell_type": "markdown",
   "metadata": {},
   "source": [
    "### 2. Explain the concept of gradient descent and its variants. Discuss their differences and tradeoffs in terms of convergence speed and memory requirements.\n"
   ]
  },
  {
   "cell_type": "markdown",
   "metadata": {},
   "source": [
    "- Gradient Descent (GD): Iteratively adjusts weights in the direction of the negative gradient of the loss function with respect to the weights.\n",
    "- Stochastic Gradient Descent (SGD): Uses a random subset of data (mini-batch) for each iteration, introducing stochasticity and often converges faster.\n",
    "- Mini-batch Gradient Descent: A compromise between GD and SGD, using a mini-batch of data for each iteration.\n",
    "- Batch Gradient Descent: Uses the entire dataset for each iteration, computationally expensive."
   ]
  },
  {
   "cell_type": "markdown",
   "metadata": {},
   "source": [
    "### 3. Describe the challenges associated with traditional gradient descent optimization methods (e.g., slow convergence, local minima). How do modern optimizers address these challenges?\n"
   ]
  },
  {
   "cell_type": "markdown",
   "metadata": {},
   "source": [
    "- Slow Convergence: Traditional GD can be slow, especially for large datasets.\n",
    "- Local Minima: Can get stuck in local minima.\n",
    "- Saddle Points: May slow down near saddle points."
   ]
  },
  {
   "cell_type": "markdown",
   "metadata": {},
   "source": [
    "### 4. Discuss the concepts of momentum and learning rate in the context of optimization algorithms. How do they impact convergence and model performance?\n"
   ]
  },
  {
   "cell_type": "markdown",
   "metadata": {},
   "source": [
    "- Momentum: A parameter that determines the amount of past gradient to include in the current update. It helps accelerate convergence through smoother updates.\n",
    "- Learning Rate: Determines the step size in weight updates. Too high may cause overshooting, too low may lead to slow convergence."
   ]
  },
  {
   "cell_type": "markdown",
   "metadata": {},
   "source": [
    "***"
   ]
  },
  {
   "cell_type": "markdown",
   "metadata": {},
   "source": [
    " \n",
    "## Part 2: Optimizer Techniques\n"
   ]
  },
  {
   "cell_type": "markdown",
   "metadata": {},
   "source": [
    "### 5. Explain the concept of Stochastic radiant Descent (SGD) and its advantages compared to traditional gradient descent. Discuss its limitations and scenarios where it is most suitable.\n"
   ]
  },
  {
   "cell_type": "markdown",
   "metadata": {},
   "source": [
    "- Uses a random subset of data (mini-batch) for each iteration, introducing stochasticity and often converges faster.\n",
    "- Advantages: Faster convergence, less memory usage compared to batch GD.\n",
    "- Limitations: Can be noisy, may oscillate around the minimum. Suitable for large datasets."
   ]
  },
  {
   "cell_type": "markdown",
   "metadata": {},
   "source": [
    "### 6. Describe the concept of Adam optimizer and how it combines momentum and adaptive learning rates. Discuss its benefits and potential drawbacks.\n"
   ]
  },
  {
   "cell_type": "markdown",
   "metadata": {},
   "source": [
    "- Combines momentum and adaptive learning rates.\n",
    "- Benefits: Efficient convergence, adaptive learning rates, well-suited for sparse gradients.\n",
    "- Drawbacks: May require tuning of hyperparameters."
   ]
  },
  {
   "cell_type": "markdown",
   "metadata": {},
   "source": [
    "### 7. Explain the concept of RMSprop optimizer and how it addresses the challenges of adaptive learning rates. compare it with Adam and discuss their relative strengths and weaknesses.\n"
   ]
  },
  {
   "cell_type": "markdown",
   "metadata": {},
   "source": [
    "- Concept: Adapts learning rates for each parameter using a moving average of squared gradients.\n",
    "- Comparison with Adam: Simpler, computationally less expensive. May be more suitable for non-stationary objectives."
   ]
  },
  {
   "cell_type": "markdown",
   "metadata": {},
   "source": [
    "***"
   ]
  },
  {
   "cell_type": "markdown",
   "metadata": {},
   "source": [
    "\n",
    "## Part 3: Applying Optimizers\n"
   ]
  },
  {
   "cell_type": "markdown",
   "metadata": {},
   "source": [
    "### 8. Implement SGD, Adam, and RMSprop optimizers in a deep learning model using a framework of your choice. Train the model on a suitable dataset and compare their impact on model convergence and performance.\n"
   ]
  },
  {
   "cell_type": "code",
   "execution_count": 5,
   "metadata": {},
   "outputs": [],
   "source": [
    "import tensorflow as tf\n",
    "from tensorflow.keras import layers, models\n",
    "from tensorflow.keras.datasets import mnist\n",
    "from tensorflow.keras.utils import to_categorical\n",
    "import matplotlib.pyplot as plt"
   ]
  },
  {
   "cell_type": "code",
   "execution_count": 6,
   "metadata": {},
   "outputs": [],
   "source": [
    "# Load and preprocess the MNIST dataset\n",
    "(train_images, train_labels), (test_images, test_labels) = mnist.load_data()\n",
    "train_images = train_images.reshape((60000, 28, 28, 1)).astype('float32') / 255\n",
    "test_images = test_images.reshape((10000, 28, 28, 1)).astype('float32') / 255\n",
    "train_labels = to_categorical(train_labels)\n",
    "test_labels = to_categorical(test_labels)"
   ]
  },
  {
   "cell_type": "code",
   "execution_count": 10,
   "metadata": {},
   "outputs": [
    {
     "data": {
      "image/png": "[encoded data removed]",
      "text/plain": [
       "<Figure size 432x288 with 5 Axes>"
      ]
     },
     "metadata": {
      "needs_background": "light"
     },
     "output_type": "display_data"
    }
   ],
   "source": [
    "for i in range(5):\n",
    "    plt.subplot(1, 5, i + 1)\n",
    "    plt.imshow(train_images[i, :, :, 0], cmap='gray')\n",
    "    plt.title(f\"Label: {train_labels[i].argmax()}\")\n",
    "    plt.axis('off')\n",
    "\n",
    "plt.show()"
   ]
  },
  {
   "cell_type": "code",
   "execution_count": 11,
   "metadata": {},
   "outputs": [],
   "source": [
    "model = models.Sequential()\n",
    "\n",
    "model.add(layers.Conv2D(32, (3, 3), activation='relu', input_shape=(28, 28, 1)))\n",
    "model.add(layers.MaxPooling2D((2, 2)))\n",
    "model.add(layers.Conv2D(64, (3, 3), activation='relu'))\n",
    "model.add(layers.MaxPooling2D((2, 2)))\n",
    "model.add(layers.Conv2D(64, (3, 3), activation='relu'))\n",
    "model.add(layers.Flatten())\n",
    "model.add(layers.Dense(64, activation='relu'))\n",
    "model.add(layers.Dense(10, activation='softmax'))\n"
   ]
  },
  {
   "cell_type": "code",
   "execution_count": 31,
   "metadata": {},
   "outputs": [
    {
     "name": "stdout",
     "output_type": "stream",
     "text": [
      "Model: \"sequential\"\n",
      "_________________________________________________________________\n",
      " Layer (type)                Output Shape              Param #   \n",
      "=================================================================\n",
      " conv2d (Conv2D)             (None, 26, 26, 32)        320       \n",
      "                                                                 \n",
      " max_pooling2d (MaxPooling2D  (None, 13, 13, 32)       0         \n",
      " )                                                               \n",
      "                                                                 \n",
      " conv2d_1 (Conv2D)           (None, 11, 11, 64)        18496     \n",
      "                                                                 \n",
      " max_pooling2d_1 (MaxPooling  (None, 5, 5, 64)         0         \n",
      " 2D)                                                             \n",
      "                                                                 \n",
      " conv2d_2 (Conv2D)           (None, 3, 3, 64)          36928     \n",
      "                                                                 \n",
      " flatten (Flatten)           (None, 576)               0         \n",
      "                                                                 \n",
      " dense (Dense)               (None, 64)                36928     \n",
      "                                                                 \n",
      " dense_1 (Dense)             (None, 10)                650       \n",
      "                                                                 \n",
      "=================================================================\n",
      "Total params: 93,322\n",
      "Trainable params: 93,322\n",
      "Non-trainable params: 0\n",
      "_________________________________________________________________\n"
     ]
    }
   ],
   "source": [
    "model.summary()"
   ]
  },
  {
   "cell_type": "code",
   "execution_count": 28,
   "metadata": {},
   "outputs": [],
   "source": [
    "def train_and_evaluate(optimizer_name, optimizer_instance, model):\n",
    "    print(f\"------------------------- {optimizer_name} -------------------------\")\n",
    "    \n",
    "    model.compile(optimizer=optimizer_instance, loss='categorical_crossentropy', metrics=['accuracy'])\n",
    "    history = model.fit(train_images, train_labels, epochs=10, batch_size=64, validation_data=(test_images, test_labels))\n",
    "    \n",
    "    # Plot training history\n",
    "    plt.plot(history.history['accuracy'], label='train_accuracy')\n",
    "    plt.plot(history.history['val_accuracy'], label='val_accuracy')\n",
    "    plt.title(f'Model Accuracy with {optimizer_name}')\n",
    "    plt.xlabel('Epoch')\n",
    "    plt.ylabel('Accuracy')\n",
    "    plt.legend()\n",
    "    plt.show()\n",
    "\n",
    "    # Evaluate model on the test set\n",
    "    test_loss, test_accuracy = model.evaluate(test_images, test_labels)\n",
    "    print(f'Test Accuracy with {optimizer_name}: {test_accuracy}')"
   ]
  },
  {
   "cell_type": "code",
   "execution_count": 29,
   "metadata": {},
   "outputs": [
    {
     "name": "stdout",
     "output_type": "stream",
     "text": [
      "------------------------- SGD -------------------------\n",
      "Epoch 1/10\n",
      "938/938 [==============================] - 58s 61ms/step - loss: 0.0045 - accuracy: 0.9991 - val_loss: 0.0203 - val_accuracy: 0.9935\n",
      "Epoch 2/10\n",
      "938/938 [==============================] - 57s 61ms/step - loss: 0.0043 - accuracy: 0.9991 - val_loss: 0.0205 - val_accuracy: 0.9938\n",
      "Epoch 3/10\n",
      "938/938 [==============================] - 60s 64ms/step - loss: 0.0040 - accuracy: 0.9992 - val_loss: 0.0206 - val_accuracy: 0.9936\n",
      "Epoch 4/10\n",
      "938/938 [==============================] - 61s 65ms/step - loss: 0.0038 - accuracy: 0.9992 - val_loss: 0.0208 - val_accuracy: 0.9936\n",
      "Epoch 5/10\n",
      "938/938 [==============================] - 58s 62ms/step - loss: 0.0036 - accuracy: 0.9993 - val_loss: 0.0210 - val_accuracy: 0.9936\n",
      "Epoch 6/10\n",
      "938/938 [==============================] - 59s 62ms/step - loss: 0.0035 - accuracy: 0.9993 - val_loss: 0.0210 - val_accuracy: 0.9937\n",
      "Epoch 7/10\n",
      "938/938 [==============================] - 57s 61ms/step - loss: 0.0033 - accuracy: 0.9993 - val_loss: 0.0214 - val_accuracy: 0.9935\n",
      "Epoch 8/10\n",
      "938/938 [==============================] - 60s 64ms/step - loss: 0.0032 - accuracy: 0.9993 - val_loss: 0.0213 - val_accuracy: 0.9935\n",
      "Epoch 9/10\n",
      "938/938 [==============================] - 58s 62ms/step - loss: 0.0031 - accuracy: 0.9994 - val_loss: 0.0213 - val_accuracy: 0.9939\n",
      "Epoch 10/10\n",
      "938/938 [==============================] - 57s 61ms/step - loss: 0.0029 - accuracy: 0.9995 - val_loss: 0.0217 - val_accuracy: 0.9933\n"
     ]
    },
    {
     "data": {
      "image/png": "[encoded data removed]",
      "text/plain": [
       "<Figure size 432x288 with 1 Axes>"
      ]
     },
     "metadata": {
      "needs_background": "light"
     },
     "output_type": "display_data"
    },
    {
     "name": "stdout",
     "output_type": "stream",
     "text": [
      "313/313 [==============================] - 3s 10ms/step - loss: 0.0217 - accuracy: 0.9933\n",
      "Test Accuracy with SGD: 0.9933000206947327\n",
      "------------------------- Adam -------------------------\n",
      "Epoch 1/10\n",
      "938/938 [==============================] - 58s 60ms/step - loss: 0.0182 - accuracy: 0.9939 - val_loss: 0.0278 - val_accuracy: 0.9920\n",
      "Epoch 2/10\n",
      "938/938 [==============================] - 55s 59ms/step - loss: 0.0148 - accuracy: 0.9952 - val_loss: 0.0288 - val_accuracy: 0.9917\n",
      "Epoch 3/10\n",
      "938/938 [==============================] - 49s 52ms/step - loss: 0.0116 - accuracy: 0.9960 - val_loss: 0.0331 - val_accuracy: 0.9909\n",
      "Epoch 4/10\n",
      "938/938 [==============================] - 48s 51ms/step - loss: 0.0119 - accuracy: 0.9959 - val_loss: 0.0343 - val_accuracy: 0.9896\n",
      "Epoch 5/10\n",
      "938/938 [==============================] - 48s 51ms/step - loss: 0.0090 - accuracy: 0.9970 - val_loss: 0.0311 - val_accuracy: 0.9902\n",
      "Epoch 6/10\n",
      "938/938 [==============================] - 49s 52ms/step - loss: 0.0085 - accuracy: 0.9970 - val_loss: 0.0344 - val_accuracy: 0.9911\n",
      "Epoch 7/10\n",
      "938/938 [==============================] - 48s 51ms/step - loss: 0.0072 - accuracy: 0.9976 - val_loss: 0.0311 - val_accuracy: 0.9924\n",
      "Epoch 8/10\n",
      "938/938 [==============================] - 48s 51ms/step - loss: 0.0074 - accuracy: 0.9976 - val_loss: 0.0412 - val_accuracy: 0.9915\n",
      "Epoch 9/10\n",
      "938/938 [==============================] - 48s 52ms/step - loss: 0.0065 - accuracy: 0.9980 - val_loss: 0.0328 - val_accuracy: 0.9905\n",
      "Epoch 10/10\n",
      "938/938 [==============================] - 53s 56ms/step - loss: 0.0042 - accuracy: 0.9986 - val_loss: 0.0489 - val_accuracy: 0.9890\n"
     ]
    },
    {
     "data": {
      "image/png": "[encoded data removed]",
      "text/plain": [
       "<Figure size 432x288 with 1 Axes>"
      ]
     },
     "metadata": {
      "needs_background": "light"
     },
     "output_type": "display_data"
    },
    {
     "name": "stdout",
     "output_type": "stream",
     "text": [
      "313/313 [==============================] - 3s 8ms/step - loss: 0.0489 - accuracy: 0.9890\n",
      "Test Accuracy with Adam: 0.9890000224113464\n",
      "------------------------- RMSprop -------------------------\n",
      "Epoch 1/10\n",
      "938/938 [==============================] - 49s 51ms/step - loss: 0.0013 - accuracy: 0.9996 - val_loss: 0.0457 - val_accuracy: 0.9930\n",
      "Epoch 2/10\n",
      "938/938 [==============================] - 59s 63ms/step - loss: 3.2504e-04 - accuracy: 0.9999 - val_loss: 0.0458 - val_accuracy: 0.9935\n",
      "Epoch 3/10\n",
      "938/938 [==============================] - 80s 86ms/step - loss: 5.7912e-05 - accuracy: 1.0000 - val_loss: 0.0472 - val_accuracy: 0.9932\n",
      "Epoch 4/10\n",
      "938/938 [==============================] - 96s 102ms/step - loss: 3.3065e-06 - accuracy: 1.0000 - val_loss: 0.0481 - val_accuracy: 0.9930\n",
      "Epoch 5/10\n",
      "938/938 [==============================] - 76s 81ms/step - loss: 1.6521e-06 - accuracy: 1.0000 - val_loss: 0.0482 - val_accuracy: 0.9933\n",
      "Epoch 6/10\n",
      "938/938 [==============================] - 66s 71ms/step - loss: 1.1891e-06 - accuracy: 1.0000 - val_loss: 0.0486 - val_accuracy: 0.9933\n",
      "Epoch 7/10\n",
      "938/938 [==============================] - 67s 71ms/step - loss: 9.7797e-07 - accuracy: 1.0000 - val_loss: 0.0490 - val_accuracy: 0.9934\n",
      "Epoch 8/10\n",
      "938/938 [==============================] - 64s 68ms/step - loss: 8.4100e-07 - accuracy: 1.0000 - val_loss: 0.0494 - val_accuracy: 0.9934\n",
      "Epoch 9/10\n",
      "938/938 [==============================] - 66s 71ms/step - loss: 7.4955e-07 - accuracy: 1.0000 - val_loss: 0.0497 - val_accuracy: 0.9934\n",
      "Epoch 10/10\n",
      "938/938 [==============================] - 62s 66ms/step - loss: 6.7164e-07 - accuracy: 1.0000 - val_loss: 0.0500 - val_accuracy: 0.9934\n"
     ]
    },
    {
     "data": {
      "image/png": "[encoded data removed]",
      "text/plain": [
       "<Figure size 432x288 with 1 Axes>"
      ]
     },
     "metadata": {
      "needs_background": "light"
     },
     "output_type": "display_data"
    },
    {
     "name": "stdout",
     "output_type": "stream",
     "text": [
      "313/313 [==============================] - 3s 10ms/step - loss: 0.0500 - accuracy: 0.9934\n",
      "Test Accuracy with RMSprop: 0.993399977684021\n"
     ]
    }
   ],
   "source": [
    "# Train and evaluate with different optimizers\n",
    "train_and_evaluate('SGD', tf.keras.optimizers.SGD(), model)\n",
    "train_and_evaluate('Adam', tf.keras.optimizers.Adam(), model)\n",
    "train_and_evaluate('RMSprop', tf.keras.optimizers.RMSprop(), model)"
   ]
  },
  {
   "cell_type": "markdown",
   "metadata": {},
   "source": [
    "### 9. Discuss the considerations and tradeoffs when choosing the appropriate optimizer for a given neural network architecture and task. onside factors such as convergence speed, stability, and generalization performance."
   ]
  },
  {
   "cell_type": "markdown",
   "metadata": {},
   "source": [
    "- Convergence Speed: Adam and RMSprop often converge faster due to adaptive learning rates.\n",
    "- Stability: SD may be more stable but can get stuck in local minima.\n",
    "- Generalization: Choice of optimizer can impact generalization performance. Experimentation is key."
   ]
  },
  {
   "cell_type": "markdown",
   "metadata": {},
   "source": [
    "***"
   ]
  }
 ],
 "metadata": {
  "kernelspec": {
   "display_name": "Python 3 (ipykernel)",
   "language": "python",
   "name": "python3"
  },
  "language_info": {
   "codemirror_mode": {
    "name": "ipython",
    "version": 3
   },
   "file_extension": ".py",
   "mimetype": "text/x-python",
   "name": "python",
   "nbconvert_exporter": "python",
   "pygments_lexer": "ipython3",
   "version": "3.9.5"
  }
 },
 "nbformat": 4,
 "nbformat_minor": 2
}
