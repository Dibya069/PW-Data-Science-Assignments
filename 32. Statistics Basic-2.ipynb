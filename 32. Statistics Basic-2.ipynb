{
 "cells": [
  {
   "cell_type": "markdown",
   "id": "36cbcf31",
   "metadata": {},
   "source": [
    "## Q1. What are the three measures of central tendency?\n"
   ]
  },
  {
   "cell_type": "markdown",
   "id": "c6873a15",
   "metadata": {},
   "source": [
    "- The three measures of central tendency are the mean, median, and mode."
   ]
  },
  {
   "cell_type": "markdown",
   "id": "6075f875",
   "metadata": {},
   "source": [
    "***"
   ]
  },
  {
   "cell_type": "markdown",
   "id": "3e50f19d",
   "metadata": {},
   "source": [
    "## Q2. What is the difference between the mean, median, and mode? How are they used to measure the central tendency of a dataset?\n"
   ]
  },
  {
   "cell_type": "markdown",
   "id": "399c1662",
   "metadata": {},
   "source": [
    "The mean is the average value of a dataset and is calculated by summing all the values and dividing by the number of values. The median is the middle value when the dataset is ordered from least to greatest. The mode is the value(s) that appear(s) most frequently in the dataset."
   ]
  },
  {
   "cell_type": "markdown",
   "id": "45ebf484",
   "metadata": {},
   "source": [
    "- Mean: It gives the overall average value and is sensitive to extreme values. It is commonly used when the data is normally distributed and does not have significant outliers.\n",
    "- Median: It represents the middle value, making it useful when the data has extreme values or is skewed. It is less affected by outliers compared to the mean.\n",
    "- Mode: It identifies the most frequent value(s) in the dataset. It is useful for categorical or discrete data and can provide insight into the dominant category or value."
   ]
  },
  {
   "cell_type": "markdown",
   "id": "db402d9f",
   "metadata": {},
   "source": [
    "***"
   ]
  },
  {
   "cell_type": "markdown",
   "id": "7938b931",
   "metadata": {},
   "source": [
    "## Q3. Measure the three measures of central tendency for the given height data:\n",
    "[178,177,176,177,178.2,178,175,179,180,175,178.9,176.2,177,172.5,178,176.5]\n"
   ]
  },
  {
   "cell_type": "code",
   "execution_count": 198,
   "id": "1610b4e6",
   "metadata": {},
   "outputs": [
    {
     "name": "stdout",
     "output_type": "stream",
     "text": [
      "mean:  177.01875\n",
      "median:  177.0\n",
      "mode:  ModeResult(mode=array([177.]), count=array([3]))\n"
     ]
    },
    {
     "name": "stderr",
     "output_type": "stream",
     "text": [
      "C:\\Users\\mohan\\AppData\\Local\\Temp\\ipykernel_14764\\351113285.py:7: FutureWarning:\n",
      "\n",
      "Unlike other reduction functions (e.g. `skew`, `kurtosis`), the default behavior of `mode` typically preserves the axis it acts along. In SciPy 1.11.0, this behavior will change: the default value of `keepdims` will become False, the `axis` over which the statistic is taken will be eliminated, and the value None will no longer be accepted. Set `keepdims` to True or False to avoid this warning.\n",
      "\n"
     ]
    }
   ],
   "source": [
    "import numpy as np\n",
    "from scipy import stats\n",
    "n = [178,177,176,177,178.2,178,175,179,180,175,178.9,176.2,177,172.5,178,176.5]\n",
    "\n",
    "print(\"mean: \", np.mean(n))\n",
    "print(\"median: \", np.median(n))\n",
    "print(\"mode: \", stats.mode(n))"
   ]
  },
  {
   "cell_type": "markdown",
   "id": "56c1981f",
   "metadata": {},
   "source": [
    "***"
   ]
  },
  {
   "cell_type": "markdown",
   "id": "4bf1bb66",
   "metadata": {},
   "source": [
    "## Q4. Find the standard deviation for the given data:\n",
    "[178,177,176,177,178.2,178,175,179,180,175,178.9,176.2,177,172.5,178,176.5]\n"
   ]
  },
  {
   "cell_type": "code",
   "execution_count": 199,
   "id": "eb1c757a",
   "metadata": {},
   "outputs": [
    {
     "name": "stdout",
     "output_type": "stream",
     "text": [
      "1.8472389305844188\n"
     ]
    }
   ],
   "source": [
    "import statistics\n",
    "\n",
    "data = [178, 177, 176, 177, 178.2, 178, 175, 179, 180, 175, 178.9, 176.2, 177, 172.5, 178, 176.5]\n",
    "\n",
    "standard_deviation = statistics.stdev(data)\n",
    "print(standard_deviation)"
   ]
  },
  {
   "cell_type": "markdown",
   "id": "1217b3af",
   "metadata": {},
   "source": [
    "***"
   ]
  },
  {
   "cell_type": "markdown",
   "id": "619ab90f",
   "metadata": {},
   "source": [
    "## Q5. How are measures of dispersion such as range, variance, and standard deviation used to describe the spread of a dataset? Provide an example.\n"
   ]
  },
  {
   "cell_type": "markdown",
   "id": "03a39899",
   "metadata": {},
   "source": [
    "- Range: It is the difference between the maximum and minimum values in a dataset. It provides a simple measure of the total spread but is sensitive to extreme values.\n",
    "- Variance: It measures the average squared deviation of each value from the mean. It quantifies the dispersion around the mean and gives more weight to values that deviate further from the mean.\n",
    "- Standard Deviation: It is the square root of the variance and provides a measure of the average deviation from the mean. It is widely used due to its compatibility with the original data's unit of measurement."
   ]
  },
  {
   "cell_type": "markdown",
   "id": "976249af",
   "metadata": {},
   "source": [
    "For example, consider two datasets:\n",
    "```\n",
    "Dataset A: [10, 15, 20, 25, 30]\n",
    "Dataset B: [5, 15, 20, 25, 35]\n",
    "```\n",
    "Both datasets have the same mean (20) and median (20), but their measures of dispersion differ:\n",
    "\n",
    "Range: Dataset A has a range of 20 (30 - 10), while Dataset B has a range of 30 (35 - 5), indicating greater spread in Dataset B.\n",
    "Variance and Standard Deviation: The variance and standard deviation of Dataset A are smaller compared to Dataset B, indicating that Dataset A has less variability around the mean."
   ]
  },
  {
   "cell_type": "markdown",
   "id": "92821e91",
   "metadata": {},
   "source": [
    "***"
   ]
  },
  {
   "cell_type": "markdown",
   "id": "d4642b26",
   "metadata": {},
   "source": [
    "## Q6. What is a Venn diagram?\n"
   ]
  },
  {
   "cell_type": "markdown",
   "id": "2f36b768",
   "metadata": {},
   "source": [
    "- A Venn diagram is a visual representation of the relationships between different sets or groups. It consists of overlapping circles or shapes, where each circle represents a set and the overlapping regions show the elements that are common to multiple sets."
   ]
  },
  {
   "cell_type": "markdown",
   "id": "0a9ddc81",
   "metadata": {},
   "source": [
    "***"
   ]
  },
  {
   "cell_type": "markdown",
   "id": "ca0b9175",
   "metadata": {},
   "source": [
    "## Q7. For the two given sets A = (2,3,4,5,6,7) & B = (0,2,6,8,10). Find:\n",
    "```\n",
    "(i) A B\n",
    "(ii) A ⋃ B\n",
    "```\n"
   ]
  },
  {
   "cell_type": "markdown",
   "id": "3be367ea",
   "metadata": {},
   "source": [
    "- (i) A ∩ B (Intersection): {2, 6}\n",
    "- (ii) A ⋃ B (Union): {0, 2, 3, 4, 5, 6, 7, 8, 10}"
   ]
  },
  {
   "cell_type": "markdown",
   "id": "2d802d38",
   "metadata": {},
   "source": [
    "***"
   ]
  },
  {
   "cell_type": "markdown",
   "id": "f32331a1",
   "metadata": {},
   "source": [
    "## Q8. What do you understand about skewness in data?\n"
   ]
  },
  {
   "cell_type": "markdown",
   "id": "d8ad68aa",
   "metadata": {},
   "source": [
    "- Skewness in data refers to the measure of asymmetry in its distribution. It indicates the degree to which the data deviates from a symmetric distribution. "
   ]
  },
  {
   "cell_type": "markdown",
   "id": "3485f457",
   "metadata": {},
   "source": [
    "***"
   ]
  },
  {
   "cell_type": "markdown",
   "id": "66146e81",
   "metadata": {},
   "source": [
    "## Q9. If a data is right skewed then what will be the position of median with respect to mean?\n"
   ]
  },
  {
   "cell_type": "markdown",
   "id": "d246f0fd",
   "metadata": {},
   "source": [
    "-  If a data is right-skewed, the median will be lower than the mean. The mean is influenced by the presence of extreme values in the right tail, pulling it towards higher values."
   ]
  },
  {
   "cell_type": "markdown",
   "id": "2baacb96",
   "metadata": {},
   "source": [
    "***"
   ]
  },
  {
   "cell_type": "markdown",
   "id": "9322fe39",
   "metadata": {},
   "source": [
    "## Q10. Explain the difference between covariance and correlation. How are these measures used in statistical analysis?\n"
   ]
  },
  {
   "cell_type": "markdown",
   "id": "ccaf5018",
   "metadata": {},
   "source": [
    "- Covariance: It measures the extent to which two variables vary together. It is affected by the scale of the variables and can be positive (direct relationship), negative (inverse relationship), or zero (no linear relationship). However, covariance does not provide a standardized measure, making it challenging to compare across different datasets.\n",
    "- Correlation: It measures the strength and direction of the linear relationship between two variables. Correlation is a standardized measure that ranges from -1 to 1, where -1 indicates a perfect negative linear relationship, 1 indicates a perfect positive linear relationship, and 0 indicates no linear relationship. Correlation is more widely used as it allows for better comparison between different datasets."
   ]
  },
  {
   "cell_type": "markdown",
   "id": "ef35725c",
   "metadata": {},
   "source": [
    "- These measures are used in statistical analysis to assess the relationship between variables, identify patterns, and make predictions."
   ]
  },
  {
   "cell_type": "markdown",
   "id": "4d30fc22",
   "metadata": {},
   "source": [
    "***"
   ]
  },
  {
   "cell_type": "markdown",
   "id": "4453aaa8",
   "metadata": {},
   "source": [
    "## Q11. What is the formula for calculating the sample mean? Provide an example calculation for a dataset.\n"
   ]
  },
  {
   "cell_type": "markdown",
   "id": "73d3e9d4",
   "metadata": {},
   "source": [
    "mean **=** sum of all values **/** number of values\n"
   ]
  },
  {
   "cell_type": "code",
   "execution_count": 202,
   "id": "a4171cc0",
   "metadata": {},
   "outputs": [
    {
     "data": {
      "text/plain": [
       "20.0"
      ]
     },
     "execution_count": 202,
     "metadata": {},
     "output_type": "execute_result"
    }
   ],
   "source": [
    "a = [10, 15, 20, 25, 30]\n",
    "mean = sum(a) / len(a)\n",
    "mean"
   ]
  },
  {
   "cell_type": "markdown",
   "id": "827af044",
   "metadata": {},
   "source": [
    "***"
   ]
  },
  {
   "cell_type": "markdown",
   "id": "5a63a49e",
   "metadata": {},
   "source": [
    "## Q12. For a normal distribution data what is the relationship between its measure of central tendency?\n"
   ]
  },
  {
   "cell_type": "markdown",
   "id": "156e74f3",
   "metadata": {},
   "source": [
    "For a normal distribution, the measures of central tendency (mean, median, and mode) are all equal. In a symmetric and bell-shaped normal distribution, the mean is located at the center of the distribution, which is the same as the median. The mode, which represents the most frequently occurring value, is also equal to the mean and median in a perfectly normal distribution."
   ]
  },
  {
   "cell_type": "markdown",
   "id": "8da7dfda",
   "metadata": {},
   "source": [
    "***"
   ]
  },
  {
   "cell_type": "markdown",
   "id": "5e5fb6b2",
   "metadata": {},
   "source": [
    "## Q13. How is covariance different from correlation?\n"
   ]
  },
  {
   "cell_type": "markdown",
   "id": "49dc2058",
   "metadata": {},
   "source": [
    "ovariance measures the extent and direction of the linear relationship between two variables. It indicates how changes in one variable are associated with changes in another variable. However, covariance does not provide information about the strength or the degree of the relationship. Correlation, on the other hand, is a standardized measure of the linear relationship between two variables. It ranges from -1 to 1, indicating the strength and direction of the relationship. "
   ]
  },
  {
   "cell_type": "markdown",
   "id": "ce45093f",
   "metadata": {},
   "source": [
    "***"
   ]
  },
  {
   "cell_type": "markdown",
   "id": "3bcb64fc",
   "metadata": {},
   "source": [
    "## Q14. How do outliers affect measures of central tendency and dispersion? Provide an example."
   ]
  },
  {
   "cell_type": "markdown",
   "id": "fa1118fb",
   "metadata": {},
   "source": [
    "Outliers can have a significant impact on measures of central tendency and dispersion:\n",
    "1. Measures of Central Tendency:\n",
    "\n",
    "- Mean: The mean is sensitive to outliers because it takes into account the value of each data point. Outliers that have extreme values can greatly influence the mean. If there are outliers with values much higher or lower than the other data points, the mean can be skewed towards those outliers. This can result in a mean that does not represent the typical or average value of the dataset.\n",
    "```\n",
    "Example:\n",
    "Consider the dataset: [10, 15, 20, 25, 1000]\n",
    "Without the outlier (1000), the mean would be 17.5. However, with the outlier included, the mean becomes 214, which is significantly higher and no longer representative of the majority of the data.\n",
    "```\n",
    "\n",
    "- Median: The median is less affected by outliers compared to the mean. Since the median represents the middle value, it is not influenced by extreme values. Even if there are outliers, the median will remain relatively unaffected and provide a better representation of the central value.\n",
    "```\n",
    "Example:\n",
    "Consider the dataset: [10, 15, 20, 25, 1000]\n",
    "The median of this dataset is 20, which is close to the typical values. The outlier (1000) has minimal impact on the median.\n",
    "```\n",
    "2. Measures of Dispersion:\n",
    "\n",
    "- Range: The range, which is the difference between the maximum and minimum values, is heavily influenced by outliers. Outliers with extreme values can cause the range to increase significantly, resulting in a larger spread of data. The presence of outliers can distort the interpretation of the range as a measure of spread.\n",
    "\n",
    "- Variance and Standard Deviation: Both variance and standard deviation are influenced by outliers. Outliers that deviate significantly from the mean can increase the variance and standard deviation. They introduce additional variability to the dataset and contribute to larger deviations from the mean.\n",
    "```\n",
    "Example:\n",
    "Consider the dataset: [10, 15, 20, 25, 1000]\n",
    "The standard deviation for this dataset is approximately 432.7, which is primarily driven by the outlier (1000). The presence of the outlier leads to a higher measure of dispersion compared to a dataset without the outlier.\n",
    "```"
   ]
  },
  {
   "cell_type": "code",
   "execution_count": null,
   "id": "d3cf153d",
   "metadata": {},
   "outputs": [],
   "source": []
  }
 ],
 "metadata": {
  "kernelspec": {
   "display_name": "Python 3 (ipykernel)",
   "language": "python",
   "name": "python3"
  },
  "language_info": {
   "codemirror_mode": {
    "name": "ipython",
    "version": 3
   },
   "file_extension": ".py",
   "mimetype": "text/x-python",
   "name": "python",
   "nbconvert_exporter": "python",
   "pygments_lexer": "ipython3",
   "version": "3.9.5"
  }
 },
 "nbformat": 4,
 "nbformat_minor": 5
}
