{
 "cells": [
  {
   "cell_type": "markdown",
   "id": "ad0b5704",
   "metadata": {},
   "source": [
    "## Q1: What is the difference between a t-test and a z-test? Provide an example scenario where you would use each type of test.\n"
   ]
  },
  {
   "cell_type": "markdown",
   "id": "8cd16284",
   "metadata": {},
   "source": [
    "- A t-test is used when the population standard deviation is unknown and must be estimated from the sample data. It is typically employed when working with small sample sizes. For example, if you have a sample of 20 students and want to determine if there is a significant difference in the mean scores of two groups (e.g., experimental group and control group), you would use a t-test.\n",
    "\n",
    "- On the other hand, a z-test is used when the population standard deviation is known or when the sample size is large (usually greater than 30). It assumes a normal distribution of data. For instance, if you have a large dataset of 500 observations and want to test if the mean height of a population differs significantly from a known average, you would use a z-test."
   ]
  },
  {
   "cell_type": "markdown",
   "id": "93a47017",
   "metadata": {},
   "source": [
    "***"
   ]
  },
  {
   "cell_type": "markdown",
   "id": "84952927",
   "metadata": {},
   "source": [
    "## Q2: Differentiate between one-tailed and two-tailed tests.\n"
   ]
  },
  {
   "cell_type": "markdown",
   "id": "2a50e03e",
   "metadata": {},
   "source": [
    "- In a one-tailed test, the hypothesis specifies the direction of the effect. It tests if a parameter is either significantly greater or significantly smaller than the hypothesized value. For example, if you hypothesize that a new drug will increase reaction time, a one-tailed test would determine if the reaction time is significantly greater after administering the drug.\n",
    "\n",
    "- In contrast, a two-tailed test does not specify the direction of the effect and tests if a parameter is significantly different from the hypothesized value. Using the same example, a two-tailed test would determine if the reaction time is significantly different, either greater or smaller, after administering the drug."
   ]
  },
  {
   "cell_type": "markdown",
   "id": "75c29a5b",
   "metadata": {},
   "source": [
    "***"
   ]
  },
  {
   "cell_type": "markdown",
   "id": "91c4158d",
   "metadata": {},
   "source": [
    "## Q3: Explain the concept of Type 1 and Type 2 errors in hypothesis testing. Provide an example scenario for each type of error.\n"
   ]
  },
  {
   "cell_type": "markdown",
   "id": "4f9ea0d9",
   "metadata": {},
   "source": [
    "- Type 1 error, also known as a false positive, occurs when you reject a null hypothesis that is actually true. In other words, it's the incorrect rejection of a true null hypothesis. For example, if a medical test indicates that a patient has a disease when they are actually healthy, it would be a Type 1 error.\n",
    "\n",
    "- Type 2 error, also known as a false negative, occurs when you fail to reject a null hypothesis that is actually false. It's the incorrect acceptance of a false null hypothesis. For example, if a medical test fails to identify a disease when the patient is actually sick, it would be a Type 2 error."
   ]
  },
  {
   "cell_type": "markdown",
   "id": "471e1afd",
   "metadata": {},
   "source": [
    "***"
   ]
  },
  {
   "cell_type": "markdown",
   "id": "19d99d08",
   "metadata": {},
   "source": [
    "## Q4: Explain Bayes's theorem with an example.\n"
   ]
  },
  {
   "cell_type": "markdown",
   "id": "3ebed668",
   "metadata": {},
   "source": [
    "- Bayes's theorem describes how to update the probability of an event based on prior knowledge and new evidence. \n",
    "```\n",
    "It is defined as:\n",
    "P(A|B) = (P(B|A) * P(A)) / P(B)\n",
    "```\n",
    " - For example, let's consider a scenario where you want to calculate the probability of a person having a certain medical condition given a positive test result. Suppose the prior probability of a person having the condition is 0.05, and the probability of a positive test result given that the person has the condition is 0.95. If the overall probability of a positive test result is 0.10, you can use Bayes's theorem to calculate the updated probability of having the condition given the positive test result."
   ]
  },
  {
   "cell_type": "markdown",
   "id": "affd50bb",
   "metadata": {},
   "source": [
    "***"
   ]
  },
  {
   "cell_type": "markdown",
   "id": "069876bc",
   "metadata": {},
   "source": [
    "## Q5: What is a confidence interval? How to calculate the confidence interval, explain with an example.\n"
   ]
  },
  {
   "cell_type": "markdown",
   "id": "77b15b04",
   "metadata": {},
   "source": [
    "- A confidence interval is a range of values that is likely to contain the true population parameter with a specified level of confidence.\n",
    "```\n",
    "Confidence Interval = sample mean ± (critical value * standard error)\n",
    "```\n",
    "- For example, suppose you have a sample of 100 students, and their average test score is 75 with a standard deviation of 10. You want to calculate a 95% confidence interval for the population mean test score. You would use the appropriate critical value (e.g., from the t-distribution for small sample sizes or the z-distribution for large sample sizes) and the formula to calculate the confidence interval."
   ]
  },
  {
   "cell_type": "markdown",
   "id": "2f1d64e5",
   "metadata": {},
   "source": [
    "***"
   ]
  },
  {
   "cell_type": "markdown",
   "id": "367e3ce9",
   "metadata": {},
   "source": [
    "## Q6. Use Bayes' Theorem to calculate the probability of an event occurring given prior knowledge of the event's probability and new evidence. Provide a sample problem and solution.\n"
   ]
  },
  {
   "cell_type": "markdown",
   "id": "786a652d",
   "metadata": {},
   "source": [
    "- Suppose a certain medical test is 95% accurate in detecting a disease when it is present. However, the test also has a false positive rate of 3%, meaning that it incorrectly identifies 3% of healthy individuals as having the disease. If the prevalence of the disease in the population is 2%, what is the probability that a person who tests positive actually has the disease?\n",
    "\n",
    "```\n",
    "Let's define:\n",
    "A = Having the disease\n",
    "B = Testing positive\n",
    "\n",
    "Given:\n",
    "P(A) = 0.02 (prevalence of the disease)\n",
    "P(B|A) = 0.95 (accuracy of the test)\n",
    "P(B|¬A) = 0.03 (false positive rate)\n",
    "```\n",
    "\n",
    "```\n",
    "We need to calculate P(A|B), the probability of having the disease given a positive test result, using Bayes's theorem:\n",
    "\n",
    "P(A|B) = (P(B|A) * P(A)) / [P(B|A) * P(A) + P(B|¬A) * P(¬A)]\n",
    "\n",
    "P(¬A) = 1 - P(A) = 1 - 0.02 = 0.98\n",
    "\n",
    "P(A|B) = (0.95 * 0.02) / [(0.95 * 0.02) + (0.03 * 0.98)]\n",
    "\n",
    "By performing the calculations, you can find the value of P(A|B), which represents the probability of having the disease given a positive test result.\n",
    "```"
   ]
  },
  {
   "cell_type": "markdown",
   "id": "e109d018",
   "metadata": {},
   "source": [
    "***"
   ]
  },
  {
   "cell_type": "markdown",
   "id": "714517bf",
   "metadata": {},
   "source": [
    "## Q7. Calculate the 95% confidence interval for a sample of data with a mean of 50 and a standard deviation of 5. Interpret the results.\n"
   ]
  },
  {
   "cell_type": "markdown",
   "id": "b0761c75",
   "metadata": {},
   "source": [
    "- To calculate the 95% confidence interval for a sample of data with a mean of 50 and a standard deviation of 5, you need the sample size and the appropriate critical value.\n",
    "- Assuming a large sample size, you can use the z-distribution and the formula for the confidence interval:\n",
    "    ```\n",
    "    Confidence Interval = sample mean ± (critical value * (standard deviation / sqrt(sample size)))\n",
    "    ```\n",
    "    \n",
    "For a 95% confidence level, the critical value is approximately 1.96 (based on the standard normal distribution). Plugging in the values, the confidence interval would be:\n",
    "```\n",
    "Confidence Interval = 50 ± (1.96 * (5 / sqrt(sample size)))\n",
    "```\n",
    "Interpreting the results, you can say that you are 95% confident that the true population mean falls within the calculated interval."
   ]
  },
  {
   "cell_type": "markdown",
   "id": "73428c99",
   "metadata": {},
   "source": [
    "***"
   ]
  },
  {
   "cell_type": "markdown",
   "id": "31f749b8",
   "metadata": {},
   "source": [
    "## Q8. What is the margin of error in a confidence interval? How does sample size affect the margin of error? Provide an example of a scenario where a larger sample size would result in a smaller margin of error.\n"
   ]
  },
  {
   "cell_type": "markdown",
   "id": "a66d2aa1",
   "metadata": {},
   "source": [
    "- The margin of error in a confidence interval represents the maximum expected difference between the sample estimate and the true population parameter. It quantifies the uncertainty associated with the estimate.\n",
    "- The margin of error is influenced by the sample size. As the sample size increases, the margin of error decreases because the estimate becomes more precise.\n",
    "- For example, let's consider a survey where you want to estimate the proportion of people who support a certain policy with a 95% confidence level. If you have a small sample size, say 100 participants, the margin of error would be larger compared to a survey with a larger sample size, such as 1000 participants. The larger sample size allows for a more accurate estimation and, consequently, a smaller margin of error."
   ]
  },
  {
   "cell_type": "markdown",
   "id": "9d743998",
   "metadata": {},
   "source": [
    "***"
   ]
  },
  {
   "cell_type": "markdown",
   "id": "9921f268",
   "metadata": {},
   "source": [
    "## Q9. Calculate the z-score for a data point with a value of 75, a population mean of 70, and a population standard deviation of 5. Interpret the results.\n"
   ]
  },
  {
   "cell_type": "markdown",
   "id": "cc2de004",
   "metadata": {},
   "source": [
    "```\n",
    "z = (data point - population mean) / population standard deviation\n",
    "\n",
    "In this case:\n",
    "Data point = 75\n",
    "Population mean = 70\n",
    "Population standard deviation = 5\n",
    "\n",
    "Plugging in the values:\n",
    "z = (75 - 70) / 5\n",
    "```\n",
    "\n",
    "- The resulting z-score indicates the number of standard deviations the data point is away from the population mean. A positive z-score implies that the data point is above the mean, while a negative z-score implies that it is below the mean."
   ]
  },
  {
   "cell_type": "markdown",
   "id": "1461b026",
   "metadata": {},
   "source": [
    "***"
   ]
  },
  {
   "cell_type": "markdown",
   "id": "5f42b1fe",
   "metadata": {},
   "source": [
    "## Q10. In a study of the effectiveness of a new weight loss drug, a sample of 50 participants lost an average of 6 pounds with a standard deviation of 2.5 pounds. Conduct a hypothesis test to determine if the drug is significantly effective at a 95% confidence level using a t-test.\n"
   ]
  },
  {
   "cell_type": "markdown",
   "id": "ac41f3e2",
   "metadata": {},
   "source": [
    "To conduct a hypothesis test to determine if the weight loss drug is significantly effective at a 95% confidence level, you would perform the following steps using a t-test:\n",
    "        \n",
    "- Step 1: State the null hypothesis (H0) and the alternative hypothesis (Ha).\n",
    " - H0: The mean weight loss with the drug is not significantly different from zero.\n",
    " - Ha: The mean weight loss with the drug is significantly different from zero.\n",
    "    \n",
    "- Step 2: Set the significance level (α) to 0.05.\n",
    "\n",
    "- Step 3: Calculate the test statistic. In this case, the test statistic is the t-value, given by:\n",
    " - t = (sample mean - hypothesized mean) / (sample standard deviation / sqrt(sample size))\n",
    "\n",
    "- Step 4: Determine the degrees of freedom (df) for the t-distribution. In this case, df = sample size - 1.\n",
    "\n",
    "- Step 5: Find the critical t-value(s) from the t-distribution table or use statistical software. For a two-tailed test at a 95% confidence level and df = sample size - 1, the critical t-value would be obtained.\n",
    "\n",
    "- Step 6: Compare the calculated t-value with the critical t-value(s) to make a decision. If the calculated t-value falls within the rejection region (i.e., beyond the critical t-value(s)), you reject the null hypothesis. Otherwise, you fail to reject the null hypothesis."
   ]
  },
  {
   "cell_type": "markdown",
   "id": "86e8dde9",
   "metadata": {},
   "source": [
    "***"
   ]
  },
  {
   "cell_type": "markdown",
   "id": "044ecf59",
   "metadata": {},
   "source": [
    "## Q11. In a survey of 500 people, 65% reported being satisfied with their current job. Calculate the 95% confidence interval for the true proportion of people who are satisfied with their job.\n"
   ]
  },
  {
   "cell_type": "markdown",
   "id": "d2ec6990",
   "metadata": {},
   "source": [
    "```\n",
    "Confidence Interval = sample proportion ± (critical value * sqrt((sample proportion * (1 - sample proportion)) / sample size))\n",
    "\n",
    "In this case:\n",
    "Sample size = 500\n",
    "Sample proportion = 0.65\n",
    "```\n",
    "\n",
    "- The critical value can be obtained from the standard normal distribution for a 95% confidence level. Plugging in the values, the confidence interval would be:\n",
    "``\n",
    "Confidence Interval = 0.65 ± (critical value * sqrt((0.65 * (1 - 0.65)) / 500))\n",
    "``\n",
    "- Interpreting the results, you can say that you are 95% confident that the true proportion of people satisfied with their job falls within the calculated interval."
   ]
  },
  {
   "cell_type": "markdown",
   "id": "b65b169f",
   "metadata": {},
   "source": [
    "***"
   ]
  },
  {
   "cell_type": "markdown",
   "id": "01bcef01",
   "metadata": {},
   "source": [
    "## Q12. A researcher is testing the effectiveness of two different teaching methods on student performance. Sample A has a mean score of 85 with a standard deviation of 6, while sample B has a mean score of 82 with a standard deviation of 5. Conduct a hypothesis test to determine if the two teaching methods have a significant difference in student performance using a t-test with a significance level of 0.01."
   ]
  },
  {
   "cell_type": "markdown",
   "id": "0931bf5b",
   "metadata": {},
   "source": [
    "To conduct a hypothesis test to determine if the two teaching methods have a significant difference in student performance, you would perform the following steps using a t-test with a significance level of 0.01:\n",
    "\n",
    "- Step 1: State the null hypothesis (H0) and the alternative hypothesis (Ha).\n",
    "\n",
    " - H0: The two teaching methods have no significant difference in student performance.\n",
    " - Ha: The two teaching methods have a significant difference in student performance.\n",
    "- Step 2: Set the significance level (α) to 0.01.\n",
    "\n",
    "- Step 3: Calculate the test statistic. In this case, the test statistic is the t-value, given by:\n",
    " - t = (sample mean A - sample mean B) / sqrt((sample variance A / sample size A) + (sample variance B / sample size B))\n",
    "\n",
    "- Step 4: Determine the degrees of freedom (df) for the t-distribution. In this case, df = (sample size A + sample size B) - 2.\n",
    "\n",
    "- Step 5: Find the critical t-value from the t-distribution table or use statistical software. For a two-tailed test at a 99% confidence level and df = (sample size A + sample size B) - 2, the critical t-value would be obtained.\n",
    "\n",
    "- Step 6: Compare the calculated t-value with the critical t-value to make a decision. If the calculated t-value falls within the rejection region (i.e., beyond the critical t-value), you reject the null hypothesis. Otherwise, you fail to reject the null hypothesis."
   ]
  },
  {
   "cell_type": "markdown",
   "id": "541efa5b",
   "metadata": {},
   "source": [
    "***"
   ]
  },
  {
   "cell_type": "markdown",
   "id": "14d3bf73",
   "metadata": {},
   "source": [
    "## Q13. A population has a mean of 60 and a standard deviation of 8. A sample of 50 observations has a mean of 65. Calculate the 90% confidence interval for the true population mean.\n"
   ]
  },
  {
   "cell_type": "markdown",
   "id": "125718ed",
   "metadata": {},
   "source": [
    "``\n",
    "Confidence Interval = sample mean ± (critical value * (sample standard deviation / sqrt(sample size)))\n",
    "``\n",
    "```\n",
    "In this case:\n",
    "Sample mean = 65\n",
    "Sample size = 50\n",
    "Population mean = 60\n",
    "```\n",
    "- The critical value can be obtained from the t-distribution table or using statistical software for a 90% confidence level and sample size - 1 degrees of freedom. Plugging in the values, the confidence interval would be:\n",
    "``\n",
    "Confidence Interval = 65 ± (critical value * (8 / sqrt(50)))\n",
    "``\n",
    "- Interpreting the results, you can say that you are 90% confident that the true population mean falls within the calculated interval."
   ]
  },
  {
   "cell_type": "markdown",
   "id": "cdc921bc",
   "metadata": {},
   "source": [
    "***"
   ]
  },
  {
   "cell_type": "markdown",
   "id": "6d59b89c",
   "metadata": {},
   "source": [
    "## Q14. In a study of the effects of caffeine on reaction time, a sample of 30 participants had an average reaction time of 0.25 seconds with a standard deviation of 0.05 seconds. Conduct a hypothesis test to determine if the caffeine has a significant effect on reaction time at a 90% confidence level using a t-test."
   ]
  },
  {
   "cell_type": "markdown",
   "id": "d047b6b9",
   "metadata": {},
   "source": [
    "- Step 1: State the null hypothesis (H0) and the alternative hypothesis (Ha).\n",
    "\n",
    " - H0: Caffeine has no significant effect on reaction time. (μ = μ0)\n",
    " - Ha: Caffeine has a significant effect on reaction time. (μ ≠ μ0) (Two-tailed test)\n",
    "- Step 2: Set the significance level (α) to 0.10 (90% confidence level).\n",
    "\n",
    "- Step 3: Calculate the test statistic. In this case, the test statistic is the t-value, given by:\n",
    "``\n",
    "t = (sample mean - hypothesized mean) / (sample standard deviation / sqrt(sample size))\n",
    "``\n",
    "```\n",
    "Given:\n",
    "Sample mean (x̄) = 0.25 seconds\n",
    "Hypothesized mean (μ0) = 0 (assuming no effect of caffeine)\n",
    "Sample standard deviation (s) = 0.05 seconds\n",
    "Sample size (n) = 30\n",
    "```\n",
    "```\n",
    "t = (0.25 - 0) / (0.05 / sqrt(30))\n",
    "t = 0.25 / (0.05 / 5.477)\n",
    "t = 0.25 / 0.0091447\n",
    "t ≈ 27.34\n",
    "```\n",
    "- Step 4: Determine the degrees of freedom (df) for the t-distribution. In this case, df = sample size - 1 = 30 - 1 = 29.\n",
    "\n",
    "- Step 5: Find the critical t-value from the t-distribution table or use statistical software. For a two-tailed test at a 90% confidence level and df = 29, the critical t-value would be obtained. In this case, the critical t-value would be approximately ±1.6991.\n",
    "\n",
    "- Step 6: Compare the calculated t-value with the critical t-value to make a decision. If the calculated t-value falls outside the rejection region (i.e., beyond the critical t-value), you reject the null hypothesis. Otherwise, you fail to reject the null hypothesis."
   ]
  },
  {
   "cell_type": "markdown",
   "id": "359c0a0c",
   "metadata": {},
   "source": [
    "- Since the calculated t-value (27.34) is larger than the critical t-value (±1.6991) for a two-tailed test at a 90% confidence level, we reject the null hypothesis. This suggests that caffeine has a significant effect on reaction time based on the given data."
   ]
  }
 ],
 "metadata": {
  "kernelspec": {
   "display_name": "Python 3 (ipykernel)",
   "language": "python",
   "name": "python3"
  },
  "language_info": {
   "codemirror_mode": {
    "name": "ipython",
    "version": 3
   },
   "file_extension": ".py",
   "mimetype": "text/x-python",
   "name": "python",
   "nbconvert_exporter": "python",
   "pygments_lexer": "ipython3",
   "version": "3.9.5"
  }
 },
 "nbformat": 4,
 "nbformat_minor": 5
}
