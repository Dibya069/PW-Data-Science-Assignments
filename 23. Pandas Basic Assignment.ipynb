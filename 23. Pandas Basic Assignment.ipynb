{
 "cells": [
  {
   "cell_type": "markdown",
   "id": "2b0bfa45",
   "metadata": {},
   "source": [
    "# Q1. Create a Pandas Series that contains the following data: 4, 8, 15, 16, 23, and 42. Then, print the series.\n"
   ]
  },
  {
   "cell_type": "code",
   "execution_count": 50,
   "id": "5fc1a968",
   "metadata": {},
   "outputs": [],
   "source": [
    "import pandas as pd\n",
    "import numpy as np\n",
    "import seaborn as sns"
   ]
  },
  {
   "cell_type": "code",
   "execution_count": 38,
   "id": "74c23d0d",
   "metadata": {},
   "outputs": [
    {
     "name": "stdout",
     "output_type": "stream",
     "text": [
      "0     4\n",
      "1     8\n",
      "2    15\n",
      "3    16\n",
      "4    23\n",
      "5    42\n",
      "dtype: int64\n"
     ]
    }
   ],
   "source": [
    "d1 = [4, 8, 15, 16, 23, 42]\n",
    "d1 = pd.Series(d1)\n",
    "print(d1)"
   ]
  },
  {
   "cell_type": "code",
   "execution_count": null,
   "id": "9fb13cbc",
   "metadata": {},
   "outputs": [],
   "source": []
  },
  {
   "cell_type": "markdown",
   "id": "8ec51e55",
   "metadata": {},
   "source": [
    "# Q2. Create a variable of list type containing 10 elements in it, and apply pandas.Series function on the variable print it.\n"
   ]
  },
  {
   "cell_type": "code",
   "execution_count": 44,
   "id": "9e2a50bb",
   "metadata": {},
   "outputs": [
    {
     "name": "stdout",
     "output_type": "stream",
     "text": [
      "0    17\n",
      "1    34\n",
      "2    95\n",
      "3    34\n",
      "4    83\n",
      "5    34\n",
      "6    31\n",
      "7    32\n",
      "8    56\n",
      "9    11\n",
      "dtype: int64\n"
     ]
    }
   ],
   "source": [
    "d2 = []\n",
    "\n",
    "for i in range(10):\n",
    "    d2.append(np.random.randint(1, 101))\n",
    "\n",
    "d2 = pd.Series(d2)\n",
    "print(d2)"
   ]
  },
  {
   "cell_type": "code",
   "execution_count": null,
   "id": "884a0532",
   "metadata": {},
   "outputs": [],
   "source": []
  },
  {
   "cell_type": "markdown",
   "id": "22984fb1",
   "metadata": {},
   "source": [
    "# Q3. Create a Pandas DataFrame that contains the following data, Then, print the DataFrame.\n"
   ]
  },
  {
   "cell_type": "code",
   "execution_count": 46,
   "id": "f45479e3",
   "metadata": {},
   "outputs": [
    {
     "name": "stdout",
     "output_type": "stream",
     "text": [
      "     name  age  gender\n",
      "0   Alice   25  female\n",
      "1     Bob   30    male\n",
      "2  Claire   27  female\n"
     ]
    }
   ],
   "source": [
    "d3 = pd.DataFrame({\n",
    "    \"name\": [\"Alice\", \"Bob\", \"Claire\"],\n",
    "    \"age\": [25, 30, 27],\n",
    "    \"gender\": [\"female\", \"male\", \"female\"]\n",
    "})\n",
    "print(d3)"
   ]
  },
  {
   "cell_type": "code",
   "execution_count": null,
   "id": "d28417f1",
   "metadata": {},
   "outputs": [],
   "source": []
  },
  {
   "cell_type": "markdown",
   "id": "82598d77",
   "metadata": {},
   "source": [
    "# Q4. What is ‘DataFrame’ in pandas and how is it different from pandas.series? Explain with an example.\n"
   ]
  },
  {
   "cell_type": "markdown",
   "id": "9c2ec0f5",
   "metadata": {},
   "source": [
    "1 - A DataFrame in Pandas is a two-dimensional table-like data structure, similar to a spreadsheet or a SQL table. It is one of the most commonly used data structures in Pandas and is widely used for data manipulation and analysis.\n",
    "\n",
    "\n",
    "2 - The main difference between a DataFrame and a Series is that a DataFrame can hold multiple columns of data, while a Series can hold only a single column of data."
   ]
  },
  {
   "cell_type": "code",
   "execution_count": 48,
   "id": "155ccc34",
   "metadata": {},
   "outputs": [
    {
     "name": "stdout",
     "output_type": "stream",
     "text": [
      "      name  age country\n",
      "0    Alice   25     USA\n",
      "1      Bob   30  Canada\n",
      "2  Charlie   35      UK\n"
     ]
    }
   ],
   "source": [
    "data = {'name': pd.Series(['Alice', 'Bob', 'Charlie']),\n",
    "        'age': pd.Series([25, 30, 35]),\n",
    "        'country': pd.Series(['USA', 'Canada', 'UK'])}\n",
    "\n",
    "df = pd.DataFrame(data)\n",
    "\n",
    "print(df)\n"
   ]
  },
  {
   "cell_type": "code",
   "execution_count": null,
   "id": "57ab27bd",
   "metadata": {},
   "outputs": [],
   "source": []
  },
  {
   "cell_type": "markdown",
   "id": "293e1b06",
   "metadata": {},
   "source": [
    "# Q5. What are some common functions you can use to manipulate data in a Pandas DataFrame? Can you give an example of when you might use one of these functions?\n"
   ]
  },
  {
   "cell_type": "markdown",
   "id": "ded97ae5",
   "metadata": {},
   "source": [
    "- d1.head()\n",
    "- d1.tail()\n",
    "- d1.describe()\n",
    "- d1.groupby()\n",
    "- d1.sort_values()\n",
    "- d1.sort_index()\n",
    "- d1.drop()\n",
    "- d1.fillna()\n",
    "- d1.apply()\n",
    "- d1.replace()\n"
   ]
  },
  {
   "cell_type": "code",
   "execution_count": 55,
   "id": "21dcec35",
   "metadata": {},
   "outputs": [
    {
     "data": {
      "text/html": [
       "<div>\n",
       "<style scoped>\n",
       "    .dataframe tbody tr th:only-of-type {\n",
       "        vertical-align: middle;\n",
       "    }\n",
       "\n",
       "    .dataframe tbody tr th {\n",
       "        vertical-align: top;\n",
       "    }\n",
       "\n",
       "    .dataframe thead th {\n",
       "        text-align: right;\n",
       "    }\n",
       "</style>\n",
       "<table border=\"1\" class=\"dataframe\">\n",
       "  <thead>\n",
       "    <tr style=\"text-align: right;\">\n",
       "      <th></th>\n",
       "      <th>time</th>\n",
       "      <th>tip</th>\n",
       "    </tr>\n",
       "  </thead>\n",
       "  <tbody>\n",
       "    <tr>\n",
       "      <th>0</th>\n",
       "      <td>Lunch</td>\n",
       "      <td>185.51</td>\n",
       "    </tr>\n",
       "    <tr>\n",
       "      <th>1</th>\n",
       "      <td>Dinner</td>\n",
       "      <td>546.07</td>\n",
       "    </tr>\n",
       "  </tbody>\n",
       "</table>\n",
       "</div>"
      ],
      "text/plain": [
       "     time     tip\n",
       "0   Lunch  185.51\n",
       "1  Dinner  546.07"
      ]
     },
     "execution_count": 55,
     "metadata": {},
     "output_type": "execute_result"
    }
   ],
   "source": [
    "d5 = sns.load_dataset(\"tips\")\n",
    "d5.groupby('time')[\"tip\"].sum().reset_index()"
   ]
  },
  {
   "cell_type": "code",
   "execution_count": null,
   "id": "d48d5544",
   "metadata": {},
   "outputs": [],
   "source": []
  },
  {
   "cell_type": "markdown",
   "id": "98965bc6",
   "metadata": {},
   "source": [
    "# Q6. Which of the following is mutable in nature Series, DataFrame, Panel?\n"
   ]
  },
  {
   "cell_type": "markdown",
   "id": "0dbd39d0",
   "metadata": {},
   "source": [
    "- Both Series and DataFrame are mutable in nature, while Panel is considered deprecated in the latest versions of Pandas."
   ]
  },
  {
   "cell_type": "code",
   "execution_count": null,
   "id": "7eefefc6",
   "metadata": {},
   "outputs": [],
   "source": []
  },
  {
   "cell_type": "markdown",
   "id": "a93c41bd",
   "metadata": {},
   "source": [
    "# Q7. Create a DataFrame using multiple Series. Explain with an example."
   ]
  },
  {
   "cell_type": "code",
   "execution_count": 56,
   "id": "615741f8",
   "metadata": {},
   "outputs": [
    {
     "name": "stdout",
     "output_type": "stream",
     "text": [
      "      name  age country\n",
      "0    Alice   25     USA\n",
      "1      Bob   30  Canada\n",
      "2  Charlie   35      UK\n"
     ]
    }
   ],
   "source": [
    "data = {'name': pd.Series(['Alice', 'Bob', 'Charlie']),\n",
    "        'age': pd.Series([25, 30, 35]),\n",
    "        'country': pd.Series(['USA', 'Canada', 'UK'])}\n",
    "\n",
    "df = pd.DataFrame(data)\n",
    "print(df)"
   ]
  },
  {
   "cell_type": "markdown",
   "id": "257ebc9d",
   "metadata": {},
   "source": [
    "- Here Each value in the dictionary is a Pandas Series object, which will become a column in the DataFrame.\n",
    "\n",
    "- The name column contains a Series of strings representing the names of three people: Alice, Bob, and Charlie. The age column contains a Series of integers representing the ages of the three people. The country column contains a Series of strings representing the countries where the three people are from.\n",
    "\n",
    "- The code then passes the data dictionary to the pd.DataFrame() function, which creates a DataFrame object with the dictionary keys as column names and the corresponding Series objects as column values.\n",
    "\n",
    "- Finally, the print(df) statement is used to display the resulting DataFrame object df to the console"
   ]
  },
  {
   "cell_type": "code",
   "execution_count": null,
   "id": "bb3bc5b4",
   "metadata": {},
   "outputs": [],
   "source": []
  }
 ],
 "metadata": {
  "kernelspec": {
   "display_name": "Python 3 (ipykernel)",
   "language": "python",
   "name": "python3"
  },
  "language_info": {
   "codemirror_mode": {
    "name": "ipython",
    "version": 3
   },
   "file_extension": ".py",
   "mimetype": "text/x-python",
   "name": "python",
   "nbconvert_exporter": "python",
   "pygments_lexer": "ipython3",
   "version": "3.9.5"
  }
 },
 "nbformat": 4,
 "nbformat_minor": 5
}
