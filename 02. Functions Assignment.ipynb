{
 "cells": [
  {
   "cell_type": "markdown",
   "id": "0ac15c98",
   "metadata": {},
   "source": [
    "### Q1. Which keyword is used to create a function? Create a function to return a list of odd numbers in the range of 1 to 25."
   ]
  },
  {
   "cell_type": "markdown",
   "id": "399ef88a",
   "metadata": {},
   "source": [
    "- \"def\" keyword used to create the functions"
   ]
  },
  {
   "cell_type": "code",
   "execution_count": 6,
   "id": "a43027f8",
   "metadata": {},
   "outputs": [
    {
     "name": "stdout",
     "output_type": "stream",
     "text": [
      "[1, 3, 5, 7, 9, 11, 13, 15, 17, 19, 21, 23, 25]\n"
     ]
    }
   ],
   "source": [
    "def odd():\n",
    "    od = []\n",
    "    for i in range(1, 26, 2):\n",
    "        od.append(i)\n",
    "    return od\n",
    "print(odd())"
   ]
  },
  {
   "cell_type": "markdown",
   "id": "c0d7e163",
   "metadata": {},
   "source": [
    "### Q2. Why *args and **kwargs is used in some functions? Create a function each for *args and **kwargs to demonstrate their use."
   ]
  },
  {
   "cell_type": "markdown",
   "id": "31da0b05",
   "metadata": {},
   "source": [
    "*args and *kwargs are used in Python functions when we want to pass a variable number of arguments to the function."
   ]
  },
  {
   "cell_type": "markdown",
   "id": "d0c8c5f1",
   "metadata": {},
   "source": [
    "- The *args syntax allows us to pass a variable number of non-keyword arguments to the function."
   ]
  },
  {
   "cell_type": "code",
   "execution_count": 11,
   "id": "51ad1ea2",
   "metadata": {},
   "outputs": [
    {
     "name": "stdout",
     "output_type": "stream",
     "text": [
      "45\n"
     ]
    }
   ],
   "source": [
    "def my_sum(*args):\n",
    "    total = 0\n",
    "    for num in args:\n",
    "        total += num\n",
    "    return total\n",
    "print(my_sum(1, 2, 3, 4, 5, 6, 7, 8, 9))"
   ]
  },
  {
   "cell_type": "markdown",
   "id": "b519c807",
   "metadata": {},
   "source": [
    "- The **kwargs syntax, on the other hand, allows us to pass a variable number of keyword arguments to the function. "
   ]
  },
  {
   "cell_type": "code",
   "execution_count": 12,
   "id": "7f29f89a",
   "metadata": {},
   "outputs": [
    {
     "name": "stdout",
     "output_type": "stream",
     "text": [
      "name: John\n",
      "age: 30\n",
      "city: New York\n"
     ]
    }
   ],
   "source": [
    "def print_info(**kwargs):\n",
    "    for key, value in kwargs.items():\n",
    "        print(f\"{key}: {value}\")\n",
    "print_info(name=\"John\", age=30, city=\"New York\")"
   ]
  },
  {
   "cell_type": "markdown",
   "id": "ff521e91",
   "metadata": {},
   "source": [
    "### Q3. What is an iterator in python? Name the method used to initialise the iterator object and the method used for iteration. Use these methods to print the first five elements of the given list [2, 4, 6, 8, 10, 12, 14, 16, 18, 20].\n"
   ]
  },
  {
   "cell_type": "markdown",
   "id": "c1e22bc4",
   "metadata": {},
   "source": [
    "- An iterator in Python is an object that allows us to traverse through a collection of data"
   ]
  },
  {
   "cell_type": "markdown",
   "id": "06357009",
   "metadata": {},
   "source": [
    "- To initialise an iterator object, we can use the built-in \"iter()\" method"
   ]
  },
  {
   "cell_type": "code",
   "execution_count": 14,
   "id": "3a4cd608",
   "metadata": {},
   "outputs": [
    {
     "name": "stdout",
     "output_type": "stream",
     "text": [
      "2, 4, 6, 8, 10, "
     ]
    }
   ],
   "source": [
    "my_list = [2, 4, 6, 8, 10, 12, 14, 16, 18, 20]\n",
    "my_iter = iter(my_list)\n",
    "for i in range(5):\n",
    "    print(next(my_iter), end =\", \")\n"
   ]
  },
  {
   "cell_type": "markdown",
   "id": "652f31ed",
   "metadata": {},
   "source": [
    "### Q4. What is a generator function in python? Why yield keyword is used? Give an example of a generator function.\n"
   ]
  },
  {
   "cell_type": "markdown",
   "id": "c562567b",
   "metadata": {},
   "source": [
    "- Generator function is a special type of function that can be used to create an iterable object.\n",
    "- The yield keyword is used in generator functions to define the values that will be returned by the generator object."
   ]
  },
  {
   "cell_type": "code",
   "execution_count": 16,
   "id": "0f98f37f",
   "metadata": {},
   "outputs": [
    {
     "name": "stdout",
     "output_type": "stream",
     "text": [
      "0, 1, 1, 2, 3, 5, 8, 13, 21, 34, "
     ]
    }
   ],
   "source": [
    "def fibonacci(n):\n",
    "    a, b = 0, 1\n",
    "    for i in range(n):\n",
    "        yield a\n",
    "        a, b = b, a + b\n",
    "for num in fibonacci(10):\n",
    "    print(num, end =\", \")"
   ]
  },
  {
   "cell_type": "markdown",
   "id": "351130b9",
   "metadata": {},
   "source": [
    "### Q5. Create a generator function for prime numbers less than 1000. Use the next() method to print the first 20 prime numbers."
   ]
  },
  {
   "cell_type": "code",
   "execution_count": 17,
   "id": "cd94bce2",
   "metadata": {},
   "outputs": [
    {
     "name": "stdout",
     "output_type": "stream",
     "text": [
      "2, 3, 5, 7, 11, 13, 17, 19, 23, 29, 31, 37, 41, 43, 47, 53, 59, 61, 67, 71, "
     ]
    }
   ],
   "source": [
    "def primes():\n",
    "    for num in range(2, 1000):\n",
    "        for i in range(2, num):\n",
    "            if num % i == 0:\n",
    "                break\n",
    "        else:\n",
    "            yield num\n",
    "\n",
    "prime_generator = primes()\n",
    "for i in range(20):\n",
    "    print(next(prime_generator), end = \", \")\n"
   ]
  },
  {
   "cell_type": "code",
   "execution_count": null,
   "id": "b992e78b",
   "metadata": {},
   "outputs": [],
   "source": []
  }
 ],
 "metadata": {
  "kernelspec": {
   "display_name": "Python 3 (ipykernel)",
   "language": "python",
   "name": "python3"
  },
  "language_info": {
   "codemirror_mode": {
    "name": "ipython",
    "version": 3
   },
   "file_extension": ".py",
   "mimetype": "text/x-python",
   "name": "python",
   "nbconvert_exporter": "python",
   "pygments_lexer": "ipython3",
   "version": "3.9.5"
  }
 },
 "nbformat": 4,
 "nbformat_minor": 5
}
