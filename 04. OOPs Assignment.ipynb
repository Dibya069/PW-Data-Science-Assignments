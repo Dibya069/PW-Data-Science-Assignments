{
 "cells": [
  {
   "cell_type": "markdown",
   "id": "d3273b3b",
   "metadata": {},
   "source": [
    "# Q1. Explain Class and Object with respect to Object-Oriented Programming. Give a suitable example.\n"
   ]
  },
  {
   "cell_type": "markdown",
   "id": "e8367606",
   "metadata": {},
   "source": [
    "- In Object-Oriented Programming (OOP), a class is a blueprint or template that defines the attributes and behaviors of objects that belong to that class. An object, on the other hand, is an instance of a class that has its own set of values for the attributes defined in the class and can perform the behaviors defined in the class."
   ]
  },
  {
   "cell_type": "code",
   "execution_count": 10,
   "id": "389c1c55",
   "metadata": {},
   "outputs": [
    {
     "name": "stdout",
     "output_type": "stream",
     "text": [
      "The red Toyota Corolla is driving.\n",
      "The blue Ford Mustang has stopped.\n"
     ]
    }
   ],
   "source": [
    "class Car:\n",
    "    def __init__(self, make, model, year, color):\n",
    "        self.make = make\n",
    "        self.model = model\n",
    "        self.year = year\n",
    "        self.color = color\n",
    "\n",
    "    def drive(self):\n",
    "        print(f\"The {self.color} {self.make} {self.model} is driving.\")\n",
    "\n",
    "    def stop(self):\n",
    "        print(f\"The {self.color} {self.make} {self.model} has stopped.\")\n",
    "\n",
    "my_car = Car(\"Toyota\", \"Corolla\", 2022, \"red\")\n",
    "your_car = Car(\"Ford\", \"Mustang\", 2023, \"blue\")\n",
    "\n",
    "my_car.drive()\n",
    "your_car.stop()"
   ]
  },
  {
   "cell_type": "code",
   "execution_count": null,
   "id": "529ab3f4",
   "metadata": {},
   "outputs": [],
   "source": []
  },
  {
   "cell_type": "code",
   "execution_count": null,
   "id": "b0b935e2",
   "metadata": {},
   "outputs": [],
   "source": []
  },
  {
   "cell_type": "markdown",
   "id": "408544ce",
   "metadata": {},
   "source": [
    "# Q2. Name the four pillars of OOPs.\n"
   ]
  },
  {
   "cell_type": "markdown",
   "id": "950cc677",
   "metadata": {},
   "source": [
    "1. Encapsulation\n",
    "2. Inheritance\n",
    "3. Polymorphism\n",
    "4. Abstraction"
   ]
  },
  {
   "cell_type": "code",
   "execution_count": null,
   "id": "d4447015",
   "metadata": {},
   "outputs": [],
   "source": []
  },
  {
   "cell_type": "code",
   "execution_count": null,
   "id": "a8f291bb",
   "metadata": {},
   "outputs": [],
   "source": []
  },
  {
   "cell_type": "markdown",
   "id": "35a96c5c",
   "metadata": {},
   "source": [
    "# Q3. Explain why the __init__() function is used. Give a suitable example.\n"
   ]
  },
  {
   "cell_type": "markdown",
   "id": "1a1890e1",
   "metadata": {},
   "source": [
    "In Python, __init__() is a special method that is called when an object is created from a class. It is used to initialize the attributes of the object, which are the variables that hold the state of the object."
   ]
  },
  {
   "cell_type": "code",
   "execution_count": 12,
   "id": "a57efe3c",
   "metadata": {},
   "outputs": [
    {
     "name": "stdout",
     "output_type": "stream",
     "text": [
      "2021 Ford Mustang\n"
     ]
    }
   ],
   "source": [
    "class Car:\n",
    "    def __init__(self, make, model, year):\n",
    "        self.make = make\n",
    "        self.model = model\n",
    "        self.year = year\n",
    "        self.odometer_reading = 0\n",
    "\n",
    "    def get_description(self):\n",
    "        return f\"{self.year} {self.make} {self.model}\"\n",
    "\n",
    "    def read_odometer(self):\n",
    "        return f\"This car has {self.odometer_reading} miles on it.\"\n",
    "\n",
    "    def update_odometer(self, mileage):\n",
    "        if mileage >= self.odometer_reading:\n",
    "            self.odometer_reading = mileage\n",
    "        else:\n",
    "            return \"You can't roll back an odometer!\"\n",
    "\n",
    "    def increment_odometer(self, miles):\n",
    "        self.odometer_reading += miles\n",
    "my_car = Car(\"Ford\", \"Mustang\", 2021)\n",
    "print(my_car.get_description())"
   ]
  },
  {
   "cell_type": "code",
   "execution_count": null,
   "id": "ae12f820",
   "metadata": {},
   "outputs": [],
   "source": []
  },
  {
   "cell_type": "code",
   "execution_count": null,
   "id": "65ad86b0",
   "metadata": {},
   "outputs": [],
   "source": []
  },
  {
   "cell_type": "markdown",
   "id": "28e8ec96",
   "metadata": {},
   "source": [
    "# Q4. Why self is used in OOPs?\n"
   ]
  },
  {
   "cell_type": "markdown",
   "id": "e8ec3766",
   "metadata": {},
   "source": [
    "- self is a reference to the instance of the class. It is used to refer to the instance variables and methods of the class. \n",
    "- The self keyword is used to distinguish between instance variables and local variables in a method"
   ]
  },
  {
   "cell_type": "code",
   "execution_count": null,
   "id": "bcf5c0db",
   "metadata": {},
   "outputs": [],
   "source": []
  },
  {
   "cell_type": "code",
   "execution_count": null,
   "id": "8f7e0e79",
   "metadata": {},
   "outputs": [],
   "source": []
  },
  {
   "cell_type": "markdown",
   "id": "cf2f29ac",
   "metadata": {},
   "source": [
    "# Q5. What is inheritance? Give an example for each type of inheritance."
   ]
  },
  {
   "cell_type": "markdown",
   "id": "26124eb2",
   "metadata": {},
   "source": [
    "Inheritance is a key concept in Object-Oriented Programming (OOP) that allows a new class to be based on an existing class."
   ]
  },
  {
   "cell_type": "markdown",
   "id": "34ab2a6b",
   "metadata": {},
   "source": [
    "1. Single inheritance: A single class inherits from one parent class.\n",
    "\n",
    "Example: A Car class that inherits from a Vehicle class. The Car class can access all the properties and methods of the Vehicle class, such as num_wheels, color, and start_engine(), as well as add its own properties and methods specific to cars, such as num_doors, make, and drive().\n"
   ]
  },
  {
   "cell_type": "markdown",
   "id": "948fc8b8",
   "metadata": {},
   "source": [
    "2. Multiple inheritance: A class inherits from more than one parent class.\n",
    "\n",
    "Example: A FlyingCar class that inherits from both the Car and Airplane classes. The FlyingCar class can access all the properties and methods of both the Car and Airplane classes, such as num_wheels, color, num_wings, take_off(), and land(), as well as add its own properties and methods specific to flying cars, such as max_altitude, fly(), and hover().\n",
    "\n"
   ]
  },
  {
   "cell_type": "markdown",
   "id": "854f6756",
   "metadata": {},
   "source": [
    "3. Multilevel inheritance: A class inherits from a parent class, which in turn inherits from another parent class.\n",
    "\n",
    "Example: A SportsCar class that inherits from the Car class, which in turn inherits from the Vehicle class. The SportsCar class can access all the properties and methods of both the Car and Vehicle classes, as well as add its own properties and methods specific to sports cars, such as top_speed, accelerate(), and drift().\n",
    "\n"
   ]
  },
  {
   "cell_type": "markdown",
   "id": "186b524b",
   "metadata": {},
   "source": [
    "4. Hierarchical inheritance: More than one class inherits from a single parent class.\n",
    "\n",
    "Example: A Truck class and a Motorcycle class that both inherit from the Vehicle class. The Truck and Motorcycle classes can access all the properties and methods of the Vehicle class, such as num_wheels, color, and start_engine(), as well as add their own properties and methods specific to trucks and motorcycles, respectively, such as max_payload, tow_trailer(), num_cylinders, and wheelie()."
   ]
  },
  {
   "cell_type": "code",
   "execution_count": null,
   "id": "b02fab15",
   "metadata": {},
   "outputs": [],
   "source": []
  },
  {
   "cell_type": "code",
   "execution_count": null,
   "id": "3d17f82f",
   "metadata": {},
   "outputs": [],
   "source": []
  }
 ],
 "metadata": {
  "kernelspec": {
   "display_name": "Python 3 (ipykernel)",
   "language": "python",
   "name": "python3"
  },
  "language_info": {
   "codemirror_mode": {
    "name": "ipython",
    "version": 3
   },
   "file_extension": ".py",
   "mimetype": "text/x-python",
   "name": "python",
   "nbconvert_exporter": "python",
   "pygments_lexer": "ipython3",
   "version": "3.9.5"
  }
 },
 "nbformat": 4,
 "nbformat_minor": 5
}
