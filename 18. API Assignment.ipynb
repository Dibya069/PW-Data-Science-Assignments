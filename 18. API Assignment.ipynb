{
 "cells": [
  {
   "cell_type": "markdown",
   "id": "cd143529",
   "metadata": {},
   "source": [
    "# Q1. What is an API? Give an example, where an API is used in real life.\n"
   ]
  },
  {
   "cell_type": "markdown",
   "id": "081d991c",
   "metadata": {},
   "source": [
    "1. API stands for Application Programming Interface. It is a set of protocols, routines, and tools that allow different software applications to communicate with each other. \n",
    "\n",
    "\n",
    "2. Real life example is Google Maps API. Google provides APIs that allow developers to access and retrieve data from Google Maps. Developers can use the Google Maps API to build custom applications that integrate with Google Maps, such as location-based services, route planners, and weather forecasting tools."
   ]
  },
  {
   "cell_type": "code",
   "execution_count": null,
   "id": "d523e5e1",
   "metadata": {},
   "outputs": [],
   "source": []
  },
  {
   "cell_type": "markdown",
   "id": "47e4e0f3",
   "metadata": {},
   "source": [
    "# Q2. Give advantages and disadvantages of using API.\n"
   ]
  },
  {
   "cell_type": "markdown",
   "id": "32a46e12",
   "metadata": {},
   "source": [
    "Advantages of using API:\n",
    "- Flexibility: APIs provide a flexible way to integrate different systems and applications. They allow developers to access and retrieve data from various sources and use it in their own applications.\n",
    "\n",
    "- Efficiency: APIs are designed to be lightweight and efficient, which means they can handle a large volume of requests and data processing without slowing down the system.\n",
    "\n",
    "- Scalability: APIs can easily scale to handle large amounts of data and users. They can be used to build applications that can handle millions of users and data points.\n",
    "\n",
    "- Standardization: APIs provide a standardized way of accessing and retrieving data, which makes it easier for developers to build applications that work across different systems and platforms.\n",
    "\n",
    "- Innovation: APIs encourage innovation and creativity by allowing developers to build custom applications that leverage existing data and services.\n",
    "\n",
    "\n",
    "    \n",
    "Disadvantages of using API:\n",
    "- Complexity: APIs can be complex to use and require technical knowledge and expertise. They may require significant development time and resources to integrate into an application.\n",
    "\n",
    "- Security: APIs can pose security risks if not properly secured. Developers must ensure that access to the API is restricted to authorized users and that data is properly encrypted and protected.\n",
    "\n",
    "- Reliance: When applications rely on third-party APIs, they become dependent on the reliability and availability of those APIs. If the API goes down or experiences performance issues, it can affect the performance of the application.\n",
    "\n",
    "- Cost: Some APIs may require payment or subscription fees, which can add to the cost of developing and maintaining an application.\n",
    "\n",
    "- Change management: When APIs change, it can affect the functionality of an application. Developers must ensure that they are notified of any changes and update their applications accordingly."
   ]
  },
  {
   "cell_type": "code",
   "execution_count": null,
   "id": "7d90a60a",
   "metadata": {},
   "outputs": [],
   "source": []
  },
  {
   "cell_type": "markdown",
   "id": "95b61bec",
   "metadata": {},
   "source": [
    "# Q3. What is a Web API? Differentiate between API and Web API.\n"
   ]
  },
  {
   "cell_type": "markdown",
   "id": "4d39a228",
   "metadata": {},
   "source": [
    "1. A Web API is a type of API that is designed to be used over the web, typically using HTTP or HTTPS protocols.\n",
    "\n",
    "\n",
    "2. The main difference between API and Web API is that API refers to a broader set of protocols, routines, and tools used to build software applications and enable communication between different systems, while Web API specifically refers to APIs that are accessed over the web."
   ]
  },
  {
   "cell_type": "code",
   "execution_count": null,
   "id": "acba8fc3",
   "metadata": {},
   "outputs": [],
   "source": []
  },
  {
   "cell_type": "markdown",
   "id": "e1372279",
   "metadata": {},
   "source": [
    "# Q4. Explain REST and SOAP Architecture. Mention shortcomings of SOAP.\n"
   ]
  },
  {
   "cell_type": "markdown",
   "id": "603cd10e",
   "metadata": {},
   "source": [
    "1. REST:\n",
    "- REST stands for Representational State Transfer. It is an architectural style that uses HTTP protocols to implement web services. RESTful web services are designed to be simple and lightweight, with a focus on scalability, reliability, and performance. \n",
    "\n",
    "2. SOAP:\n",
    "- SOAP stands for Simple Object Access Protocol. It is an XML-based messaging protocol used for exchanging structured data between web services.\n",
    "\n",
    "\n",
    "Shortcomings of SOAP:\n",
    "- Complexity\n",
    "- Performance\n",
    "- Scalability\n",
    "- Platform dependencie\n",
    "- Limited compatibility"
   ]
  },
  {
   "cell_type": "code",
   "execution_count": null,
   "id": "aafce6dd",
   "metadata": {},
   "outputs": [],
   "source": []
  },
  {
   "cell_type": "markdown",
   "id": "8507b2a4",
   "metadata": {},
   "source": [
    "# Q5. Differentiate between REST and SOAP."
   ]
  },
  {
   "cell_type": "markdown",
   "id": "fd2d9431",
   "metadata": {},
   "source": [
    "1. Protocol: REST uses simple HTTP protocols like GET, POST, PUT, and DELETE to perform operations on resources, while SOAP uses an XML-based messaging protocol for exchanging structured data between web services.\n",
    "\n",
    "2. Data format: REST typically uses lightweight and easy-to-parse formats like JSON or XML for data exchange, while SOAP uses a complex set of XML-based standards for message exchange, security, and routing.\n",
    "\n",
    "3. Flexibility: REST is a more flexible architectural style than SOAP, as it is not bound to any specific programming language or platform. This makes it easier to integrate with different systems and platforms. SOAP, on the other hand, is tightly coupled with the programming language and platform used to implement it.\n",
    "\n",
    "4. Performance: RESTful web services are typically faster and more scalable than SOAP web services, as they require less overhead for message exchange.\n",
    "\n",
    "5. Caching: RESTful web services can be easily cached, which can improve performance and reduce server load. SOAP web services, on the other hand, are more difficult to cache due to their complex message exchange protocols.\n",
    "\n",
    "6. Error handling: RESTful web services use HTTP error codes to indicate errors, while SOAP uses its own custom error codes."
   ]
  },
  {
   "cell_type": "code",
   "execution_count": null,
   "id": "47307990",
   "metadata": {},
   "outputs": [],
   "source": []
  }
 ],
 "metadata": {
  "kernelspec": {
   "display_name": "Python 3 (ipykernel)",
   "language": "python",
   "name": "python3"
  },
  "language_info": {
   "codemirror_mode": {
    "name": "ipython",
    "version": 3
   },
   "file_extension": ".py",
   "mimetype": "text/x-python",
   "name": "python",
   "nbconvert_exporter": "python",
   "pygments_lexer": "ipython3",
   "version": "3.9.5"
  }
 },
 "nbformat": 4,
 "nbformat_minor": 5
}
